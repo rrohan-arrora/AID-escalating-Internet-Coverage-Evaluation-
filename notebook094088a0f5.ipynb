{
 "cells": [
  {
   "cell_type": "markdown",
   "id": "50ec2e6c",
   "metadata": {
    "id": "IK5NUveZN5Fu",
    "papermill": {
     "duration": 0.031132,
     "end_time": "2022-12-11T13:41:24.621561",
     "exception": false,
     "start_time": "2022-12-11T13:41:24.590429",
     "status": "completed"
    },
    "tags": []
   },
   "source": [
    "##Importing libraries"
   ]
  },
  {
   "cell_type": "code",
   "execution_count": 1,
   "id": "a79a57e3",
   "metadata": {
    "execution": {
     "iopub.execute_input": "2022-12-11T13:41:24.673718Z",
     "iopub.status.busy": "2022-12-11T13:41:24.672864Z",
     "iopub.status.idle": "2022-12-11T13:41:26.017485Z",
     "shell.execute_reply": "2022-12-11T13:41:26.015836Z"
    },
    "id": "NsNRExi1NYz7",
    "papermill": {
     "duration": 1.374627,
     "end_time": "2022-12-11T13:41:26.021088",
     "exception": false,
     "start_time": "2022-12-11T13:41:24.646461",
     "status": "completed"
    },
    "tags": []
   },
   "outputs": [],
   "source": [
    "import numpy as np\n",
    "import pandas as pd\n",
    "import matplotlib.pyplot as plt\n",
    "import seaborn as sns\n",
    "import random"
   ]
  },
  {
   "cell_type": "code",
   "execution_count": 2,
   "id": "eef4c267",
   "metadata": {
    "execution": {
     "iopub.execute_input": "2022-12-11T13:41:26.069503Z",
     "iopub.status.busy": "2022-12-11T13:41:26.069027Z",
     "iopub.status.idle": "2022-12-11T13:41:26.688423Z",
     "shell.execute_reply": "2022-12-11T13:41:26.686177Z"
    },
    "id": "6d9-WxLxOYp0",
    "outputId": "95030812-9796-419a-d11d-64e057f9b108",
    "papermill": {
     "duration": 0.648059,
     "end_time": "2022-12-11T13:41:26.692509",
     "exception": false,
     "start_time": "2022-12-11T13:41:26.044450",
     "status": "completed"
    },
    "tags": []
   },
   "outputs": [
    {
     "name": "stdout",
     "output_type": "stream",
     "text": [
      "Train shape :  (4437, 27)\n"
     ]
    },
    {
     "data": {
      "text/html": [
       "<div>\n",
       "<style scoped>\n",
       "    .dataframe tbody tr th:only-of-type {\n",
       "        vertical-align: middle;\n",
       "    }\n",
       "\n",
       "    .dataframe tbody tr th {\n",
       "        vertical-align: top;\n",
       "    }\n",
       "\n",
       "    .dataframe thead th {\n",
       "        text-align: right;\n",
       "    }\n",
       "</style>\n",
       "<table border=\"1\" class=\"dataframe\">\n",
       "  <thead>\n",
       "    <tr style=\"text-align: right;\">\n",
       "      <th></th>\n",
       "      <th>link</th>\n",
       "      <th>link_id</th>\n",
       "      <th>page_description</th>\n",
       "      <th>alchemy_category</th>\n",
       "      <th>alchemy_category_score</th>\n",
       "      <th>avg_link_size</th>\n",
       "      <th>common_word_link_ratio_1</th>\n",
       "      <th>common_word_link_ratio_2</th>\n",
       "      <th>common_word_link_ratio_3</th>\n",
       "      <th>common_word_link_ratio_4</th>\n",
       "      <th>...</th>\n",
       "      <th>lengthy_link_domain</th>\n",
       "      <th>link_word_score</th>\n",
       "      <th>news_front_page</th>\n",
       "      <th>non_markup_alphanumeric_characters</th>\n",
       "      <th>count_of_links</th>\n",
       "      <th>number_of_words_in_url</th>\n",
       "      <th>parametrized_link_ratio</th>\n",
       "      <th>spelling_mistakes_ratio</th>\n",
       "      <th>label</th>\n",
       "      <th>indicator</th>\n",
       "    </tr>\n",
       "  </thead>\n",
       "  <tbody>\n",
       "    <tr>\n",
       "      <th>0</th>\n",
       "      <td>http://www.ellesnewenglandkitchen.com/blog/200...</td>\n",
       "      <td>4049</td>\n",
       "      <td>{\"title\":\"Elle s New England Kitchen Elle s Ne...</td>\n",
       "      <td>arts_entertainment</td>\n",
       "      <td>0.365831</td>\n",
       "      <td>1.217617</td>\n",
       "      <td>0.261307</td>\n",
       "      <td>0.035176</td>\n",
       "      <td>0.015075</td>\n",
       "      <td>0.005025</td>\n",
       "      <td>...</td>\n",
       "      <td>0</td>\n",
       "      <td>10</td>\n",
       "      <td>0</td>\n",
       "      <td>9492</td>\n",
       "      <td>199</td>\n",
       "      <td>6</td>\n",
       "      <td>0.045226</td>\n",
       "      <td>0.108460</td>\n",
       "      <td>2</td>\n",
       "      <td>0</td>\n",
       "    </tr>\n",
       "    <tr>\n",
       "      <th>1</th>\n",
       "      <td>http://www.alternet.org/story/149193/study_con...</td>\n",
       "      <td>3692</td>\n",
       "      <td>{\"url\":\"alternet org story 149193 study confir...</td>\n",
       "      <td>culture_politics</td>\n",
       "      <td>0.876315</td>\n",
       "      <td>3.814208</td>\n",
       "      <td>0.589744</td>\n",
       "      <td>0.261538</td>\n",
       "      <td>0.179487</td>\n",
       "      <td>0.107692</td>\n",
       "      <td>...</td>\n",
       "      <td>1</td>\n",
       "      <td>45</td>\n",
       "      <td>0</td>\n",
       "      <td>4370</td>\n",
       "      <td>195</td>\n",
       "      <td>9</td>\n",
       "      <td>0.112821</td>\n",
       "      <td>0.106181</td>\n",
       "      <td>2</td>\n",
       "      <td>0</td>\n",
       "    </tr>\n",
       "    <tr>\n",
       "      <th>2</th>\n",
       "      <td>http://www.wiredberries.com/</td>\n",
       "      <td>9739</td>\n",
       "      <td>{\"title\":\" \",\"body\":\" \",\"url\":\"wiredberries\"}</td>\n",
       "      <td>?</td>\n",
       "      <td>?</td>\n",
       "      <td>1.793103</td>\n",
       "      <td>0.402299</td>\n",
       "      <td>0.183908</td>\n",
       "      <td>0.000000</td>\n",
       "      <td>0.000000</td>\n",
       "      <td>...</td>\n",
       "      <td>1</td>\n",
       "      <td>48</td>\n",
       "      <td>?</td>\n",
       "      <td>921</td>\n",
       "      <td>87</td>\n",
       "      <td>0</td>\n",
       "      <td>0.011494</td>\n",
       "      <td>1.000000</td>\n",
       "      <td>2</td>\n",
       "      <td>0</td>\n",
       "    </tr>\n",
       "    <tr>\n",
       "      <th>3</th>\n",
       "      <td>http://www.elements4health.com/cayenne-pepper....</td>\n",
       "      <td>1548</td>\n",
       "      <td>{\"title\":\"The Health Benefits of Cayenne Peppe...</td>\n",
       "      <td>?</td>\n",
       "      <td>?</td>\n",
       "      <td>2.083333</td>\n",
       "      <td>0.636364</td>\n",
       "      <td>0.279720</td>\n",
       "      <td>0.041958</td>\n",
       "      <td>0.000000</td>\n",
       "      <td>...</td>\n",
       "      <td>0</td>\n",
       "      <td>15</td>\n",
       "      <td>0</td>\n",
       "      <td>8474</td>\n",
       "      <td>143</td>\n",
       "      <td>2</td>\n",
       "      <td>0.027972</td>\n",
       "      <td>0.064083</td>\n",
       "      <td>2</td>\n",
       "      <td>0</td>\n",
       "    </tr>\n",
       "    <tr>\n",
       "      <th>4</th>\n",
       "      <td>http://www.poorgirleatswell.com/2009/10/recipe...</td>\n",
       "      <td>5574</td>\n",
       "      <td>{\"title\":\"Recipe Hearty Mushroom Potato Soup \"...</td>\n",
       "      <td>recreation</td>\n",
       "      <td>0.747449</td>\n",
       "      <td>1.845815</td>\n",
       "      <td>0.676856</td>\n",
       "      <td>0.310044</td>\n",
       "      <td>0.183406</td>\n",
       "      <td>0.148472</td>\n",
       "      <td>...</td>\n",
       "      <td>1</td>\n",
       "      <td>14</td>\n",
       "      <td>0</td>\n",
       "      <td>11448</td>\n",
       "      <td>229</td>\n",
       "      <td>5</td>\n",
       "      <td>0.152838</td>\n",
       "      <td>0.087533</td>\n",
       "      <td>2</td>\n",
       "      <td>0</td>\n",
       "    </tr>\n",
       "  </tbody>\n",
       "</table>\n",
       "<p>5 rows × 28 columns</p>\n",
       "</div>"
      ],
      "text/plain": [
       "                                                link  link_id  \\\n",
       "0  http://www.ellesnewenglandkitchen.com/blog/200...     4049   \n",
       "1  http://www.alternet.org/story/149193/study_con...     3692   \n",
       "2                       http://www.wiredberries.com/     9739   \n",
       "3  http://www.elements4health.com/cayenne-pepper....     1548   \n",
       "4  http://www.poorgirleatswell.com/2009/10/recipe...     5574   \n",
       "\n",
       "                                    page_description    alchemy_category  \\\n",
       "0  {\"title\":\"Elle s New England Kitchen Elle s Ne...  arts_entertainment   \n",
       "1  {\"url\":\"alternet org story 149193 study confir...    culture_politics   \n",
       "2      {\"title\":\" \",\"body\":\" \",\"url\":\"wiredberries\"}                   ?   \n",
       "3  {\"title\":\"The Health Benefits of Cayenne Peppe...                   ?   \n",
       "4  {\"title\":\"Recipe Hearty Mushroom Potato Soup \"...          recreation   \n",
       "\n",
       "  alchemy_category_score  avg_link_size  common_word_link_ratio_1  \\\n",
       "0               0.365831       1.217617                  0.261307   \n",
       "1               0.876315       3.814208                  0.589744   \n",
       "2                      ?       1.793103                  0.402299   \n",
       "3                      ?       2.083333                  0.636364   \n",
       "4               0.747449       1.845815                  0.676856   \n",
       "\n",
       "   common_word_link_ratio_2  common_word_link_ratio_3  \\\n",
       "0                  0.035176                  0.015075   \n",
       "1                  0.261538                  0.179487   \n",
       "2                  0.183908                  0.000000   \n",
       "3                  0.279720                  0.041958   \n",
       "4                  0.310044                  0.183406   \n",
       "\n",
       "   common_word_link_ratio_4  ...  lengthy_link_domain  link_word_score  \\\n",
       "0                  0.005025  ...                    0               10   \n",
       "1                  0.107692  ...                    1               45   \n",
       "2                  0.000000  ...                    1               48   \n",
       "3                  0.000000  ...                    0               15   \n",
       "4                  0.148472  ...                    1               14   \n",
       "\n",
       "   news_front_page  non_markup_alphanumeric_characters  count_of_links  \\\n",
       "0                0                                9492             199   \n",
       "1                0                                4370             195   \n",
       "2                ?                                 921              87   \n",
       "3                0                                8474             143   \n",
       "4                0                               11448             229   \n",
       "\n",
       "   number_of_words_in_url  parametrized_link_ratio spelling_mistakes_ratio  \\\n",
       "0                       6                 0.045226                0.108460   \n",
       "1                       9                 0.112821                0.106181   \n",
       "2                       0                 0.011494                1.000000   \n",
       "3                       2                 0.027972                0.064083   \n",
       "4                       5                 0.152838                0.087533   \n",
       "\n",
       "   label  indicator  \n",
       "0      2          0  \n",
       "1      2          0  \n",
       "2      2          0  \n",
       "3      2          0  \n",
       "4      2          0  \n",
       "\n",
       "[5 rows x 28 columns]"
      ]
     },
     "execution_count": 2,
     "metadata": {},
     "output_type": "execute_result"
    }
   ],
   "source": [
    "# train = pd.read_csv(\"train.csv\")\n",
    " \n",
    "# from google.colab import drive\n",
    "# drive.mount('/content/drive')\n",
    "train_df =pd.read_csv(\"../input/aidescalatingdataset/train.csv\")\n",
    "test =pd.read_csv(\"../input/test-dataset/test.csv\")\n",
    "print(\"Train shape : \",train_df.shape)\n",
    "\n",
    "test['label'] = 2\n",
    "test['indicator'] = 0\n",
    "train_df['indicator'] = 1\n",
    "train = pd.concat([test,train_df])\n",
    "train.head()"
   ]
  },
  {
   "cell_type": "code",
   "execution_count": 3,
   "id": "c3957fa3",
   "metadata": {
    "execution": {
     "iopub.execute_input": "2022-12-11T13:41:26.743056Z",
     "iopub.status.busy": "2022-12-11T13:41:26.742529Z",
     "iopub.status.idle": "2022-12-11T13:41:26.750770Z",
     "shell.execute_reply": "2022-12-11T13:41:26.749261Z"
    },
    "id": "-QvlqOohO56_",
    "outputId": "dd1fbf5a-8163-4568-a82d-10d9a2b22013",
    "papermill": {
     "duration": 0.035358,
     "end_time": "2022-12-11T13:41:26.753248",
     "exception": false,
     "start_time": "2022-12-11T13:41:26.717890",
     "status": "completed"
    },
    "tags": []
   },
   "outputs": [
    {
     "data": {
      "text/plain": [
       "(2958, 28)"
      ]
     },
     "execution_count": 3,
     "metadata": {},
     "output_type": "execute_result"
    }
   ],
   "source": [
    "test.shape"
   ]
  },
  {
   "cell_type": "code",
   "execution_count": 4,
   "id": "21b4f2dd",
   "metadata": {
    "execution": {
     "iopub.execute_input": "2022-12-11T13:41:26.805761Z",
     "iopub.status.busy": "2022-12-11T13:41:26.804400Z",
     "iopub.status.idle": "2022-12-11T13:41:26.812769Z",
     "shell.execute_reply": "2022-12-11T13:41:26.811172Z"
    },
    "id": "K8vwo0FRO_Fr",
    "outputId": "c2b075a8-a715-4fb7-cd12-c9b2b36b5cdd",
    "papermill": {
     "duration": 0.037742,
     "end_time": "2022-12-11T13:41:26.816125",
     "exception": false,
     "start_time": "2022-12-11T13:41:26.778383",
     "status": "completed"
    },
    "tags": []
   },
   "outputs": [
    {
     "data": {
      "text/plain": [
       "Index(['link', 'link_id', 'page_description', 'alchemy_category',\n",
       "       'alchemy_category_score', 'avg_link_size', 'common_word_link_ratio_1',\n",
       "       'common_word_link_ratio_2', 'common_word_link_ratio_3',\n",
       "       'common_word_link_ratio_4', 'compression_ratio', 'embed_ratio',\n",
       "       'frame_based', 'frame_tag_ratio', 'has_domain_link', 'html_ratio',\n",
       "       'image_ratio', 'is_news', 'lengthy_link_domain', 'link_word_score',\n",
       "       'news_front_page', 'non_markup_alphanumeric_characters',\n",
       "       'count_of_links', 'number_of_words_in_url', 'parametrized_link_ratio',\n",
       "       'spelling_mistakes_ratio', 'label', 'indicator'],\n",
       "      dtype='object')"
      ]
     },
     "execution_count": 4,
     "metadata": {},
     "output_type": "execute_result"
    }
   ],
   "source": [
    "train.columns"
   ]
  },
  {
   "cell_type": "code",
   "execution_count": 5,
   "id": "7837929e",
   "metadata": {
    "execution": {
     "iopub.execute_input": "2022-12-11T13:41:26.871016Z",
     "iopub.status.busy": "2022-12-11T13:41:26.870196Z",
     "iopub.status.idle": "2022-12-11T13:41:26.900050Z",
     "shell.execute_reply": "2022-12-11T13:41:26.898609Z"
    },
    "id": "RE4FqeRaQFsm",
    "outputId": "af381613-ec40-426a-8f43-148491647c68",
    "papermill": {
     "duration": 0.060837,
     "end_time": "2022-12-11T13:41:26.902942",
     "exception": false,
     "start_time": "2022-12-11T13:41:26.842105",
     "status": "completed"
    },
    "tags": []
   },
   "outputs": [
    {
     "data": {
      "text/html": [
       "<div>\n",
       "<style scoped>\n",
       "    .dataframe tbody tr th:only-of-type {\n",
       "        vertical-align: middle;\n",
       "    }\n",
       "\n",
       "    .dataframe tbody tr th {\n",
       "        vertical-align: top;\n",
       "    }\n",
       "\n",
       "    .dataframe thead th {\n",
       "        text-align: right;\n",
       "    }\n",
       "</style>\n",
       "<table border=\"1\" class=\"dataframe\">\n",
       "  <thead>\n",
       "    <tr style=\"text-align: right;\">\n",
       "      <th></th>\n",
       "      <th>link</th>\n",
       "      <th>link_id</th>\n",
       "      <th>page_description</th>\n",
       "      <th>alchemy_category</th>\n",
       "      <th>alchemy_category_score</th>\n",
       "      <th>avg_link_size</th>\n",
       "      <th>common_word_link_ratio_1</th>\n",
       "      <th>common_word_link_ratio_2</th>\n",
       "      <th>common_word_link_ratio_3</th>\n",
       "      <th>common_word_link_ratio_4</th>\n",
       "      <th>...</th>\n",
       "      <th>lengthy_link_domain</th>\n",
       "      <th>link_word_score</th>\n",
       "      <th>news_front_page</th>\n",
       "      <th>non_markup_alphanumeric_characters</th>\n",
       "      <th>count_of_links</th>\n",
       "      <th>number_of_words_in_url</th>\n",
       "      <th>parametrized_link_ratio</th>\n",
       "      <th>spelling_mistakes_ratio</th>\n",
       "      <th>label</th>\n",
       "      <th>indicator</th>\n",
       "    </tr>\n",
       "  </thead>\n",
       "  <tbody>\n",
       "    <tr>\n",
       "      <th>0</th>\n",
       "      <td>http://www.ellesnewenglandkitchen.com/blog/200...</td>\n",
       "      <td>4049</td>\n",
       "      <td>{\"title\":\"Elle s New England Kitchen Elle s Ne...</td>\n",
       "      <td>arts_entertainment</td>\n",
       "      <td>0.365831</td>\n",
       "      <td>1.217617</td>\n",
       "      <td>0.261307</td>\n",
       "      <td>0.035176</td>\n",
       "      <td>0.015075</td>\n",
       "      <td>0.005025</td>\n",
       "      <td>...</td>\n",
       "      <td>0</td>\n",
       "      <td>10</td>\n",
       "      <td>0</td>\n",
       "      <td>9492</td>\n",
       "      <td>199</td>\n",
       "      <td>6</td>\n",
       "      <td>0.045226</td>\n",
       "      <td>0.108460</td>\n",
       "      <td>2</td>\n",
       "      <td>0</td>\n",
       "    </tr>\n",
       "    <tr>\n",
       "      <th>1</th>\n",
       "      <td>http://www.alternet.org/story/149193/study_con...</td>\n",
       "      <td>3692</td>\n",
       "      <td>{\"url\":\"alternet org story 149193 study confir...</td>\n",
       "      <td>culture_politics</td>\n",
       "      <td>0.876315</td>\n",
       "      <td>3.814208</td>\n",
       "      <td>0.589744</td>\n",
       "      <td>0.261538</td>\n",
       "      <td>0.179487</td>\n",
       "      <td>0.107692</td>\n",
       "      <td>...</td>\n",
       "      <td>1</td>\n",
       "      <td>45</td>\n",
       "      <td>0</td>\n",
       "      <td>4370</td>\n",
       "      <td>195</td>\n",
       "      <td>9</td>\n",
       "      <td>0.112821</td>\n",
       "      <td>0.106181</td>\n",
       "      <td>2</td>\n",
       "      <td>0</td>\n",
       "    </tr>\n",
       "    <tr>\n",
       "      <th>2</th>\n",
       "      <td>http://www.wiredberries.com/</td>\n",
       "      <td>9739</td>\n",
       "      <td>{\"title\":\" \",\"body\":\" \",\"url\":\"wiredberries\"}</td>\n",
       "      <td>?</td>\n",
       "      <td>?</td>\n",
       "      <td>1.793103</td>\n",
       "      <td>0.402299</td>\n",
       "      <td>0.183908</td>\n",
       "      <td>0.000000</td>\n",
       "      <td>0.000000</td>\n",
       "      <td>...</td>\n",
       "      <td>1</td>\n",
       "      <td>48</td>\n",
       "      <td>?</td>\n",
       "      <td>921</td>\n",
       "      <td>87</td>\n",
       "      <td>0</td>\n",
       "      <td>0.011494</td>\n",
       "      <td>1.000000</td>\n",
       "      <td>2</td>\n",
       "      <td>0</td>\n",
       "    </tr>\n",
       "    <tr>\n",
       "      <th>3</th>\n",
       "      <td>http://www.elements4health.com/cayenne-pepper....</td>\n",
       "      <td>1548</td>\n",
       "      <td>{\"title\":\"The Health Benefits of Cayenne Peppe...</td>\n",
       "      <td>?</td>\n",
       "      <td>?</td>\n",
       "      <td>2.083333</td>\n",
       "      <td>0.636364</td>\n",
       "      <td>0.279720</td>\n",
       "      <td>0.041958</td>\n",
       "      <td>0.000000</td>\n",
       "      <td>...</td>\n",
       "      <td>0</td>\n",
       "      <td>15</td>\n",
       "      <td>0</td>\n",
       "      <td>8474</td>\n",
       "      <td>143</td>\n",
       "      <td>2</td>\n",
       "      <td>0.027972</td>\n",
       "      <td>0.064083</td>\n",
       "      <td>2</td>\n",
       "      <td>0</td>\n",
       "    </tr>\n",
       "    <tr>\n",
       "      <th>4</th>\n",
       "      <td>http://www.poorgirleatswell.com/2009/10/recipe...</td>\n",
       "      <td>5574</td>\n",
       "      <td>{\"title\":\"Recipe Hearty Mushroom Potato Soup \"...</td>\n",
       "      <td>recreation</td>\n",
       "      <td>0.747449</td>\n",
       "      <td>1.845815</td>\n",
       "      <td>0.676856</td>\n",
       "      <td>0.310044</td>\n",
       "      <td>0.183406</td>\n",
       "      <td>0.148472</td>\n",
       "      <td>...</td>\n",
       "      <td>1</td>\n",
       "      <td>14</td>\n",
       "      <td>0</td>\n",
       "      <td>11448</td>\n",
       "      <td>229</td>\n",
       "      <td>5</td>\n",
       "      <td>0.152838</td>\n",
       "      <td>0.087533</td>\n",
       "      <td>2</td>\n",
       "      <td>0</td>\n",
       "    </tr>\n",
       "  </tbody>\n",
       "</table>\n",
       "<p>5 rows × 28 columns</p>\n",
       "</div>"
      ],
      "text/plain": [
       "                                                link  link_id  \\\n",
       "0  http://www.ellesnewenglandkitchen.com/blog/200...     4049   \n",
       "1  http://www.alternet.org/story/149193/study_con...     3692   \n",
       "2                       http://www.wiredberries.com/     9739   \n",
       "3  http://www.elements4health.com/cayenne-pepper....     1548   \n",
       "4  http://www.poorgirleatswell.com/2009/10/recipe...     5574   \n",
       "\n",
       "                                    page_description    alchemy_category  \\\n",
       "0  {\"title\":\"Elle s New England Kitchen Elle s Ne...  arts_entertainment   \n",
       "1  {\"url\":\"alternet org story 149193 study confir...    culture_politics   \n",
       "2      {\"title\":\" \",\"body\":\" \",\"url\":\"wiredberries\"}                   ?   \n",
       "3  {\"title\":\"The Health Benefits of Cayenne Peppe...                   ?   \n",
       "4  {\"title\":\"Recipe Hearty Mushroom Potato Soup \"...          recreation   \n",
       "\n",
       "  alchemy_category_score  avg_link_size  common_word_link_ratio_1  \\\n",
       "0               0.365831       1.217617                  0.261307   \n",
       "1               0.876315       3.814208                  0.589744   \n",
       "2                      ?       1.793103                  0.402299   \n",
       "3                      ?       2.083333                  0.636364   \n",
       "4               0.747449       1.845815                  0.676856   \n",
       "\n",
       "   common_word_link_ratio_2  common_word_link_ratio_3  \\\n",
       "0                  0.035176                  0.015075   \n",
       "1                  0.261538                  0.179487   \n",
       "2                  0.183908                  0.000000   \n",
       "3                  0.279720                  0.041958   \n",
       "4                  0.310044                  0.183406   \n",
       "\n",
       "   common_word_link_ratio_4  ...  lengthy_link_domain  link_word_score  \\\n",
       "0                  0.005025  ...                    0               10   \n",
       "1                  0.107692  ...                    1               45   \n",
       "2                  0.000000  ...                    1               48   \n",
       "3                  0.000000  ...                    0               15   \n",
       "4                  0.148472  ...                    1               14   \n",
       "\n",
       "   news_front_page  non_markup_alphanumeric_characters  count_of_links  \\\n",
       "0                0                                9492             199   \n",
       "1                0                                4370             195   \n",
       "2                ?                                 921              87   \n",
       "3                0                                8474             143   \n",
       "4                0                               11448             229   \n",
       "\n",
       "   number_of_words_in_url  parametrized_link_ratio spelling_mistakes_ratio  \\\n",
       "0                       6                 0.045226                0.108460   \n",
       "1                       9                 0.112821                0.106181   \n",
       "2                       0                 0.011494                1.000000   \n",
       "3                       2                 0.027972                0.064083   \n",
       "4                       5                 0.152838                0.087533   \n",
       "\n",
       "   label  indicator  \n",
       "0      2          0  \n",
       "1      2          0  \n",
       "2      2          0  \n",
       "3      2          0  \n",
       "4      2          0  \n",
       "\n",
       "[5 rows x 28 columns]"
      ]
     },
     "execution_count": 5,
     "metadata": {},
     "output_type": "execute_result"
    }
   ],
   "source": [
    "train.head()"
   ]
  },
  {
   "cell_type": "code",
   "execution_count": 6,
   "id": "835c285d",
   "metadata": {
    "execution": {
     "iopub.execute_input": "2022-12-11T13:41:26.957117Z",
     "iopub.status.busy": "2022-12-11T13:41:26.956293Z",
     "iopub.status.idle": "2022-12-11T13:41:26.961180Z",
     "shell.execute_reply": "2022-12-11T13:41:26.960268Z"
    },
    "id": "tQI5dIFUQac_",
    "papermill": {
     "duration": 0.034724,
     "end_time": "2022-12-11T13:41:26.963560",
     "exception": false,
     "start_time": "2022-12-11T13:41:26.928836",
     "status": "completed"
    },
    "tags": []
   },
   "outputs": [],
   "source": [
    "# Y=train['label']\n",
    "# Y.value_counts()"
   ]
  },
  {
   "cell_type": "code",
   "execution_count": 7,
   "id": "c61c08c3",
   "metadata": {
    "execution": {
     "iopub.execute_input": "2022-12-11T13:41:27.014951Z",
     "iopub.status.busy": "2022-12-11T13:41:27.014435Z",
     "iopub.status.idle": "2022-12-11T13:41:27.046795Z",
     "shell.execute_reply": "2022-12-11T13:41:27.045206Z"
    },
    "id": "JqpROGHwQ4Ha",
    "outputId": "983dc3e3-161a-4b58-b19f-a9c457718ada",
    "papermill": {
     "duration": 0.061048,
     "end_time": "2022-12-11T13:41:27.049129",
     "exception": false,
     "start_time": "2022-12-11T13:41:26.988081",
     "status": "completed"
    },
    "tags": []
   },
   "outputs": [
    {
     "data": {
      "text/html": [
       "<div>\n",
       "<style scoped>\n",
       "    .dataframe tbody tr th:only-of-type {\n",
       "        vertical-align: middle;\n",
       "    }\n",
       "\n",
       "    .dataframe tbody tr th {\n",
       "        vertical-align: top;\n",
       "    }\n",
       "\n",
       "    .dataframe thead th {\n",
       "        text-align: right;\n",
       "    }\n",
       "</style>\n",
       "<table border=\"1\" class=\"dataframe\">\n",
       "  <thead>\n",
       "    <tr style=\"text-align: right;\">\n",
       "      <th></th>\n",
       "      <th>link</th>\n",
       "      <th>link_id</th>\n",
       "      <th>page_description</th>\n",
       "      <th>alchemy_category</th>\n",
       "      <th>alchemy_category_score</th>\n",
       "      <th>avg_link_size</th>\n",
       "      <th>common_word_link_ratio_1</th>\n",
       "      <th>common_word_link_ratio_2</th>\n",
       "      <th>common_word_link_ratio_3</th>\n",
       "      <th>common_word_link_ratio_4</th>\n",
       "      <th>...</th>\n",
       "      <th>lengthy_link_domain</th>\n",
       "      <th>link_word_score</th>\n",
       "      <th>news_front_page</th>\n",
       "      <th>non_markup_alphanumeric_characters</th>\n",
       "      <th>count_of_links</th>\n",
       "      <th>number_of_words_in_url</th>\n",
       "      <th>parametrized_link_ratio</th>\n",
       "      <th>spelling_mistakes_ratio</th>\n",
       "      <th>label</th>\n",
       "      <th>indicator</th>\n",
       "    </tr>\n",
       "  </thead>\n",
       "  <tbody>\n",
       "    <tr>\n",
       "      <th>0</th>\n",
       "      <td>http://www.ellesnewenglandkitchen.com/blog/200...</td>\n",
       "      <td>4049</td>\n",
       "      <td>{\"title\":\"Elle s New England Kitchen Elle s Ne...</td>\n",
       "      <td>arts_entertainment</td>\n",
       "      <td>0.365831</td>\n",
       "      <td>1.217617</td>\n",
       "      <td>0.261307</td>\n",
       "      <td>0.035176</td>\n",
       "      <td>0.015075</td>\n",
       "      <td>0.005025</td>\n",
       "      <td>...</td>\n",
       "      <td>0</td>\n",
       "      <td>10</td>\n",
       "      <td>0</td>\n",
       "      <td>9492</td>\n",
       "      <td>199</td>\n",
       "      <td>6</td>\n",
       "      <td>0.045226</td>\n",
       "      <td>0.108460</td>\n",
       "      <td>2</td>\n",
       "      <td>0</td>\n",
       "    </tr>\n",
       "    <tr>\n",
       "      <th>1</th>\n",
       "      <td>http://www.alternet.org/story/149193/study_con...</td>\n",
       "      <td>3692</td>\n",
       "      <td>{\"url\":\"alternet org story 149193 study confir...</td>\n",
       "      <td>culture_politics</td>\n",
       "      <td>0.876315</td>\n",
       "      <td>3.814208</td>\n",
       "      <td>0.589744</td>\n",
       "      <td>0.261538</td>\n",
       "      <td>0.179487</td>\n",
       "      <td>0.107692</td>\n",
       "      <td>...</td>\n",
       "      <td>1</td>\n",
       "      <td>45</td>\n",
       "      <td>0</td>\n",
       "      <td>4370</td>\n",
       "      <td>195</td>\n",
       "      <td>9</td>\n",
       "      <td>0.112821</td>\n",
       "      <td>0.106181</td>\n",
       "      <td>2</td>\n",
       "      <td>0</td>\n",
       "    </tr>\n",
       "    <tr>\n",
       "      <th>2</th>\n",
       "      <td>http://www.wiredberries.com/</td>\n",
       "      <td>9739</td>\n",
       "      <td>{\"title\":\" \",\"body\":\" \",\"url\":\"wiredberries\"}</td>\n",
       "      <td>?</td>\n",
       "      <td>?</td>\n",
       "      <td>1.793103</td>\n",
       "      <td>0.402299</td>\n",
       "      <td>0.183908</td>\n",
       "      <td>0.000000</td>\n",
       "      <td>0.000000</td>\n",
       "      <td>...</td>\n",
       "      <td>1</td>\n",
       "      <td>48</td>\n",
       "      <td>?</td>\n",
       "      <td>921</td>\n",
       "      <td>87</td>\n",
       "      <td>0</td>\n",
       "      <td>0.011494</td>\n",
       "      <td>1.000000</td>\n",
       "      <td>2</td>\n",
       "      <td>0</td>\n",
       "    </tr>\n",
       "    <tr>\n",
       "      <th>3</th>\n",
       "      <td>http://www.elements4health.com/cayenne-pepper....</td>\n",
       "      <td>1548</td>\n",
       "      <td>{\"title\":\"The Health Benefits of Cayenne Peppe...</td>\n",
       "      <td>?</td>\n",
       "      <td>?</td>\n",
       "      <td>2.083333</td>\n",
       "      <td>0.636364</td>\n",
       "      <td>0.279720</td>\n",
       "      <td>0.041958</td>\n",
       "      <td>0.000000</td>\n",
       "      <td>...</td>\n",
       "      <td>0</td>\n",
       "      <td>15</td>\n",
       "      <td>0</td>\n",
       "      <td>8474</td>\n",
       "      <td>143</td>\n",
       "      <td>2</td>\n",
       "      <td>0.027972</td>\n",
       "      <td>0.064083</td>\n",
       "      <td>2</td>\n",
       "      <td>0</td>\n",
       "    </tr>\n",
       "    <tr>\n",
       "      <th>4</th>\n",
       "      <td>http://www.poorgirleatswell.com/2009/10/recipe...</td>\n",
       "      <td>5574</td>\n",
       "      <td>{\"title\":\"Recipe Hearty Mushroom Potato Soup \"...</td>\n",
       "      <td>recreation</td>\n",
       "      <td>0.747449</td>\n",
       "      <td>1.845815</td>\n",
       "      <td>0.676856</td>\n",
       "      <td>0.310044</td>\n",
       "      <td>0.183406</td>\n",
       "      <td>0.148472</td>\n",
       "      <td>...</td>\n",
       "      <td>1</td>\n",
       "      <td>14</td>\n",
       "      <td>0</td>\n",
       "      <td>11448</td>\n",
       "      <td>229</td>\n",
       "      <td>5</td>\n",
       "      <td>0.152838</td>\n",
       "      <td>0.087533</td>\n",
       "      <td>2</td>\n",
       "      <td>0</td>\n",
       "    </tr>\n",
       "  </tbody>\n",
       "</table>\n",
       "<p>5 rows × 28 columns</p>\n",
       "</div>"
      ],
      "text/plain": [
       "                                                link  link_id  \\\n",
       "0  http://www.ellesnewenglandkitchen.com/blog/200...     4049   \n",
       "1  http://www.alternet.org/story/149193/study_con...     3692   \n",
       "2                       http://www.wiredberries.com/     9739   \n",
       "3  http://www.elements4health.com/cayenne-pepper....     1548   \n",
       "4  http://www.poorgirleatswell.com/2009/10/recipe...     5574   \n",
       "\n",
       "                                    page_description    alchemy_category  \\\n",
       "0  {\"title\":\"Elle s New England Kitchen Elle s Ne...  arts_entertainment   \n",
       "1  {\"url\":\"alternet org story 149193 study confir...    culture_politics   \n",
       "2      {\"title\":\" \",\"body\":\" \",\"url\":\"wiredberries\"}                   ?   \n",
       "3  {\"title\":\"The Health Benefits of Cayenne Peppe...                   ?   \n",
       "4  {\"title\":\"Recipe Hearty Mushroom Potato Soup \"...          recreation   \n",
       "\n",
       "  alchemy_category_score  avg_link_size  common_word_link_ratio_1  \\\n",
       "0               0.365831       1.217617                  0.261307   \n",
       "1               0.876315       3.814208                  0.589744   \n",
       "2                      ?       1.793103                  0.402299   \n",
       "3                      ?       2.083333                  0.636364   \n",
       "4               0.747449       1.845815                  0.676856   \n",
       "\n",
       "   common_word_link_ratio_2  common_word_link_ratio_3  \\\n",
       "0                  0.035176                  0.015075   \n",
       "1                  0.261538                  0.179487   \n",
       "2                  0.183908                  0.000000   \n",
       "3                  0.279720                  0.041958   \n",
       "4                  0.310044                  0.183406   \n",
       "\n",
       "   common_word_link_ratio_4  ...  lengthy_link_domain  link_word_score  \\\n",
       "0                  0.005025  ...                    0               10   \n",
       "1                  0.107692  ...                    1               45   \n",
       "2                  0.000000  ...                    1               48   \n",
       "3                  0.000000  ...                    0               15   \n",
       "4                  0.148472  ...                    1               14   \n",
       "\n",
       "   news_front_page  non_markup_alphanumeric_characters  count_of_links  \\\n",
       "0                0                                9492             199   \n",
       "1                0                                4370             195   \n",
       "2                ?                                 921              87   \n",
       "3                0                                8474             143   \n",
       "4                0                               11448             229   \n",
       "\n",
       "   number_of_words_in_url  parametrized_link_ratio spelling_mistakes_ratio  \\\n",
       "0                       6                 0.045226                0.108460   \n",
       "1                       9                 0.112821                0.106181   \n",
       "2                       0                 0.011494                1.000000   \n",
       "3                       2                 0.027972                0.064083   \n",
       "4                       5                 0.152838                0.087533   \n",
       "\n",
       "   label  indicator  \n",
       "0      2          0  \n",
       "1      2          0  \n",
       "2      2          0  \n",
       "3      2          0  \n",
       "4      2          0  \n",
       "\n",
       "[5 rows x 28 columns]"
      ]
     },
     "execution_count": 7,
     "metadata": {},
     "output_type": "execute_result"
    }
   ],
   "source": [
    "X=train;\n",
    "X.head()"
   ]
  },
  {
   "cell_type": "markdown",
   "id": "3c48eccd",
   "metadata": {
    "id": "eH0n7eUcUMFc",
    "papermill": {
     "duration": 0.024411,
     "end_time": "2022-12-11T13:41:27.098504",
     "exception": false,
     "start_time": "2022-12-11T13:41:27.074093",
     "status": "completed"
    },
    "tags": []
   },
   "source": [
    "## PRE-PROCESSING EDA"
   ]
  },
  {
   "cell_type": "markdown",
   "id": "264cf721",
   "metadata": {
    "id": "K3DR55EgAFk0",
    "papermill": {
     "duration": 0.026517,
     "end_time": "2022-12-11T13:41:27.152442",
     "exception": false,
     "start_time": "2022-12-11T13:41:27.125925",
     "status": "completed"
    },
    "tags": []
   },
   "source": [
    "## checking null values "
   ]
  },
  {
   "cell_type": "code",
   "execution_count": 8,
   "id": "dd149663",
   "metadata": {
    "execution": {
     "iopub.execute_input": "2022-12-11T13:41:27.210601Z",
     "iopub.status.busy": "2022-12-11T13:41:27.209951Z",
     "iopub.status.idle": "2022-12-11T13:41:27.226264Z",
     "shell.execute_reply": "2022-12-11T13:41:27.225219Z"
    },
    "id": "k-5LPLmjT8b_",
    "outputId": "d7bc90b1-3571-4dbc-c986-cbed53ecd282",
    "papermill": {
     "duration": 0.049169,
     "end_time": "2022-12-11T13:41:27.229090",
     "exception": false,
     "start_time": "2022-12-11T13:41:27.179921",
     "status": "completed"
    },
    "tags": []
   },
   "outputs": [
    {
     "data": {
      "text/plain": [
       "link                                  0\n",
       "link_id                               0\n",
       "page_description                      0\n",
       "alchemy_category                      0\n",
       "alchemy_category_score                0\n",
       "avg_link_size                         0\n",
       "common_word_link_ratio_1              0\n",
       "common_word_link_ratio_2              0\n",
       "common_word_link_ratio_3              0\n",
       "common_word_link_ratio_4              0\n",
       "compression_ratio                     0\n",
       "embed_ratio                           0\n",
       "frame_based                           0\n",
       "frame_tag_ratio                       0\n",
       "has_domain_link                       0\n",
       "html_ratio                            0\n",
       "image_ratio                           0\n",
       "is_news                               0\n",
       "lengthy_link_domain                   0\n",
       "link_word_score                       0\n",
       "news_front_page                       0\n",
       "non_markup_alphanumeric_characters    0\n",
       "count_of_links                        0\n",
       "number_of_words_in_url                0\n",
       "parametrized_link_ratio               0\n",
       "spelling_mistakes_ratio               0\n",
       "label                                 0\n",
       "indicator                             0\n",
       "dtype: int64"
      ]
     },
     "execution_count": 8,
     "metadata": {},
     "output_type": "execute_result"
    }
   ],
   "source": [
    "X.isna().sum()"
   ]
  },
  {
   "cell_type": "code",
   "execution_count": 9,
   "id": "90ceb5a7",
   "metadata": {
    "execution": {
     "iopub.execute_input": "2022-12-11T13:41:27.281118Z",
     "iopub.status.busy": "2022-12-11T13:41:27.279988Z",
     "iopub.status.idle": "2022-12-11T13:41:27.300434Z",
     "shell.execute_reply": "2022-12-11T13:41:27.298720Z"
    },
    "id": "X3KuR3PoULGL",
    "outputId": "b813184e-7af6-48d8-bdc1-6887bf182905",
    "papermill": {
     "duration": 0.04988,
     "end_time": "2022-12-11T13:41:27.303568",
     "exception": false,
     "start_time": "2022-12-11T13:41:27.253688",
     "status": "completed"
    },
    "tags": []
   },
   "outputs": [
    {
     "data": {
      "text/plain": [
       "link                                     0\n",
       "link_id                                  0\n",
       "page_description                         0\n",
       "alchemy_category                      2342\n",
       "alchemy_category_score                2342\n",
       "avg_link_size                            0\n",
       "common_word_link_ratio_1                 0\n",
       "common_word_link_ratio_2                 0\n",
       "common_word_link_ratio_3                 0\n",
       "common_word_link_ratio_4                 0\n",
       "compression_ratio                        0\n",
       "embed_ratio                              0\n",
       "frame_based                              0\n",
       "frame_tag_ratio                          0\n",
       "has_domain_link                          0\n",
       "html_ratio                               0\n",
       "image_ratio                              0\n",
       "is_news                               2843\n",
       "lengthy_link_domain                      0\n",
       "link_word_score                          0\n",
       "news_front_page                       1248\n",
       "non_markup_alphanumeric_characters       0\n",
       "count_of_links                           0\n",
       "number_of_words_in_url                   0\n",
       "parametrized_link_ratio                  0\n",
       "spelling_mistakes_ratio                  0\n",
       "label                                    0\n",
       "indicator                                0\n",
       "dtype: int64"
      ]
     },
     "execution_count": 9,
     "metadata": {},
     "output_type": "execute_result"
    }
   ],
   "source": [
    "(X == \"?\").sum()"
   ]
  },
  {
   "cell_type": "code",
   "execution_count": 10,
   "id": "426ed617",
   "metadata": {
    "execution": {
     "iopub.execute_input": "2022-12-11T13:41:27.358353Z",
     "iopub.status.busy": "2022-12-11T13:41:27.357854Z",
     "iopub.status.idle": "2022-12-11T13:41:27.373168Z",
     "shell.execute_reply": "2022-12-11T13:41:27.371871Z"
    },
    "id": "CFJVvgMnUTRN",
    "outputId": "a4af86ac-bfd6-4330-c5bf-be803dd14f84",
    "papermill": {
     "duration": 0.045667,
     "end_time": "2022-12-11T13:41:27.375902",
     "exception": false,
     "start_time": "2022-12-11T13:41:27.330235",
     "status": "completed"
    },
    "tags": []
   },
   "outputs": [
    {
     "data": {
      "text/plain": [
       "?                     2342\n",
       "recreation            1229\n",
       "arts_entertainment     941\n",
       "business               880\n",
       "health                 506\n",
       "sports                 380\n",
       "culture_politics       343\n",
       "computer_internet      296\n",
       "science_technology     289\n",
       "gaming                  76\n",
       "religion                72\n",
       "law_crime               31\n",
       "unknown                  6\n",
       "weather                  4\n",
       "Name: alchemy_category, dtype: int64"
      ]
     },
     "execution_count": 10,
     "metadata": {},
     "output_type": "execute_result"
    }
   ],
   "source": [
    "X['alchemy_category'].value_counts()"
   ]
  },
  {
   "cell_type": "code",
   "execution_count": 11,
   "id": "2b561ad1",
   "metadata": {
    "execution": {
     "iopub.execute_input": "2022-12-11T13:41:27.432920Z",
     "iopub.status.busy": "2022-12-11T13:41:27.432008Z",
     "iopub.status.idle": "2022-12-11T13:41:27.736509Z",
     "shell.execute_reply": "2022-12-11T13:41:27.735028Z"
    },
    "id": "tZw0rsKCUiNI",
    "outputId": "c771faed-7287-4b3b-9176-421d4f57aacb",
    "papermill": {
     "duration": 0.336577,
     "end_time": "2022-12-11T13:41:27.739547",
     "exception": false,
     "start_time": "2022-12-11T13:41:27.402970",
     "status": "completed"
    },
    "tags": []
   },
   "outputs": [
    {
     "data": {
      "text/plain": [
       "<AxesSubplot:>"
      ]
     },
     "execution_count": 11,
     "metadata": {},
     "output_type": "execute_result"
    },
    {
     "data": {
      "image/png": "[encoded data removed]",
      "text/plain": [
       "<Figure size 432x288 with 1 Axes>"
      ]
     },
     "metadata": {
      "needs_background": "light"
     },
     "output_type": "display_data"
    }
   ],
   "source": [
    "train['alchemy_category'].value_counts()[:10].plot(kind='barh')"
   ]
  },
  {
   "cell_type": "code",
   "execution_count": 12,
   "id": "d2d02946",
   "metadata": {
    "execution": {
     "iopub.execute_input": "2022-12-11T13:41:27.794007Z",
     "iopub.status.busy": "2022-12-11T13:41:27.793060Z",
     "iopub.status.idle": "2022-12-11T13:41:27.802818Z",
     "shell.execute_reply": "2022-12-11T13:41:27.801516Z"
    },
    "id": "BDJ_xNKeU2i2",
    "outputId": "131d32e8-63fd-4697-d58f-ba44c725b25a",
    "papermill": {
     "duration": 0.03956,
     "end_time": "2022-12-11T13:41:27.805823",
     "exception": false,
     "start_time": "2022-12-11T13:41:27.766263",
     "status": "completed"
    },
    "tags": []
   },
   "outputs": [
    {
     "data": {
      "text/plain": [
       "<bound method IndexOpsMixin.value_counts of 0       arts_entertainment\n",
       "1         culture_politics\n",
       "2                        ?\n",
       "3                        ?\n",
       "4               recreation\n",
       "               ...        \n",
       "4432                sports\n",
       "4433                     ?\n",
       "4434      culture_politics\n",
       "4435      culture_politics\n",
       "4436                sports\n",
       "Name: alchemy_category, Length: 7395, dtype: object>"
      ]
     },
     "execution_count": 12,
     "metadata": {},
     "output_type": "execute_result"
    }
   ],
   "source": [
    "X['alchemy_category'].value_counts"
   ]
  },
  {
   "cell_type": "code",
   "execution_count": 13,
   "id": "6c532959",
   "metadata": {
    "execution": {
     "iopub.execute_input": "2022-12-11T13:41:27.858910Z",
     "iopub.status.busy": "2022-12-11T13:41:27.858332Z",
     "iopub.status.idle": "2022-12-11T13:41:27.873201Z",
     "shell.execute_reply": "2022-12-11T13:41:27.871183Z"
    },
    "id": "cudwVzzbUqrK",
    "outputId": "b006c9a8-0514-46ce-faa1-da8e528a13be",
    "papermill": {
     "duration": 0.044668,
     "end_time": "2022-12-11T13:41:27.875978",
     "exception": false,
     "start_time": "2022-12-11T13:41:27.831310",
     "status": "completed"
    },
    "tags": []
   },
   "outputs": [
    {
     "data": {
      "text/plain": [
       "0       arts_entertainment\n",
       "1         culture_politics\n",
       "2                        ?\n",
       "3                        ?\n",
       "4               recreation\n",
       "               ...        \n",
       "4432                sports\n",
       "4433                     ?\n",
       "4434      culture_politics\n",
       "4435      culture_politics\n",
       "4436                sports\n",
       "Name: alchemy_category, Length: 7395, dtype: object"
      ]
     },
     "execution_count": 13,
     "metadata": {},
     "output_type": "execute_result"
    }
   ],
   "source": [
    "# replacing ? values with random value\n",
    "X['alchemy_category'] = X['alchemy_category'].replace(to_replace =\"?\",value =random.choice(X['alchemy_category'].values.tolist()))\n",
    "X['alchemy_category']"
   ]
  },
  {
   "cell_type": "code",
   "execution_count": 14,
   "id": "2e70bedf",
   "metadata": {
    "execution": {
     "iopub.execute_input": "2022-12-11T13:41:27.929502Z",
     "iopub.status.busy": "2022-12-11T13:41:27.928610Z",
     "iopub.status.idle": "2022-12-11T13:41:27.936281Z",
     "shell.execute_reply": "2022-12-11T13:41:27.934984Z"
    },
    "id": "q7Z7va4CWDc5",
    "outputId": "cc43f46c-c0f5-4f5c-d8e7-211de8030dd4",
    "papermill": {
     "duration": 0.037169,
     "end_time": "2022-12-11T13:41:27.939001",
     "exception": false,
     "start_time": "2022-12-11T13:41:27.901832",
     "status": "completed"
    },
    "tags": []
   },
   "outputs": [
    {
     "data": {
      "text/plain": [
       "Index(['link', 'link_id', 'page_description', 'alchemy_category',\n",
       "       'alchemy_category_score', 'avg_link_size', 'common_word_link_ratio_1',\n",
       "       'common_word_link_ratio_2', 'common_word_link_ratio_3',\n",
       "       'common_word_link_ratio_4', 'compression_ratio', 'embed_ratio',\n",
       "       'frame_based', 'frame_tag_ratio', 'has_domain_link', 'html_ratio',\n",
       "       'image_ratio', 'is_news', 'lengthy_link_domain', 'link_word_score',\n",
       "       'news_front_page', 'non_markup_alphanumeric_characters',\n",
       "       'count_of_links', 'number_of_words_in_url', 'parametrized_link_ratio',\n",
       "       'spelling_mistakes_ratio', 'label', 'indicator'],\n",
       "      dtype='object')"
      ]
     },
     "execution_count": 14,
     "metadata": {},
     "output_type": "execute_result"
    }
   ],
   "source": [
    "X.columns"
   ]
  },
  {
   "cell_type": "code",
   "execution_count": 15,
   "id": "31e909ae",
   "metadata": {
    "execution": {
     "iopub.execute_input": "2022-12-11T13:41:27.995421Z",
     "iopub.status.busy": "2022-12-11T13:41:27.994164Z",
     "iopub.status.idle": "2022-12-11T13:41:28.004984Z",
     "shell.execute_reply": "2022-12-11T13:41:28.003743Z"
    },
    "id": "WMOhK869XZk4",
    "papermill": {
     "duration": 0.042361,
     "end_time": "2022-12-11T13:41:28.008256",
     "exception": false,
     "start_time": "2022-12-11T13:41:27.965895",
     "status": "completed"
    },
    "tags": []
   },
   "outputs": [],
   "source": [
    "X['alchemy_category_score'] = X['alchemy_category_score'].replace(to_replace =\"?\",value = (X['alchemy_category_score']!='?').mean())\n",
    "X['alchemy_category_score'] = X['alchemy_category_score'].astype('float')"
   ]
  },
  {
   "cell_type": "code",
   "execution_count": 16,
   "id": "0100405b",
   "metadata": {
    "execution": {
     "iopub.execute_input": "2022-12-11T13:41:28.065820Z",
     "iopub.status.busy": "2022-12-11T13:41:28.065200Z",
     "iopub.status.idle": "2022-12-11T13:41:28.076875Z",
     "shell.execute_reply": "2022-12-11T13:41:28.075138Z"
    },
    "id": "mwefH6B5YLHh",
    "outputId": "a810f894-5ce1-4f59-ceb9-f1e359fb389b",
    "papermill": {
     "duration": 0.043545,
     "end_time": "2022-12-11T13:41:28.079665",
     "exception": false,
     "start_time": "2022-12-11T13:41:28.036120",
     "status": "completed"
    },
    "tags": []
   },
   "outputs": [
    {
     "name": "stdout",
     "output_type": "stream",
     "text": [
      "median:  0.6832995267072346\n",
      "mean :  0.6286593365041708\n"
     ]
    }
   ],
   "source": [
    "print('median: ',X['alchemy_category_score'].median())\n",
    "print('mean : ',X['alchemy_category_score'].mean())"
   ]
  },
  {
   "cell_type": "code",
   "execution_count": 17,
   "id": "81c3d812",
   "metadata": {
    "execution": {
     "iopub.execute_input": "2022-12-11T13:41:28.138327Z",
     "iopub.status.busy": "2022-12-11T13:41:28.137925Z",
     "iopub.status.idle": "2022-12-11T13:41:28.146360Z",
     "shell.execute_reply": "2022-12-11T13:41:28.145035Z"
    },
    "id": "ZNsBN3IsYrNm",
    "papermill": {
     "duration": 0.041286,
     "end_time": "2022-12-11T13:41:28.149288",
     "exception": false,
     "start_time": "2022-12-11T13:41:28.108002",
     "status": "completed"
    },
    "tags": []
   },
   "outputs": [],
   "source": [
    "X['news_front_page'] = X['news_front_page'].replace(to_replace =\"?\",value =0)\n",
    "X['is_news'] = X['is_news'].replace(to_replace =\"?\",value =1)"
   ]
  },
  {
   "cell_type": "code",
   "execution_count": 18,
   "id": "a2c6aa6d",
   "metadata": {
    "execution": {
     "iopub.execute_input": "2022-12-11T13:41:28.204969Z",
     "iopub.status.busy": "2022-12-11T13:41:28.204338Z",
     "iopub.status.idle": "2022-12-11T13:41:28.216331Z",
     "shell.execute_reply": "2022-12-11T13:41:28.214954Z"
    },
    "id": "86IQiYA4YxGH",
    "outputId": "ed883d0b-d02a-44bb-a852-9c255e682166",
    "papermill": {
     "duration": 0.042895,
     "end_time": "2022-12-11T13:41:28.218756",
     "exception": false,
     "start_time": "2022-12-11T13:41:28.175861",
     "status": "completed"
    },
    "tags": []
   },
   "outputs": [
    {
     "data": {
      "text/plain": [
       "link                                   object\n",
       "link_id                                 int64\n",
       "page_description                       object\n",
       "alchemy_category                       object\n",
       "alchemy_category_score                float64\n",
       "avg_link_size                         float64\n",
       "common_word_link_ratio_1              float64\n",
       "common_word_link_ratio_2              float64\n",
       "common_word_link_ratio_3              float64\n",
       "common_word_link_ratio_4              float64\n",
       "compression_ratio                     float64\n",
       "embed_ratio                           float64\n",
       "frame_based                             int64\n",
       "frame_tag_ratio                       float64\n",
       "has_domain_link                         int64\n",
       "html_ratio                            float64\n",
       "image_ratio                           float64\n",
       "is_news                                object\n",
       "lengthy_link_domain                     int64\n",
       "link_word_score                         int64\n",
       "news_front_page                        object\n",
       "non_markup_alphanumeric_characters      int64\n",
       "count_of_links                          int64\n",
       "number_of_words_in_url                  int64\n",
       "parametrized_link_ratio               float64\n",
       "spelling_mistakes_ratio               float64\n",
       "label                                   int64\n",
       "indicator                               int64\n",
       "dtype: object"
      ]
     },
     "execution_count": 18,
     "metadata": {},
     "output_type": "execute_result"
    }
   ],
   "source": [
    "X.dtypes"
   ]
  },
  {
   "cell_type": "code",
   "execution_count": 19,
   "id": "1295b079",
   "metadata": {
    "execution": {
     "iopub.execute_input": "2022-12-11T13:41:28.277269Z",
     "iopub.status.busy": "2022-12-11T13:41:28.275573Z",
     "iopub.status.idle": "2022-12-11T13:41:28.285963Z",
     "shell.execute_reply": "2022-12-11T13:41:28.284637Z"
    },
    "id": "zo6r1tsVZlox",
    "papermill": {
     "duration": 0.041709,
     "end_time": "2022-12-11T13:41:28.288579",
     "exception": false,
     "start_time": "2022-12-11T13:41:28.246870",
     "status": "completed"
    },
    "tags": []
   },
   "outputs": [],
   "source": [
    "X['is_news']=X['is_news'].astype('float')\n",
    "X['news_front_page']=X['news_front_page'].astype('float')"
   ]
  },
  {
   "cell_type": "code",
   "execution_count": 20,
   "id": "32ed3de6",
   "metadata": {
    "execution": {
     "iopub.execute_input": "2022-12-11T13:41:28.346283Z",
     "iopub.status.busy": "2022-12-11T13:41:28.345345Z",
     "iopub.status.idle": "2022-12-11T13:41:28.364072Z",
     "shell.execute_reply": "2022-12-11T13:41:28.362361Z"
    },
    "id": "eeGUHs3OZx1k",
    "outputId": "a4c81ad4-7ed3-421e-d6b4-be446d76b073",
    "papermill": {
     "duration": 0.050509,
     "end_time": "2022-12-11T13:41:28.367001",
     "exception": false,
     "start_time": "2022-12-11T13:41:28.316492",
     "status": "completed"
    },
    "tags": []
   },
   "outputs": [
    {
     "data": {
      "text/plain": [
       "link                                     0\n",
       "link_id                                  0\n",
       "page_description                         0\n",
       "alchemy_category                      2342\n",
       "alchemy_category_score                   0\n",
       "avg_link_size                            0\n",
       "common_word_link_ratio_1                 0\n",
       "common_word_link_ratio_2                 0\n",
       "common_word_link_ratio_3                 0\n",
       "common_word_link_ratio_4                 0\n",
       "compression_ratio                        0\n",
       "embed_ratio                              0\n",
       "frame_based                              0\n",
       "frame_tag_ratio                          0\n",
       "has_domain_link                          0\n",
       "html_ratio                               0\n",
       "image_ratio                              0\n",
       "is_news                                  0\n",
       "lengthy_link_domain                      0\n",
       "link_word_score                          0\n",
       "news_front_page                          0\n",
       "non_markup_alphanumeric_characters       0\n",
       "count_of_links                           0\n",
       "number_of_words_in_url                   0\n",
       "parametrized_link_ratio                  0\n",
       "spelling_mistakes_ratio                  0\n",
       "label                                    0\n",
       "indicator                                0\n",
       "dtype: int64"
      ]
     },
     "execution_count": 20,
     "metadata": {},
     "output_type": "execute_result"
    }
   ],
   "source": [
    "(X == \"?\").sum()"
   ]
  },
  {
   "cell_type": "code",
   "execution_count": 21,
   "id": "32be4fbc",
   "metadata": {
    "execution": {
     "iopub.execute_input": "2022-12-11T13:41:28.421036Z",
     "iopub.status.busy": "2022-12-11T13:41:28.420498Z",
     "iopub.status.idle": "2022-12-11T13:41:28.450864Z",
     "shell.execute_reply": "2022-12-11T13:41:28.449157Z"
    },
    "id": "njY-IFwgZ7Hc",
    "outputId": "565273b4-e140-48cd-934c-42ad18ff42b5",
    "papermill": {
     "duration": 0.060356,
     "end_time": "2022-12-11T13:41:28.453651",
     "exception": false,
     "start_time": "2022-12-11T13:41:28.393295",
     "status": "completed"
    },
    "tags": []
   },
   "outputs": [
    {
     "data": {
      "text/html": [
       "<div>\n",
       "<style scoped>\n",
       "    .dataframe tbody tr th:only-of-type {\n",
       "        vertical-align: middle;\n",
       "    }\n",
       "\n",
       "    .dataframe tbody tr th {\n",
       "        vertical-align: top;\n",
       "    }\n",
       "\n",
       "    .dataframe thead th {\n",
       "        text-align: right;\n",
       "    }\n",
       "</style>\n",
       "<table border=\"1\" class=\"dataframe\">\n",
       "  <thead>\n",
       "    <tr style=\"text-align: right;\">\n",
       "      <th></th>\n",
       "      <th>link</th>\n",
       "      <th>link_id</th>\n",
       "      <th>page_description</th>\n",
       "      <th>alchemy_category</th>\n",
       "      <th>alchemy_category_score</th>\n",
       "      <th>avg_link_size</th>\n",
       "      <th>common_word_link_ratio_1</th>\n",
       "      <th>common_word_link_ratio_2</th>\n",
       "      <th>common_word_link_ratio_3</th>\n",
       "      <th>common_word_link_ratio_4</th>\n",
       "      <th>...</th>\n",
       "      <th>lengthy_link_domain</th>\n",
       "      <th>link_word_score</th>\n",
       "      <th>news_front_page</th>\n",
       "      <th>non_markup_alphanumeric_characters</th>\n",
       "      <th>count_of_links</th>\n",
       "      <th>number_of_words_in_url</th>\n",
       "      <th>parametrized_link_ratio</th>\n",
       "      <th>spelling_mistakes_ratio</th>\n",
       "      <th>label</th>\n",
       "      <th>indicator</th>\n",
       "    </tr>\n",
       "  </thead>\n",
       "  <tbody>\n",
       "    <tr>\n",
       "      <th>0</th>\n",
       "      <td>http://www.ellesnewenglandkitchen.com/blog/200...</td>\n",
       "      <td>4049</td>\n",
       "      <td>{\"title\":\"Elle s New England Kitchen Elle s Ne...</td>\n",
       "      <td>arts_entertainment</td>\n",
       "      <td>0.365831</td>\n",
       "      <td>1.217617</td>\n",
       "      <td>0.261307</td>\n",
       "      <td>0.035176</td>\n",
       "      <td>0.015075</td>\n",
       "      <td>0.005025</td>\n",
       "      <td>...</td>\n",
       "      <td>0</td>\n",
       "      <td>10</td>\n",
       "      <td>0.0</td>\n",
       "      <td>9492</td>\n",
       "      <td>199</td>\n",
       "      <td>6</td>\n",
       "      <td>0.045226</td>\n",
       "      <td>0.108460</td>\n",
       "      <td>2</td>\n",
       "      <td>0</td>\n",
       "    </tr>\n",
       "    <tr>\n",
       "      <th>1</th>\n",
       "      <td>http://www.alternet.org/story/149193/study_con...</td>\n",
       "      <td>3692</td>\n",
       "      <td>{\"url\":\"alternet org story 149193 study confir...</td>\n",
       "      <td>culture_politics</td>\n",
       "      <td>0.876315</td>\n",
       "      <td>3.814208</td>\n",
       "      <td>0.589744</td>\n",
       "      <td>0.261538</td>\n",
       "      <td>0.179487</td>\n",
       "      <td>0.107692</td>\n",
       "      <td>...</td>\n",
       "      <td>1</td>\n",
       "      <td>45</td>\n",
       "      <td>0.0</td>\n",
       "      <td>4370</td>\n",
       "      <td>195</td>\n",
       "      <td>9</td>\n",
       "      <td>0.112821</td>\n",
       "      <td>0.106181</td>\n",
       "      <td>2</td>\n",
       "      <td>0</td>\n",
       "    </tr>\n",
       "    <tr>\n",
       "      <th>2</th>\n",
       "      <td>http://www.wiredberries.com/</td>\n",
       "      <td>9739</td>\n",
       "      <td>{\"title\":\" \",\"body\":\" \",\"url\":\"wiredberries\"}</td>\n",
       "      <td>?</td>\n",
       "      <td>0.683300</td>\n",
       "      <td>1.793103</td>\n",
       "      <td>0.402299</td>\n",
       "      <td>0.183908</td>\n",
       "      <td>0.000000</td>\n",
       "      <td>0.000000</td>\n",
       "      <td>...</td>\n",
       "      <td>1</td>\n",
       "      <td>48</td>\n",
       "      <td>0.0</td>\n",
       "      <td>921</td>\n",
       "      <td>87</td>\n",
       "      <td>0</td>\n",
       "      <td>0.011494</td>\n",
       "      <td>1.000000</td>\n",
       "      <td>2</td>\n",
       "      <td>0</td>\n",
       "    </tr>\n",
       "    <tr>\n",
       "      <th>3</th>\n",
       "      <td>http://www.elements4health.com/cayenne-pepper....</td>\n",
       "      <td>1548</td>\n",
       "      <td>{\"title\":\"The Health Benefits of Cayenne Peppe...</td>\n",
       "      <td>?</td>\n",
       "      <td>0.683300</td>\n",
       "      <td>2.083333</td>\n",
       "      <td>0.636364</td>\n",
       "      <td>0.279720</td>\n",
       "      <td>0.041958</td>\n",
       "      <td>0.000000</td>\n",
       "      <td>...</td>\n",
       "      <td>0</td>\n",
       "      <td>15</td>\n",
       "      <td>0.0</td>\n",
       "      <td>8474</td>\n",
       "      <td>143</td>\n",
       "      <td>2</td>\n",
       "      <td>0.027972</td>\n",
       "      <td>0.064083</td>\n",
       "      <td>2</td>\n",
       "      <td>0</td>\n",
       "    </tr>\n",
       "    <tr>\n",
       "      <th>4</th>\n",
       "      <td>http://www.poorgirleatswell.com/2009/10/recipe...</td>\n",
       "      <td>5574</td>\n",
       "      <td>{\"title\":\"Recipe Hearty Mushroom Potato Soup \"...</td>\n",
       "      <td>recreation</td>\n",
       "      <td>0.747449</td>\n",
       "      <td>1.845815</td>\n",
       "      <td>0.676856</td>\n",
       "      <td>0.310044</td>\n",
       "      <td>0.183406</td>\n",
       "      <td>0.148472</td>\n",
       "      <td>...</td>\n",
       "      <td>1</td>\n",
       "      <td>14</td>\n",
       "      <td>0.0</td>\n",
       "      <td>11448</td>\n",
       "      <td>229</td>\n",
       "      <td>5</td>\n",
       "      <td>0.152838</td>\n",
       "      <td>0.087533</td>\n",
       "      <td>2</td>\n",
       "      <td>0</td>\n",
       "    </tr>\n",
       "  </tbody>\n",
       "</table>\n",
       "<p>5 rows × 28 columns</p>\n",
       "</div>"
      ],
      "text/plain": [
       "                                                link  link_id  \\\n",
       "0  http://www.ellesnewenglandkitchen.com/blog/200...     4049   \n",
       "1  http://www.alternet.org/story/149193/study_con...     3692   \n",
       "2                       http://www.wiredberries.com/     9739   \n",
       "3  http://www.elements4health.com/cayenne-pepper....     1548   \n",
       "4  http://www.poorgirleatswell.com/2009/10/recipe...     5574   \n",
       "\n",
       "                                    page_description    alchemy_category  \\\n",
       "0  {\"title\":\"Elle s New England Kitchen Elle s Ne...  arts_entertainment   \n",
       "1  {\"url\":\"alternet org story 149193 study confir...    culture_politics   \n",
       "2      {\"title\":\" \",\"body\":\" \",\"url\":\"wiredberries\"}                   ?   \n",
       "3  {\"title\":\"The Health Benefits of Cayenne Peppe...                   ?   \n",
       "4  {\"title\":\"Recipe Hearty Mushroom Potato Soup \"...          recreation   \n",
       "\n",
       "   alchemy_category_score  avg_link_size  common_word_link_ratio_1  \\\n",
       "0                0.365831       1.217617                  0.261307   \n",
       "1                0.876315       3.814208                  0.589744   \n",
       "2                0.683300       1.793103                  0.402299   \n",
       "3                0.683300       2.083333                  0.636364   \n",
       "4                0.747449       1.845815                  0.676856   \n",
       "\n",
       "   common_word_link_ratio_2  common_word_link_ratio_3  \\\n",
       "0                  0.035176                  0.015075   \n",
       "1                  0.261538                  0.179487   \n",
       "2                  0.183908                  0.000000   \n",
       "3                  0.279720                  0.041958   \n",
       "4                  0.310044                  0.183406   \n",
       "\n",
       "   common_word_link_ratio_4  ...  lengthy_link_domain  link_word_score  \\\n",
       "0                  0.005025  ...                    0               10   \n",
       "1                  0.107692  ...                    1               45   \n",
       "2                  0.000000  ...                    1               48   \n",
       "3                  0.000000  ...                    0               15   \n",
       "4                  0.148472  ...                    1               14   \n",
       "\n",
       "   news_front_page  non_markup_alphanumeric_characters  count_of_links  \\\n",
       "0              0.0                                9492             199   \n",
       "1              0.0                                4370             195   \n",
       "2              0.0                                 921              87   \n",
       "3              0.0                                8474             143   \n",
       "4              0.0                               11448             229   \n",
       "\n",
       "   number_of_words_in_url  parametrized_link_ratio  spelling_mistakes_ratio  \\\n",
       "0                       6                 0.045226                 0.108460   \n",
       "1                       9                 0.112821                 0.106181   \n",
       "2                       0                 0.011494                 1.000000   \n",
       "3                       2                 0.027972                 0.064083   \n",
       "4                       5                 0.152838                 0.087533   \n",
       "\n",
       "   label  indicator  \n",
       "0      2          0  \n",
       "1      2          0  \n",
       "2      2          0  \n",
       "3      2          0  \n",
       "4      2          0  \n",
       "\n",
       "[5 rows x 28 columns]"
      ]
     },
     "execution_count": 21,
     "metadata": {},
     "output_type": "execute_result"
    }
   ],
   "source": [
    "X.head()"
   ]
  },
  {
   "cell_type": "markdown",
   "id": "bbcd1266",
   "metadata": {
    "id": "5EqlnCdmANvQ",
    "papermill": {
     "duration": 0.02611,
     "end_time": "2022-12-11T13:41:28.506726",
     "exception": false,
     "start_time": "2022-12-11T13:41:28.480616",
     "status": "completed"
    },
    "tags": []
   },
   "source": [
    "## One hot encoding\n",
    "\n"
   ]
  },
  {
   "cell_type": "code",
   "execution_count": 22,
   "id": "e203d697",
   "metadata": {
    "execution": {
     "iopub.execute_input": "2022-12-11T13:41:28.561843Z",
     "iopub.status.busy": "2022-12-11T13:41:28.561381Z",
     "iopub.status.idle": "2022-12-11T13:41:28.603002Z",
     "shell.execute_reply": "2022-12-11T13:41:28.601760Z"
    },
    "id": "me6mXUZBaJIF",
    "outputId": "f1690676-3b29-465c-92cd-d3a8a4484dfe",
    "papermill": {
     "duration": 0.073133,
     "end_time": "2022-12-11T13:41:28.605937",
     "exception": false,
     "start_time": "2022-12-11T13:41:28.532804",
     "status": "completed"
    },
    "tags": []
   },
   "outputs": [
    {
     "data": {
      "text/html": [
       "<div>\n",
       "<style scoped>\n",
       "    .dataframe tbody tr th:only-of-type {\n",
       "        vertical-align: middle;\n",
       "    }\n",
       "\n",
       "    .dataframe tbody tr th {\n",
       "        vertical-align: top;\n",
       "    }\n",
       "\n",
       "    .dataframe thead th {\n",
       "        text-align: right;\n",
       "    }\n",
       "</style>\n",
       "<table border=\"1\" class=\"dataframe\">\n",
       "  <thead>\n",
       "    <tr style=\"text-align: right;\">\n",
       "      <th></th>\n",
       "      <th>link</th>\n",
       "      <th>link_id</th>\n",
       "      <th>page_description</th>\n",
       "      <th>alchemy_category_score</th>\n",
       "      <th>avg_link_size</th>\n",
       "      <th>common_word_link_ratio_1</th>\n",
       "      <th>common_word_link_ratio_2</th>\n",
       "      <th>common_word_link_ratio_3</th>\n",
       "      <th>common_word_link_ratio_4</th>\n",
       "      <th>compression_ratio</th>\n",
       "      <th>...</th>\n",
       "      <th>alchemy_category_culture_politics</th>\n",
       "      <th>alchemy_category_gaming</th>\n",
       "      <th>alchemy_category_health</th>\n",
       "      <th>alchemy_category_law_crime</th>\n",
       "      <th>alchemy_category_recreation</th>\n",
       "      <th>alchemy_category_religion</th>\n",
       "      <th>alchemy_category_science_technology</th>\n",
       "      <th>alchemy_category_sports</th>\n",
       "      <th>alchemy_category_unknown</th>\n",
       "      <th>alchemy_category_weather</th>\n",
       "    </tr>\n",
       "  </thead>\n",
       "  <tbody>\n",
       "    <tr>\n",
       "      <th>0</th>\n",
       "      <td>http://www.ellesnewenglandkitchen.com/blog/200...</td>\n",
       "      <td>4049</td>\n",
       "      <td>{\"title\":\"Elle s New England Kitchen Elle s Ne...</td>\n",
       "      <td>0.365831</td>\n",
       "      <td>1.217617</td>\n",
       "      <td>0.261307</td>\n",
       "      <td>0.035176</td>\n",
       "      <td>0.015075</td>\n",
       "      <td>0.005025</td>\n",
       "      <td>0.488917</td>\n",
       "      <td>...</td>\n",
       "      <td>0</td>\n",
       "      <td>0</td>\n",
       "      <td>0</td>\n",
       "      <td>0</td>\n",
       "      <td>0</td>\n",
       "      <td>0</td>\n",
       "      <td>0</td>\n",
       "      <td>0</td>\n",
       "      <td>0</td>\n",
       "      <td>0</td>\n",
       "    </tr>\n",
       "    <tr>\n",
       "      <th>1</th>\n",
       "      <td>http://www.alternet.org/story/149193/study_con...</td>\n",
       "      <td>3692</td>\n",
       "      <td>{\"url\":\"alternet org story 149193 study confir...</td>\n",
       "      <td>0.876315</td>\n",
       "      <td>3.814208</td>\n",
       "      <td>0.589744</td>\n",
       "      <td>0.261538</td>\n",
       "      <td>0.179487</td>\n",
       "      <td>0.107692</td>\n",
       "      <td>0.452856</td>\n",
       "      <td>...</td>\n",
       "      <td>1</td>\n",
       "      <td>0</td>\n",
       "      <td>0</td>\n",
       "      <td>0</td>\n",
       "      <td>0</td>\n",
       "      <td>0</td>\n",
       "      <td>0</td>\n",
       "      <td>0</td>\n",
       "      <td>0</td>\n",
       "      <td>0</td>\n",
       "    </tr>\n",
       "    <tr>\n",
       "      <th>2</th>\n",
       "      <td>http://www.wiredberries.com/</td>\n",
       "      <td>9739</td>\n",
       "      <td>{\"title\":\" \",\"body\":\" \",\"url\":\"wiredberries\"}</td>\n",
       "      <td>0.683300</td>\n",
       "      <td>1.793103</td>\n",
       "      <td>0.402299</td>\n",
       "      <td>0.183908</td>\n",
       "      <td>0.000000</td>\n",
       "      <td>0.000000</td>\n",
       "      <td>21.000000</td>\n",
       "      <td>...</td>\n",
       "      <td>0</td>\n",
       "      <td>0</td>\n",
       "      <td>0</td>\n",
       "      <td>0</td>\n",
       "      <td>0</td>\n",
       "      <td>0</td>\n",
       "      <td>0</td>\n",
       "      <td>0</td>\n",
       "      <td>0</td>\n",
       "      <td>0</td>\n",
       "    </tr>\n",
       "    <tr>\n",
       "      <th>3</th>\n",
       "      <td>http://www.elements4health.com/cayenne-pepper....</td>\n",
       "      <td>1548</td>\n",
       "      <td>{\"title\":\"The Health Benefits of Cayenne Peppe...</td>\n",
       "      <td>0.683300</td>\n",
       "      <td>2.083333</td>\n",
       "      <td>0.636364</td>\n",
       "      <td>0.279720</td>\n",
       "      <td>0.041958</td>\n",
       "      <td>0.000000</td>\n",
       "      <td>0.447265</td>\n",
       "      <td>...</td>\n",
       "      <td>0</td>\n",
       "      <td>0</td>\n",
       "      <td>0</td>\n",
       "      <td>0</td>\n",
       "      <td>0</td>\n",
       "      <td>0</td>\n",
       "      <td>0</td>\n",
       "      <td>0</td>\n",
       "      <td>0</td>\n",
       "      <td>0</td>\n",
       "    </tr>\n",
       "    <tr>\n",
       "      <th>4</th>\n",
       "      <td>http://www.poorgirleatswell.com/2009/10/recipe...</td>\n",
       "      <td>5574</td>\n",
       "      <td>{\"title\":\"Recipe Hearty Mushroom Potato Soup \"...</td>\n",
       "      <td>0.747449</td>\n",
       "      <td>1.845815</td>\n",
       "      <td>0.676856</td>\n",
       "      <td>0.310044</td>\n",
       "      <td>0.183406</td>\n",
       "      <td>0.148472</td>\n",
       "      <td>0.460235</td>\n",
       "      <td>...</td>\n",
       "      <td>0</td>\n",
       "      <td>0</td>\n",
       "      <td>0</td>\n",
       "      <td>0</td>\n",
       "      <td>1</td>\n",
       "      <td>0</td>\n",
       "      <td>0</td>\n",
       "      <td>0</td>\n",
       "      <td>0</td>\n",
       "      <td>0</td>\n",
       "    </tr>\n",
       "  </tbody>\n",
       "</table>\n",
       "<p>5 rows × 41 columns</p>\n",
       "</div>"
      ],
      "text/plain": [
       "                                                link  link_id  \\\n",
       "0  http://www.ellesnewenglandkitchen.com/blog/200...     4049   \n",
       "1  http://www.alternet.org/story/149193/study_con...     3692   \n",
       "2                       http://www.wiredberries.com/     9739   \n",
       "3  http://www.elements4health.com/cayenne-pepper....     1548   \n",
       "4  http://www.poorgirleatswell.com/2009/10/recipe...     5574   \n",
       "\n",
       "                                    page_description  alchemy_category_score  \\\n",
       "0  {\"title\":\"Elle s New England Kitchen Elle s Ne...                0.365831   \n",
       "1  {\"url\":\"alternet org story 149193 study confir...                0.876315   \n",
       "2      {\"title\":\" \",\"body\":\" \",\"url\":\"wiredberries\"}                0.683300   \n",
       "3  {\"title\":\"The Health Benefits of Cayenne Peppe...                0.683300   \n",
       "4  {\"title\":\"Recipe Hearty Mushroom Potato Soup \"...                0.747449   \n",
       "\n",
       "   avg_link_size  common_word_link_ratio_1  common_word_link_ratio_2  \\\n",
       "0       1.217617                  0.261307                  0.035176   \n",
       "1       3.814208                  0.589744                  0.261538   \n",
       "2       1.793103                  0.402299                  0.183908   \n",
       "3       2.083333                  0.636364                  0.279720   \n",
       "4       1.845815                  0.676856                  0.310044   \n",
       "\n",
       "   common_word_link_ratio_3  common_word_link_ratio_4  compression_ratio  ...  \\\n",
       "0                  0.015075                  0.005025           0.488917  ...   \n",
       "1                  0.179487                  0.107692           0.452856  ...   \n",
       "2                  0.000000                  0.000000          21.000000  ...   \n",
       "3                  0.041958                  0.000000           0.447265  ...   \n",
       "4                  0.183406                  0.148472           0.460235  ...   \n",
       "\n",
       "   alchemy_category_culture_politics  alchemy_category_gaming  \\\n",
       "0                                  0                        0   \n",
       "1                                  1                        0   \n",
       "2                                  0                        0   \n",
       "3                                  0                        0   \n",
       "4                                  0                        0   \n",
       "\n",
       "   alchemy_category_health  alchemy_category_law_crime  \\\n",
       "0                        0                           0   \n",
       "1                        0                           0   \n",
       "2                        0                           0   \n",
       "3                        0                           0   \n",
       "4                        0                           0   \n",
       "\n",
       "   alchemy_category_recreation  alchemy_category_religion  \\\n",
       "0                            0                          0   \n",
       "1                            0                          0   \n",
       "2                            0                          0   \n",
       "3                            0                          0   \n",
       "4                            1                          0   \n",
       "\n",
       "   alchemy_category_science_technology  alchemy_category_sports  \\\n",
       "0                                    0                        0   \n",
       "1                                    0                        0   \n",
       "2                                    0                        0   \n",
       "3                                    0                        0   \n",
       "4                                    0                        0   \n",
       "\n",
       "   alchemy_category_unknown  alchemy_category_weather  \n",
       "0                         0                         0  \n",
       "1                         0                         0  \n",
       "2                         0                         0  \n",
       "3                         0                         0  \n",
       "4                         0                         0  \n",
       "\n",
       "[5 rows x 41 columns]"
      ]
     },
     "execution_count": 22,
     "metadata": {},
     "output_type": "execute_result"
    }
   ],
   "source": [
    "#one-hot encoding for categorical data \n",
    "column_names_to_one_hot = [\"alchemy_category\"]\n",
    "X = pd.get_dummies(X, columns=column_names_to_one_hot)\n",
    "X.head()"
   ]
  },
  {
   "cell_type": "markdown",
   "id": "c806d677",
   "metadata": {
    "id": "-vcsxb52AoXQ",
    "papermill": {
     "duration": 0.02778,
     "end_time": "2022-12-11T13:41:28.662301",
     "exception": false,
     "start_time": "2022-12-11T13:41:28.634521",
     "status": "completed"
    },
    "tags": []
   },
   "source": [
    "## dropping column with all 0 values"
   ]
  },
  {
   "cell_type": "code",
   "execution_count": 23,
   "id": "8a97434d",
   "metadata": {
    "execution": {
     "iopub.execute_input": "2022-12-11T13:41:28.719762Z",
     "iopub.status.busy": "2022-12-11T13:41:28.719004Z",
     "iopub.status.idle": "2022-12-11T13:41:28.725831Z",
     "shell.execute_reply": "2022-12-11T13:41:28.724873Z"
    },
    "id": "2_h24zU-rbtA",
    "outputId": "b3356990-e2f2-46b0-bac2-c5e3dc8460af",
    "papermill": {
     "duration": 0.038325,
     "end_time": "2022-12-11T13:41:28.728279",
     "exception": false,
     "start_time": "2022-12-11T13:41:28.689954",
     "status": "completed"
    },
    "tags": []
   },
   "outputs": [
    {
     "data": {
      "text/plain": [
       "41"
      ]
     },
     "execution_count": 23,
     "metadata": {},
     "output_type": "execute_result"
    }
   ],
   "source": [
    "len(X.columns)"
   ]
  },
  {
   "cell_type": "code",
   "execution_count": 24,
   "id": "25eda3c3",
   "metadata": {
    "execution": {
     "iopub.execute_input": "2022-12-11T13:41:28.786135Z",
     "iopub.status.busy": "2022-12-11T13:41:28.785722Z",
     "iopub.status.idle": "2022-12-11T13:41:28.870297Z",
     "shell.execute_reply": "2022-12-11T13:41:28.868399Z"
    },
    "id": "lSPdXRoNaglC",
    "outputId": "6abe8449-62aa-422b-bd12-ffeb8b43c1ae",
    "papermill": {
     "duration": 0.116598,
     "end_time": "2022-12-11T13:41:28.873399",
     "exception": false,
     "start_time": "2022-12-11T13:41:28.756801",
     "status": "completed"
    },
    "tags": []
   },
   "outputs": [
    {
     "name": "stdout",
     "output_type": "stream",
     "text": [
      "frame_based\n",
      "is_news\n"
     ]
    }
   ],
   "source": [
    "for x in X:\n",
    "  if (len(X[x].unique())==1):\n",
    "    print(x)\n",
    "    X.drop(axis=\"columns\", labels=x, inplace=True)\n",
    "\n",
    "    "
   ]
  },
  {
   "cell_type": "code",
   "execution_count": 25,
   "id": "b3a676cc",
   "metadata": {
    "execution": {
     "iopub.execute_input": "2022-12-11T13:41:28.930083Z",
     "iopub.status.busy": "2022-12-11T13:41:28.929079Z",
     "iopub.status.idle": "2022-12-11T13:41:28.936001Z",
     "shell.execute_reply": "2022-12-11T13:41:28.934723Z"
    },
    "id": "1EXgRKStrhE-",
    "outputId": "ab0cd1e5-5282-4172-ad28-d354a76167f9",
    "papermill": {
     "duration": 0.037467,
     "end_time": "2022-12-11T13:41:28.938149",
     "exception": false,
     "start_time": "2022-12-11T13:41:28.900682",
     "status": "completed"
    },
    "tags": []
   },
   "outputs": [
    {
     "data": {
      "text/plain": [
       "39"
      ]
     },
     "execution_count": 25,
     "metadata": {},
     "output_type": "execute_result"
    }
   ],
   "source": [
    "len(X.columns)"
   ]
  },
  {
   "cell_type": "code",
   "execution_count": 26,
   "id": "1457c777",
   "metadata": {
    "execution": {
     "iopub.execute_input": "2022-12-11T13:41:28.994925Z",
     "iopub.status.busy": "2022-12-11T13:41:28.993792Z",
     "iopub.status.idle": "2022-12-11T13:41:29.001658Z",
     "shell.execute_reply": "2022-12-11T13:41:29.000414Z"
    },
    "id": "aIXyC8G9bOBg",
    "outputId": "997c910c-d01e-4855-8925-87e738885b90",
    "papermill": {
     "duration": 0.039049,
     "end_time": "2022-12-11T13:41:29.004512",
     "exception": false,
     "start_time": "2022-12-11T13:41:28.965463",
     "status": "completed"
    },
    "tags": []
   },
   "outputs": [
    {
     "data": {
      "text/plain": [
       "(7395, 39)"
      ]
     },
     "execution_count": 26,
     "metadata": {},
     "output_type": "execute_result"
    }
   ],
   "source": [
    "X.shape"
   ]
  },
  {
   "cell_type": "code",
   "execution_count": 27,
   "id": "d4bd8440",
   "metadata": {
    "execution": {
     "iopub.execute_input": "2022-12-11T13:41:29.061153Z",
     "iopub.status.busy": "2022-12-11T13:41:29.060116Z",
     "iopub.status.idle": "2022-12-11T13:41:29.069442Z",
     "shell.execute_reply": "2022-12-11T13:41:29.068507Z"
    },
    "id": "KM3nCMMcbSnG",
    "outputId": "01a46bc9-ed98-4ace-88d4-25432f245aee",
    "papermill": {
     "duration": 0.040607,
     "end_time": "2022-12-11T13:41:29.071976",
     "exception": false,
     "start_time": "2022-12-11T13:41:29.031369",
     "status": "completed"
    },
    "tags": []
   },
   "outputs": [
    {
     "data": {
      "text/plain": [
       "Index(['link', 'link_id', 'page_description', 'alchemy_category_score',\n",
       "       'avg_link_size', 'common_word_link_ratio_1', 'common_word_link_ratio_2',\n",
       "       'common_word_link_ratio_3', 'common_word_link_ratio_4',\n",
       "       'compression_ratio', 'embed_ratio', 'frame_tag_ratio',\n",
       "       'has_domain_link', 'html_ratio', 'image_ratio', 'lengthy_link_domain',\n",
       "       'link_word_score', 'news_front_page',\n",
       "       'non_markup_alphanumeric_characters', 'count_of_links',\n",
       "       'number_of_words_in_url', 'parametrized_link_ratio',\n",
       "       'spelling_mistakes_ratio', 'label', 'indicator', 'alchemy_category_?',\n",
       "       'alchemy_category_arts_entertainment', 'alchemy_category_business',\n",
       "       'alchemy_category_computer_internet',\n",
       "       'alchemy_category_culture_politics', 'alchemy_category_gaming',\n",
       "       'alchemy_category_health', 'alchemy_category_law_crime',\n",
       "       'alchemy_category_recreation', 'alchemy_category_religion',\n",
       "       'alchemy_category_science_technology', 'alchemy_category_sports',\n",
       "       'alchemy_category_unknown', 'alchemy_category_weather'],\n",
       "      dtype='object')"
      ]
     },
     "execution_count": 27,
     "metadata": {},
     "output_type": "execute_result"
    }
   ],
   "source": [
    "X.columns"
   ]
  },
  {
   "cell_type": "markdown",
   "id": "80ef057b",
   "metadata": {
    "id": "2MeYpMKXxoZ8",
    "papermill": {
     "duration": 0.02868,
     "end_time": "2022-12-11T13:41:29.128787",
     "exception": false,
     "start_time": "2022-12-11T13:41:29.100107",
     "status": "completed"
    },
    "tags": []
   },
   "source": [
    "## Removing outliers\n",
    "\n",
    "The interquartile range (IQR), also called the midspread or middle 50%, or technically H-spread, is a measure of statistical dispersion, being equal to the difference between 75th and 25th percentiles, or between upper and lower quartiles, IQR = Q3 − Q1.\n",
    "\n",
    "In other words, the IQR is the first quartile subtracted from the third quartile; these quartiles can be clearly seen on a box plot on the data.\n",
    "\n",
    "It is a measure of the dispersion similar to standard deviation or variance, but is much more robust against outliers.\n",
    "\n"
   ]
  },
  {
   "cell_type": "code",
   "execution_count": 28,
   "id": "e714e7a4",
   "metadata": {
    "execution": {
     "iopub.execute_input": "2022-12-11T13:41:29.187426Z",
     "iopub.status.busy": "2022-12-11T13:41:29.185979Z",
     "iopub.status.idle": "2022-12-11T13:41:29.196371Z",
     "shell.execute_reply": "2022-12-11T13:41:29.194873Z"
    },
    "id": "11IyspyybZ_I",
    "outputId": "b53cc289-f149-4bac-f3da-98c9a4f68c64",
    "papermill": {
     "duration": 0.043131,
     "end_time": "2022-12-11T13:41:29.199284",
     "exception": false,
     "start_time": "2022-12-11T13:41:29.156153",
     "status": "completed"
    },
    "tags": []
   },
   "outputs": [
    {
     "data": {
      "text/plain": [
       "array([0.365831  , 0.876315  , 0.68329953, ..., 0.159831  , 0.84594   ,\n",
       "       0.93526   ])"
      ]
     },
     "execution_count": 28,
     "metadata": {},
     "output_type": "execute_result"
    }
   ],
   "source": [
    "X['alchemy_category_score'].unique()"
   ]
  },
  {
   "cell_type": "code",
   "execution_count": 29,
   "id": "f43aa15c",
   "metadata": {
    "execution": {
     "iopub.execute_input": "2022-12-11T13:41:29.256121Z",
     "iopub.status.busy": "2022-12-11T13:41:29.255513Z",
     "iopub.status.idle": "2022-12-11T13:41:29.266476Z",
     "shell.execute_reply": "2022-12-11T13:41:29.264852Z"
    },
    "id": "Z2-7Z3-QxtVO",
    "papermill": {
     "duration": 0.042745,
     "end_time": "2022-12-11T13:41:29.269104",
     "exception": false,
     "start_time": "2022-12-11T13:41:29.226359",
     "status": "completed"
    },
    "tags": []
   },
   "outputs": [],
   "source": [
    "def outlierPlot(p):\n",
    "    sns.boxplot(x=p)\n",
    "    plt.figure(figsize=(16,5))\n",
    "    plt.subplot(1,2,1)\n",
    "    sns.distplot(p)\n",
    "\n",
    "def checkOutliers(p):\n",
    "  Q1 = p.quantile(0.25)\n",
    "  Q3 = p.quantile(0.75)\n",
    "  IQR = Q3 - Q1\n",
    "  print((p < (Q1 - 1.5 * IQR) ) | (p  > (Q3 + 1.5 * IQR)))\n",
    "\n",
    "def removeOutliers(p):\n",
    "  Q1 = p.quantile(0.25)\n",
    "  Q3 = p.quantile(0.75)\n",
    "  IQR = Q3 - Q1\n",
    "  p = p[~((p < (Q1 - 1.5 * IQR)) |(p > (Q3 + 1.5 * IQR)))]\n",
    "  return p\n"
   ]
  },
  {
   "cell_type": "code",
   "execution_count": 30,
   "id": "62315e3d",
   "metadata": {
    "execution": {
     "iopub.execute_input": "2022-12-11T13:41:29.329067Z",
     "iopub.status.busy": "2022-12-11T13:41:29.328455Z",
     "iopub.status.idle": "2022-12-11T13:41:29.841747Z",
     "shell.execute_reply": "2022-12-11T13:41:29.840060Z"
    },
    "id": "WRz4mejs0mwb",
    "outputId": "ae2200b7-887e-44ce-971a-0836dcd572ad",
    "papermill": {
     "duration": 0.546091,
     "end_time": "2022-12-11T13:41:29.844778",
     "exception": false,
     "start_time": "2022-12-11T13:41:29.298687",
     "status": "completed"
    },
    "tags": []
   },
   "outputs": [
    {
     "name": "stderr",
     "output_type": "stream",
     "text": [
      "/opt/conda/lib/python3.7/site-packages/seaborn/distributions.py:2619: FutureWarning: `distplot` is a deprecated function and will be removed in a future version. Please adapt your code to use either `displot` (a figure-level function with similar flexibility) or `histplot` (an axes-level function for histograms).\n",
      "  warnings.warn(msg, FutureWarning)\n"
     ]
    },
    {
     "data": {
      "image/png": "[encoded data removed]",
      "text/plain": [
       "<Figure size 432x288 with 1 Axes>"
      ]
     },
     "metadata": {
      "needs_background": "light"
     },
     "output_type": "display_data"
    },
    {
     "data": {
      "image/png": "[encoded data removed]",
      "text/plain": [
       "<Figure size 1152x360 with 1 Axes>"
      ]
     },
     "metadata": {
      "needs_background": "light"
     },
     "output_type": "display_data"
    }
   ],
   "source": [
    "p = X['alchemy_category_score']\n",
    "outlierPlot(p)"
   ]
  },
  {
   "cell_type": "code",
   "execution_count": 31,
   "id": "f3478b90",
   "metadata": {
    "execution": {
     "iopub.execute_input": "2022-12-11T13:41:29.903911Z",
     "iopub.status.busy": "2022-12-11T13:41:29.903375Z",
     "iopub.status.idle": "2022-12-11T13:41:29.910379Z",
     "shell.execute_reply": "2022-12-11T13:41:29.908751Z"
    },
    "id": "-JLBByfu1dGR",
    "papermill": {
     "duration": 0.039643,
     "end_time": "2022-12-11T13:41:29.913379",
     "exception": false,
     "start_time": "2022-12-11T13:41:29.873736",
     "status": "completed"
    },
    "tags": []
   },
   "outputs": [],
   "source": [
    "p = X[\"alchemy_category_score\"]"
   ]
  },
  {
   "cell_type": "code",
   "execution_count": 32,
   "id": "7123dc46",
   "metadata": {
    "execution": {
     "iopub.execute_input": "2022-12-11T13:41:29.972078Z",
     "iopub.status.busy": "2022-12-11T13:41:29.971560Z",
     "iopub.status.idle": "2022-12-11T13:41:29.983216Z",
     "shell.execute_reply": "2022-12-11T13:41:29.982172Z"
    },
    "id": "h38Vevxh2NVg",
    "outputId": "769ddb22-445a-446a-d802-0bf4a6154f5b",
    "papermill": {
     "duration": 0.045752,
     "end_time": "2022-12-11T13:41:29.987493",
     "exception": false,
     "start_time": "2022-12-11T13:41:29.941741",
     "status": "completed"
    },
    "tags": []
   },
   "outputs": [
    {
     "name": "stdout",
     "output_type": "stream",
     "text": [
      "0       False\n",
      "1       False\n",
      "2       False\n",
      "3       False\n",
      "4       False\n",
      "        ...  \n",
      "4432    False\n",
      "4433    False\n",
      "4434     True\n",
      "4435    False\n",
      "4436    False\n",
      "Name: alchemy_category_score, Length: 7395, dtype: bool\n"
     ]
    }
   ],
   "source": [
    "checkOutliers(p)"
   ]
  },
  {
   "cell_type": "markdown",
   "id": "ef19e8e1",
   "metadata": {
    "id": "oMeFt3rq_55Z",
    "papermill": {
     "duration": 0.027412,
     "end_time": "2022-12-11T13:41:30.048920",
     "exception": false,
     "start_time": "2022-12-11T13:41:30.021508",
     "status": "completed"
    },
    "tags": []
   },
   "source": [
    "\n",
    "As we now have the IQR scores, it’s time to get hold on outliers. The below code will give an output with some true and false values. The data point where we have False that means these values are valid whereas True indicates presence of an outlier."
   ]
  },
  {
   "cell_type": "code",
   "execution_count": 33,
   "id": "3cdaa295",
   "metadata": {
    "execution": {
     "iopub.execute_input": "2022-12-11T13:41:30.107796Z",
     "iopub.status.busy": "2022-12-11T13:41:30.106705Z",
     "iopub.status.idle": "2022-12-11T13:41:30.113756Z",
     "shell.execute_reply": "2022-12-11T13:41:30.112593Z"
    },
    "id": "By9JZlFA2XG2",
    "outputId": "b885ce6e-7f35-4a48-d800-0d83b33bcbc4",
    "papermill": {
     "duration": 0.039455,
     "end_time": "2022-12-11T13:41:30.116241",
     "exception": false,
     "start_time": "2022-12-11T13:41:30.076786",
     "status": "completed"
    },
    "tags": []
   },
   "outputs": [
    {
     "data": {
      "text/plain": [
       "(7395,)"
      ]
     },
     "execution_count": 33,
     "metadata": {},
     "output_type": "execute_result"
    }
   ],
   "source": [
    "p.shape"
   ]
  },
  {
   "cell_type": "code",
   "execution_count": 34,
   "id": "3b9bbde5",
   "metadata": {
    "execution": {
     "iopub.execute_input": "2022-12-11T13:41:30.176429Z",
     "iopub.status.busy": "2022-12-11T13:41:30.175764Z",
     "iopub.status.idle": "2022-12-11T13:41:30.184057Z",
     "shell.execute_reply": "2022-12-11T13:41:30.182882Z"
    },
    "id": "fS55W6jG4tr9",
    "papermill": {
     "duration": 0.041071,
     "end_time": "2022-12-11T13:41:30.186438",
     "exception": false,
     "start_time": "2022-12-11T13:41:30.145367",
     "status": "completed"
    },
    "tags": []
   },
   "outputs": [],
   "source": [
    "p = removeOutliers(p)"
   ]
  },
  {
   "cell_type": "code",
   "execution_count": 35,
   "id": "11bb396f",
   "metadata": {
    "execution": {
     "iopub.execute_input": "2022-12-11T13:41:30.245529Z",
     "iopub.status.busy": "2022-12-11T13:41:30.244905Z",
     "iopub.status.idle": "2022-12-11T13:41:30.255386Z",
     "shell.execute_reply": "2022-12-11T13:41:30.253508Z"
    },
    "id": "Vk0hvg0Z5nTH",
    "outputId": "07fc35bb-e3ba-4ff6-ba0e-1f6ffce5f8fc",
    "papermill": {
     "duration": 0.043625,
     "end_time": "2022-12-11T13:41:30.258354",
     "exception": false,
     "start_time": "2022-12-11T13:41:30.214729",
     "status": "completed"
    },
    "tags": []
   },
   "outputs": [
    {
     "name": "stdout",
     "output_type": "stream",
     "text": [
      "0        True\n",
      "1       False\n",
      "2       False\n",
      "3       False\n",
      "4       False\n",
      "        ...  \n",
      "4430    False\n",
      "4432    False\n",
      "4433    False\n",
      "4435    False\n",
      "4436     True\n",
      "Name: alchemy_category_score, Length: 6885, dtype: bool\n"
     ]
    }
   ],
   "source": [
    "checkOutliers(p)"
   ]
  },
  {
   "cell_type": "code",
   "execution_count": 36,
   "id": "fd2544d3",
   "metadata": {
    "execution": {
     "iopub.execute_input": "2022-12-11T13:41:30.317889Z",
     "iopub.status.busy": "2022-12-11T13:41:30.317407Z",
     "iopub.status.idle": "2022-12-11T13:41:30.817222Z",
     "shell.execute_reply": "2022-12-11T13:41:30.815888Z"
    },
    "id": "a4zHnIte7lcP",
    "outputId": "c07ad404-fb97-4473-e814-2432551da4ba",
    "papermill": {
     "duration": 0.533087,
     "end_time": "2022-12-11T13:41:30.820154",
     "exception": false,
     "start_time": "2022-12-11T13:41:30.287067",
     "status": "completed"
    },
    "tags": []
   },
   "outputs": [
    {
     "name": "stderr",
     "output_type": "stream",
     "text": [
      "/opt/conda/lib/python3.7/site-packages/seaborn/distributions.py:2619: FutureWarning: `distplot` is a deprecated function and will be removed in a future version. Please adapt your code to use either `displot` (a figure-level function with similar flexibility) or `histplot` (an axes-level function for histograms).\n",
      "  warnings.warn(msg, FutureWarning)\n"
     ]
    },
    {
     "data": {
      "image/png": "[encoded data removed]",
      "text/plain": [
       "<Figure size 432x288 with 1 Axes>"
      ]
     },
     "metadata": {
      "needs_background": "light"
     },
     "output_type": "display_data"
    },
    {
     "data": {
      "image/png": "[encoded data removed]",
      "text/plain": [
       "<Figure size 1152x360 with 1 Axes>"
      ]
     },
     "metadata": {
      "needs_background": "light"
     },
     "output_type": "display_data"
    }
   ],
   "source": [
    "outlierPlot(p)"
   ]
  },
  {
   "cell_type": "code",
   "execution_count": 37,
   "id": "742a5fd4",
   "metadata": {
    "execution": {
     "iopub.execute_input": "2022-12-11T13:41:30.880989Z",
     "iopub.status.busy": "2022-12-11T13:41:30.880525Z",
     "iopub.status.idle": "2022-12-11T13:41:31.428914Z",
     "shell.execute_reply": "2022-12-11T13:41:31.427194Z"
    },
    "id": "jvY6qopY8HKQ",
    "outputId": "52baba8b-c9d7-4a7e-9608-d9e12cbd3c74",
    "papermill": {
     "duration": 0.581936,
     "end_time": "2022-12-11T13:41:31.431723",
     "exception": false,
     "start_time": "2022-12-11T13:41:30.849787",
     "status": "completed"
    },
    "tags": []
   },
   "outputs": [
    {
     "name": "stderr",
     "output_type": "stream",
     "text": [
      "/opt/conda/lib/python3.7/site-packages/seaborn/distributions.py:2619: FutureWarning: `distplot` is a deprecated function and will be removed in a future version. Please adapt your code to use either `displot` (a figure-level function with similar flexibility) or `histplot` (an axes-level function for histograms).\n",
      "  warnings.warn(msg, FutureWarning)\n"
     ]
    },
    {
     "data": {
      "image/png": "[encoded data removed]",
      "text/plain": [
       "<Figure size 432x288 with 1 Axes>"
      ]
     },
     "metadata": {
      "needs_background": "light"
     },
     "output_type": "display_data"
    },
    {
     "data": {
      "image/png": "[encoded data removed]",
      "text/plain": [
       "<Figure size 1152x360 with 1 Axes>"
      ]
     },
     "metadata": {
      "needs_background": "light"
     },
     "output_type": "display_data"
    }
   ],
   "source": [
    "q = X['avg_link_size']\n",
    "outlierPlot(q)"
   ]
  },
  {
   "cell_type": "code",
   "execution_count": 38,
   "id": "e865323c",
   "metadata": {
    "execution": {
     "iopub.execute_input": "2022-12-11T13:41:31.494371Z",
     "iopub.status.busy": "2022-12-11T13:41:31.493920Z",
     "iopub.status.idle": "2022-12-11T13:41:31.505964Z",
     "shell.execute_reply": "2022-12-11T13:41:31.504097Z"
    },
    "id": "j9FpkqS29EJO",
    "outputId": "181aa6c2-2476-470a-e4e2-e90a387334af",
    "papermill": {
     "duration": 0.047105,
     "end_time": "2022-12-11T13:41:31.509488",
     "exception": false,
     "start_time": "2022-12-11T13:41:31.462383",
     "status": "completed"
    },
    "tags": []
   },
   "outputs": [
    {
     "name": "stdout",
     "output_type": "stream",
     "text": [
      "0       False\n",
      "1       False\n",
      "2       False\n",
      "3       False\n",
      "4       False\n",
      "        ...  \n",
      "4432    False\n",
      "4433    False\n",
      "4434    False\n",
      "4435    False\n",
      "4436    False\n",
      "Name: avg_link_size, Length: 7395, dtype: bool\n"
     ]
    }
   ],
   "source": [
    "checkOutliers(q)"
   ]
  },
  {
   "cell_type": "code",
   "execution_count": 39,
   "id": "68bd2099",
   "metadata": {
    "execution": {
     "iopub.execute_input": "2022-12-11T13:41:31.572935Z",
     "iopub.status.busy": "2022-12-11T13:41:31.572366Z",
     "iopub.status.idle": "2022-12-11T13:41:31.582337Z",
     "shell.execute_reply": "2022-12-11T13:41:31.581129Z"
    },
    "id": "8KS9mgaV91I3",
    "papermill": {
     "duration": 0.045021,
     "end_time": "2022-12-11T13:41:31.585419",
     "exception": false,
     "start_time": "2022-12-11T13:41:31.540398",
     "status": "completed"
    },
    "tags": []
   },
   "outputs": [],
   "source": [
    "q = removeOutliers(q)"
   ]
  },
  {
   "cell_type": "code",
   "execution_count": 40,
   "id": "f7a517b7",
   "metadata": {
    "execution": {
     "iopub.execute_input": "2022-12-11T13:41:31.648139Z",
     "iopub.status.busy": "2022-12-11T13:41:31.647588Z",
     "iopub.status.idle": "2022-12-11T13:41:31.661422Z",
     "shell.execute_reply": "2022-12-11T13:41:31.659128Z"
    },
    "id": "YpqHiMGs98Pc",
    "outputId": "79dfa52f-77e3-478a-fe8d-a371a1f198b8",
    "papermill": {
     "duration": 0.048594,
     "end_time": "2022-12-11T13:41:31.664132",
     "exception": false,
     "start_time": "2022-12-11T13:41:31.615538",
     "status": "completed"
    },
    "tags": []
   },
   "outputs": [
    {
     "name": "stdout",
     "output_type": "stream",
     "text": [
      "0       False\n",
      "1       False\n",
      "2       False\n",
      "3       False\n",
      "4       False\n",
      "        ...  \n",
      "4432    False\n",
      "4433    False\n",
      "4434    False\n",
      "4435    False\n",
      "4436    False\n",
      "Name: avg_link_size, Length: 6938, dtype: bool\n"
     ]
    }
   ],
   "source": [
    "checkOutliers(q)"
   ]
  },
  {
   "cell_type": "code",
   "execution_count": 41,
   "id": "29092890",
   "metadata": {
    "execution": {
     "iopub.execute_input": "2022-12-11T13:41:31.727204Z",
     "iopub.status.busy": "2022-12-11T13:41:31.726792Z",
     "iopub.status.idle": "2022-12-11T13:41:32.187087Z",
     "shell.execute_reply": "2022-12-11T13:41:32.185484Z"
    },
    "id": "bYofcvmw-YJ_",
    "outputId": "87240c24-e969-4c76-9673-cf15364b0c4b",
    "papermill": {
     "duration": 0.495742,
     "end_time": "2022-12-11T13:41:32.190321",
     "exception": false,
     "start_time": "2022-12-11T13:41:31.694579",
     "status": "completed"
    },
    "tags": []
   },
   "outputs": [
    {
     "name": "stderr",
     "output_type": "stream",
     "text": [
      "/opt/conda/lib/python3.7/site-packages/seaborn/distributions.py:2619: FutureWarning: `distplot` is a deprecated function and will be removed in a future version. Please adapt your code to use either `displot` (a figure-level function with similar flexibility) or `histplot` (an axes-level function for histograms).\n",
      "  warnings.warn(msg, FutureWarning)\n"
     ]
    },
    {
     "data": {
      "image/png": "[encoded data removed]",
      "text/plain": [
       "<Figure size 432x288 with 1 Axes>"
      ]
     },
     "metadata": {
      "needs_background": "light"
     },
     "output_type": "display_data"
    },
    {
     "data": {
      "image/png": "[encoded data removed]",
      "text/plain": [
       "<Figure size 1152x360 with 1 Axes>"
      ]
     },
     "metadata": {
      "needs_background": "light"
     },
     "output_type": "display_data"
    }
   ],
   "source": [
    "outlierPlot(q)"
   ]
  },
  {
   "cell_type": "code",
   "execution_count": 42,
   "id": "5160242a",
   "metadata": {
    "execution": {
     "iopub.execute_input": "2022-12-11T13:41:32.253947Z",
     "iopub.status.busy": "2022-12-11T13:41:32.252447Z",
     "iopub.status.idle": "2022-12-11T13:41:32.705983Z",
     "shell.execute_reply": "2022-12-11T13:41:32.705094Z"
    },
    "id": "Hmk6wlCJ99yT",
    "outputId": "0800b5b6-6085-4fff-e4c3-a0d897a5f7a7",
    "papermill": {
     "duration": 0.487727,
     "end_time": "2022-12-11T13:41:32.708323",
     "exception": false,
     "start_time": "2022-12-11T13:41:32.220596",
     "status": "completed"
    },
    "tags": []
   },
   "outputs": [
    {
     "name": "stderr",
     "output_type": "stream",
     "text": [
      "/opt/conda/lib/python3.7/site-packages/seaborn/distributions.py:2619: FutureWarning: `distplot` is a deprecated function and will be removed in a future version. Please adapt your code to use either `displot` (a figure-level function with similar flexibility) or `histplot` (an axes-level function for histograms).\n",
      "  warnings.warn(msg, FutureWarning)\n"
     ]
    },
    {
     "data": {
      "image/png": "[encoded data removed]",
      "text/plain": [
       "<Figure size 432x288 with 1 Axes>"
      ]
     },
     "metadata": {
      "needs_background": "light"
     },
     "output_type": "display_data"
    },
    {
     "data": {
      "image/png": "[encoded data removed]",
      "text/plain": [
       "<Figure size 1152x360 with 1 Axes>"
      ]
     },
     "metadata": {
      "needs_background": "light"
     },
     "output_type": "display_data"
    }
   ],
   "source": [
    "r = X['common_word_link_ratio_1']\n",
    "outlierPlot(r)"
   ]
  },
  {
   "cell_type": "code",
   "execution_count": 43,
   "id": "604affc4",
   "metadata": {
    "execution": {
     "iopub.execute_input": "2022-12-11T13:41:32.774920Z",
     "iopub.status.busy": "2022-12-11T13:41:32.774457Z",
     "iopub.status.idle": "2022-12-11T13:41:32.787513Z",
     "shell.execute_reply": "2022-12-11T13:41:32.785919Z"
    },
    "id": "mUoUErO7-LWD",
    "outputId": "a72cb7d5-0c12-413e-ef49-d71800ed4458",
    "papermill": {
     "duration": 0.05008,
     "end_time": "2022-12-11T13:41:32.790296",
     "exception": false,
     "start_time": "2022-12-11T13:41:32.740216",
     "status": "completed"
    },
    "tags": []
   },
   "outputs": [
    {
     "name": "stdout",
     "output_type": "stream",
     "text": [
      "0       False\n",
      "1       False\n",
      "2       False\n",
      "3       False\n",
      "4       False\n",
      "        ...  \n",
      "4432    False\n",
      "4433    False\n",
      "4434    False\n",
      "4435    False\n",
      "4436    False\n",
      "Name: common_word_link_ratio_1, Length: 7395, dtype: bool\n"
     ]
    }
   ],
   "source": [
    "checkOutliers(r)"
   ]
  },
  {
   "cell_type": "code",
   "execution_count": 44,
   "id": "f5d8b0c5",
   "metadata": {
    "execution": {
     "iopub.execute_input": "2022-12-11T13:41:32.855788Z",
     "iopub.status.busy": "2022-12-11T13:41:32.854478Z",
     "iopub.status.idle": "2022-12-11T13:41:32.864338Z",
     "shell.execute_reply": "2022-12-11T13:41:32.863066Z"
    },
    "id": "n6XPA3hB-NgJ",
    "papermill": {
     "duration": 0.046208,
     "end_time": "2022-12-11T13:41:32.868003",
     "exception": false,
     "start_time": "2022-12-11T13:41:32.821795",
     "status": "completed"
    },
    "tags": []
   },
   "outputs": [],
   "source": [
    "r = removeOutliers(r)"
   ]
  },
  {
   "cell_type": "code",
   "execution_count": 45,
   "id": "968eae11",
   "metadata": {
    "execution": {
     "iopub.execute_input": "2022-12-11T13:41:32.933614Z",
     "iopub.status.busy": "2022-12-11T13:41:32.932616Z",
     "iopub.status.idle": "2022-12-11T13:41:32.945337Z",
     "shell.execute_reply": "2022-12-11T13:41:32.943053Z"
    },
    "id": "jYucL6J_-Qf3",
    "outputId": "5c2ddc03-b938-44f2-d7f6-9af88d11a774",
    "papermill": {
     "duration": 0.049108,
     "end_time": "2022-12-11T13:41:32.949079",
     "exception": false,
     "start_time": "2022-12-11T13:41:32.899971",
     "status": "completed"
    },
    "tags": []
   },
   "outputs": [
    {
     "name": "stdout",
     "output_type": "stream",
     "text": [
      "0       False\n",
      "1       False\n",
      "2       False\n",
      "3       False\n",
      "4       False\n",
      "        ...  \n",
      "4432    False\n",
      "4433    False\n",
      "4434    False\n",
      "4435    False\n",
      "4436    False\n",
      "Name: common_word_link_ratio_1, Length: 7395, dtype: bool\n"
     ]
    }
   ],
   "source": [
    "checkOutliers(r)"
   ]
  },
  {
   "cell_type": "code",
   "execution_count": 46,
   "id": "34e22ec2",
   "metadata": {
    "execution": {
     "iopub.execute_input": "2022-12-11T13:41:33.025612Z",
     "iopub.status.busy": "2022-12-11T13:41:33.024469Z",
     "iopub.status.idle": "2022-12-11T13:41:33.828361Z",
     "shell.execute_reply": "2022-12-11T13:41:33.827010Z"
    },
    "id": "ldEZR-kH-fOL",
    "outputId": "50e06bc5-a15a-4891-ce55-fa35ebaaa22f",
    "papermill": {
     "duration": 0.84853,
     "end_time": "2022-12-11T13:41:33.831118",
     "exception": false,
     "start_time": "2022-12-11T13:41:32.982588",
     "status": "completed"
    },
    "tags": []
   },
   "outputs": [
    {
     "name": "stderr",
     "output_type": "stream",
     "text": [
      "/opt/conda/lib/python3.7/site-packages/seaborn/distributions.py:2619: FutureWarning: `distplot` is a deprecated function and will be removed in a future version. Please adapt your code to use either `displot` (a figure-level function with similar flexibility) or `histplot` (an axes-level function for histograms).\n",
      "  warnings.warn(msg, FutureWarning)\n"
     ]
    },
    {
     "data": {
      "image/png": "[encoded data removed]",
      "text/plain": [
       "<Figure size 432x288 with 1 Axes>"
      ]
     },
     "metadata": {
      "needs_background": "light"
     },
     "output_type": "display_data"
    },
    {
     "data": {
      "image/png": "[encoded data removed]",
      "text/plain": [
       "<Figure size 1152x360 with 1 Axes>"
      ]
     },
     "metadata": {
      "needs_background": "light"
     },
     "output_type": "display_data"
    }
   ],
   "source": [
    "s = X['common_word_link_ratio_2']\n",
    "outlierPlot(s)"
   ]
  },
  {
   "cell_type": "code",
   "execution_count": 47,
   "id": "909a54b6",
   "metadata": {
    "execution": {
     "iopub.execute_input": "2022-12-11T13:41:33.897188Z",
     "iopub.status.busy": "2022-12-11T13:41:33.896735Z",
     "iopub.status.idle": "2022-12-11T13:41:34.382138Z",
     "shell.execute_reply": "2022-12-11T13:41:34.380398Z"
    },
    "id": "i-DrS4Ha-pG5",
    "outputId": "d9b5f4e0-bbf9-4252-c03d-8e176606e645",
    "papermill": {
     "duration": 0.521809,
     "end_time": "2022-12-11T13:41:34.385047",
     "exception": false,
     "start_time": "2022-12-11T13:41:33.863238",
     "status": "completed"
    },
    "tags": []
   },
   "outputs": [
    {
     "name": "stderr",
     "output_type": "stream",
     "text": [
      "/opt/conda/lib/python3.7/site-packages/seaborn/distributions.py:2619: FutureWarning: `distplot` is a deprecated function and will be removed in a future version. Please adapt your code to use either `displot` (a figure-level function with similar flexibility) or `histplot` (an axes-level function for histograms).\n",
      "  warnings.warn(msg, FutureWarning)\n"
     ]
    },
    {
     "data": {
      "image/png": "[encoded data removed]",
      "text/plain": [
       "<Figure size 432x288 with 1 Axes>"
      ]
     },
     "metadata": {
      "needs_background": "light"
     },
     "output_type": "display_data"
    },
    {
     "data": {
      "image/png": "[encoded data removed]",
      "text/plain": [
       "<Figure size 1152x360 with 1 Axes>"
      ]
     },
     "metadata": {
      "needs_background": "light"
     },
     "output_type": "display_data"
    }
   ],
   "source": [
    "s = removeOutliers(s)\n",
    "outlierPlot(s)"
   ]
  },
  {
   "cell_type": "code",
   "execution_count": 48,
   "id": "9d102a9b",
   "metadata": {
    "execution": {
     "iopub.execute_input": "2022-12-11T13:41:34.452467Z",
     "iopub.status.busy": "2022-12-11T13:41:34.452002Z",
     "iopub.status.idle": "2022-12-11T13:41:34.953919Z",
     "shell.execute_reply": "2022-12-11T13:41:34.952293Z"
    },
    "id": "GJujdSkO-sTx",
    "outputId": "41bbdc2e-633d-4c79-db90-0fe176dedc28",
    "papermill": {
     "duration": 0.539056,
     "end_time": "2022-12-11T13:41:34.957008",
     "exception": false,
     "start_time": "2022-12-11T13:41:34.417952",
     "status": "completed"
    },
    "tags": []
   },
   "outputs": [
    {
     "name": "stdout",
     "output_type": "stream",
     "text": [
      "<bound method Series.count of 0       0.005025\n",
      "1       0.107692\n",
      "2       0.000000\n",
      "3       0.000000\n",
      "4       0.148472\n",
      "          ...   \n",
      "4432    0.079545\n",
      "4433    0.000000\n",
      "4434    0.000000\n",
      "4435    0.048611\n",
      "4436    0.000000\n",
      "Name: common_word_link_ratio_4, Length: 7395, dtype: float64>\n"
     ]
    },
    {
     "name": "stderr",
     "output_type": "stream",
     "text": [
      "/opt/conda/lib/python3.7/site-packages/seaborn/distributions.py:2619: FutureWarning: `distplot` is a deprecated function and will be removed in a future version. Please adapt your code to use either `displot` (a figure-level function with similar flexibility) or `histplot` (an axes-level function for histograms).\n",
      "  warnings.warn(msg, FutureWarning)\n"
     ]
    },
    {
     "data": {
      "image/png": "[encoded data removed]",
      "text/plain": [
       "<Figure size 432x288 with 1 Axes>"
      ]
     },
     "metadata": {
      "needs_background": "light"
     },
     "output_type": "display_data"
    },
    {
     "data": {
      "image/png": "[encoded data removed]",
      "text/plain": [
       "<Figure size 1152x360 with 1 Axes>"
      ]
     },
     "metadata": {
      "needs_background": "light"
     },
     "output_type": "display_data"
    }
   ],
   "source": [
    "t = X['common_word_link_ratio_4']\n",
    "print(t.count)\n",
    "outlierPlot(t)"
   ]
  },
  {
   "cell_type": "code",
   "execution_count": 49,
   "id": "97a2bd23",
   "metadata": {
    "execution": {
     "iopub.execute_input": "2022-12-11T13:41:35.029679Z",
     "iopub.status.busy": "2022-12-11T13:41:35.029183Z",
     "iopub.status.idle": "2022-12-11T13:41:35.505530Z",
     "shell.execute_reply": "2022-12-11T13:41:35.503969Z"
    },
    "id": "cg-ZHqhf-6kd",
    "outputId": "29e20ce6-6b40-45e9-9b8d-65ebfbd9b3fb",
    "papermill": {
     "duration": 0.515586,
     "end_time": "2022-12-11T13:41:35.508600",
     "exception": false,
     "start_time": "2022-12-11T13:41:34.993014",
     "status": "completed"
    },
    "tags": []
   },
   "outputs": [
    {
     "name": "stdout",
     "output_type": "stream",
     "text": [
      "<bound method Series.count of 0       0.005025\n",
      "1       0.107692\n",
      "2       0.000000\n",
      "3       0.000000\n",
      "4       0.148472\n",
      "          ...   \n",
      "4432    0.079545\n",
      "4433    0.000000\n",
      "4434    0.000000\n",
      "4435    0.048611\n",
      "4436    0.000000\n",
      "Name: common_word_link_ratio_4, Length: 6820, dtype: float64>\n"
     ]
    },
    {
     "name": "stderr",
     "output_type": "stream",
     "text": [
      "/opt/conda/lib/python3.7/site-packages/seaborn/distributions.py:2619: FutureWarning: `distplot` is a deprecated function and will be removed in a future version. Please adapt your code to use either `displot` (a figure-level function with similar flexibility) or `histplot` (an axes-level function for histograms).\n",
      "  warnings.warn(msg, FutureWarning)\n"
     ]
    },
    {
     "data": {
      "image/png": "[encoded data removed]",
      "text/plain": [
       "<Figure size 432x288 with 1 Axes>"
      ]
     },
     "metadata": {
      "needs_background": "light"
     },
     "output_type": "display_data"
    },
    {
     "data": {
      "image/png": "[encoded data removed]",
      "text/plain": [
       "<Figure size 1152x360 with 1 Axes>"
      ]
     },
     "metadata": {
      "needs_background": "light"
     },
     "output_type": "display_data"
    }
   ],
   "source": [
    "t = removeOutliers(t)\n",
    "print(t.count)\n",
    "outlierPlot(t)"
   ]
  },
  {
   "cell_type": "code",
   "execution_count": 50,
   "id": "053fc710",
   "metadata": {
    "execution": {
     "iopub.execute_input": "2022-12-11T13:41:35.577793Z",
     "iopub.status.busy": "2022-12-11T13:41:35.577280Z",
     "iopub.status.idle": "2022-12-11T13:41:35.593013Z",
     "shell.execute_reply": "2022-12-11T13:41:35.591495Z"
    },
    "id": "Bz_huqRw--H0",
    "outputId": "0a651f84-fa50-454c-c40a-113cf4368b08",
    "papermill": {
     "duration": 0.054346,
     "end_time": "2022-12-11T13:41:35.595943",
     "exception": false,
     "start_time": "2022-12-11T13:41:35.541597",
     "status": "completed"
    },
    "tags": []
   },
   "outputs": [
    {
     "name": "stdout",
     "output_type": "stream",
     "text": [
      "7395\n",
      "7395\n",
      "6327\n",
      "7395\n"
     ]
    }
   ],
   "source": [
    "u = X['embed_ratio']\n",
    "v = X['compression_ratio']\n",
    "print(len(u))\n",
    "print(len(v))\n",
    "u = removeOutliers(u)\n",
    "u = removeOutliers(v)\n",
    "print(len(u))\n",
    "print(len(v))"
   ]
  },
  {
   "cell_type": "markdown",
   "id": "09282743",
   "metadata": {
    "id": "EyfKP9HgPYo5",
    "papermill": {
     "duration": 0.032811,
     "end_time": "2022-12-11T13:41:35.663909",
     "exception": false,
     "start_time": "2022-12-11T13:41:35.631098",
     "status": "completed"
    },
    "tags": []
   },
   "source": [
    "# NLP Pre Processsing"
   ]
  },
  {
   "cell_type": "code",
   "execution_count": 51,
   "id": "cd557f67",
   "metadata": {
    "execution": {
     "iopub.execute_input": "2022-12-11T13:41:35.733591Z",
     "iopub.status.busy": "2022-12-11T13:41:35.732218Z",
     "iopub.status.idle": "2022-12-11T13:41:35.811091Z",
     "shell.execute_reply": "2022-12-11T13:41:35.810217Z"
    },
    "id": "weVMnNR0PtpR",
    "outputId": "6d94d532-53bb-4c8d-e496-f457b83b9a1f",
    "papermill": {
     "duration": 0.116231,
     "end_time": "2022-12-11T13:41:35.813641",
     "exception": false,
     "start_time": "2022-12-11T13:41:35.697410",
     "status": "completed"
    },
    "tags": []
   },
   "outputs": [
    {
     "data": {
      "text/plain": [
       "0       www.ellesnewenglandkitchen.com\n",
       "1                     www.alternet.org\n",
       "2                 www.wiredberries.com\n",
       "3              www.elements4health.com\n",
       "4             www.poorgirleatswell.com\n",
       "                     ...              \n",
       "4432                 newsfeed.time.com\n",
       "4433                  tastykitchen.com\n",
       "4434                        ecoble.com\n",
       "4435            www.huffingtonpost.com\n",
       "4436                  www.bromygod.com\n",
       "Name: link, Length: 7395, dtype: object"
      ]
     },
     "execution_count": 51,
     "metadata": {},
     "output_type": "execute_result"
    }
   ],
   "source": [
    "from urllib.parse import urlparse\n",
    "X.link=X.link.apply(lambda x:urlparse(x).netloc)\n",
    "X.link"
   ]
  },
  {
   "cell_type": "code",
   "execution_count": 52,
   "id": "cee3820c",
   "metadata": {
    "execution": {
     "iopub.execute_input": "2022-12-11T13:41:35.884607Z",
     "iopub.status.busy": "2022-12-11T13:41:35.882915Z",
     "iopub.status.idle": "2022-12-11T13:41:35.908959Z",
     "shell.execute_reply": "2022-12-11T13:41:35.907728Z"
    },
    "id": "_lwcnk2DRbng",
    "outputId": "4558c64e-ea3b-4120-ef60-6f55525e79d4",
    "papermill": {
     "duration": 0.063888,
     "end_time": "2022-12-11T13:41:35.911590",
     "exception": false,
     "start_time": "2022-12-11T13:41:35.847702",
     "status": "completed"
    },
    "tags": []
   },
   "outputs": [
    {
     "data": {
      "text/html": [
       "<div>\n",
       "<style scoped>\n",
       "    .dataframe tbody tr th:only-of-type {\n",
       "        vertical-align: middle;\n",
       "    }\n",
       "\n",
       "    .dataframe tbody tr th {\n",
       "        vertical-align: top;\n",
       "    }\n",
       "\n",
       "    .dataframe thead th {\n",
       "        text-align: right;\n",
       "    }\n",
       "</style>\n",
       "<table border=\"1\" class=\"dataframe\">\n",
       "  <thead>\n",
       "    <tr style=\"text-align: right;\">\n",
       "      <th></th>\n",
       "      <th>link</th>\n",
       "      <th>link_id</th>\n",
       "      <th>page_description</th>\n",
       "      <th>alchemy_category_score</th>\n",
       "      <th>avg_link_size</th>\n",
       "      <th>common_word_link_ratio_1</th>\n",
       "      <th>common_word_link_ratio_2</th>\n",
       "      <th>common_word_link_ratio_3</th>\n",
       "      <th>common_word_link_ratio_4</th>\n",
       "      <th>compression_ratio</th>\n",
       "      <th>...</th>\n",
       "      <th>alchemy_category_culture_politics</th>\n",
       "      <th>alchemy_category_gaming</th>\n",
       "      <th>alchemy_category_health</th>\n",
       "      <th>alchemy_category_law_crime</th>\n",
       "      <th>alchemy_category_recreation</th>\n",
       "      <th>alchemy_category_religion</th>\n",
       "      <th>alchemy_category_science_technology</th>\n",
       "      <th>alchemy_category_sports</th>\n",
       "      <th>alchemy_category_unknown</th>\n",
       "      <th>alchemy_category_weather</th>\n",
       "    </tr>\n",
       "  </thead>\n",
       "  <tbody>\n",
       "    <tr>\n",
       "      <th>0</th>\n",
       "      <td>www.ellesnewenglandkitchen.com</td>\n",
       "      <td>4049</td>\n",
       "      <td>{\"title\":\"Elle s New England Kitchen Elle s Ne...</td>\n",
       "      <td>0.365831</td>\n",
       "      <td>1.217617</td>\n",
       "      <td>0.261307</td>\n",
       "      <td>0.035176</td>\n",
       "      <td>0.015075</td>\n",
       "      <td>0.005025</td>\n",
       "      <td>0.488917</td>\n",
       "      <td>...</td>\n",
       "      <td>0</td>\n",
       "      <td>0</td>\n",
       "      <td>0</td>\n",
       "      <td>0</td>\n",
       "      <td>0</td>\n",
       "      <td>0</td>\n",
       "      <td>0</td>\n",
       "      <td>0</td>\n",
       "      <td>0</td>\n",
       "      <td>0</td>\n",
       "    </tr>\n",
       "    <tr>\n",
       "      <th>1</th>\n",
       "      <td>www.alternet.org</td>\n",
       "      <td>3692</td>\n",
       "      <td>{\"url\":\"alternet org story 149193 study confir...</td>\n",
       "      <td>0.876315</td>\n",
       "      <td>3.814208</td>\n",
       "      <td>0.589744</td>\n",
       "      <td>0.261538</td>\n",
       "      <td>0.179487</td>\n",
       "      <td>0.107692</td>\n",
       "      <td>0.452856</td>\n",
       "      <td>...</td>\n",
       "      <td>1</td>\n",
       "      <td>0</td>\n",
       "      <td>0</td>\n",
       "      <td>0</td>\n",
       "      <td>0</td>\n",
       "      <td>0</td>\n",
       "      <td>0</td>\n",
       "      <td>0</td>\n",
       "      <td>0</td>\n",
       "      <td>0</td>\n",
       "    </tr>\n",
       "    <tr>\n",
       "      <th>2</th>\n",
       "      <td>www.wiredberries.com</td>\n",
       "      <td>9739</td>\n",
       "      <td>{\"title\":\" \",\"body\":\" \",\"url\":\"wiredberries\"}</td>\n",
       "      <td>0.683300</td>\n",
       "      <td>1.793103</td>\n",
       "      <td>0.402299</td>\n",
       "      <td>0.183908</td>\n",
       "      <td>0.000000</td>\n",
       "      <td>0.000000</td>\n",
       "      <td>21.000000</td>\n",
       "      <td>...</td>\n",
       "      <td>0</td>\n",
       "      <td>0</td>\n",
       "      <td>0</td>\n",
       "      <td>0</td>\n",
       "      <td>0</td>\n",
       "      <td>0</td>\n",
       "      <td>0</td>\n",
       "      <td>0</td>\n",
       "      <td>0</td>\n",
       "      <td>0</td>\n",
       "    </tr>\n",
       "    <tr>\n",
       "      <th>3</th>\n",
       "      <td>www.elements4health.com</td>\n",
       "      <td>1548</td>\n",
       "      <td>{\"title\":\"The Health Benefits of Cayenne Peppe...</td>\n",
       "      <td>0.683300</td>\n",
       "      <td>2.083333</td>\n",
       "      <td>0.636364</td>\n",
       "      <td>0.279720</td>\n",
       "      <td>0.041958</td>\n",
       "      <td>0.000000</td>\n",
       "      <td>0.447265</td>\n",
       "      <td>...</td>\n",
       "      <td>0</td>\n",
       "      <td>0</td>\n",
       "      <td>0</td>\n",
       "      <td>0</td>\n",
       "      <td>0</td>\n",
       "      <td>0</td>\n",
       "      <td>0</td>\n",
       "      <td>0</td>\n",
       "      <td>0</td>\n",
       "      <td>0</td>\n",
       "    </tr>\n",
       "    <tr>\n",
       "      <th>4</th>\n",
       "      <td>www.poorgirleatswell.com</td>\n",
       "      <td>5574</td>\n",
       "      <td>{\"title\":\"Recipe Hearty Mushroom Potato Soup \"...</td>\n",
       "      <td>0.747449</td>\n",
       "      <td>1.845815</td>\n",
       "      <td>0.676856</td>\n",
       "      <td>0.310044</td>\n",
       "      <td>0.183406</td>\n",
       "      <td>0.148472</td>\n",
       "      <td>0.460235</td>\n",
       "      <td>...</td>\n",
       "      <td>0</td>\n",
       "      <td>0</td>\n",
       "      <td>0</td>\n",
       "      <td>0</td>\n",
       "      <td>1</td>\n",
       "      <td>0</td>\n",
       "      <td>0</td>\n",
       "      <td>0</td>\n",
       "      <td>0</td>\n",
       "      <td>0</td>\n",
       "    </tr>\n",
       "  </tbody>\n",
       "</table>\n",
       "<p>5 rows × 39 columns</p>\n",
       "</div>"
      ],
      "text/plain": [
       "                             link  link_id  \\\n",
       "0  www.ellesnewenglandkitchen.com     4049   \n",
       "1                www.alternet.org     3692   \n",
       "2            www.wiredberries.com     9739   \n",
       "3         www.elements4health.com     1548   \n",
       "4        www.poorgirleatswell.com     5574   \n",
       "\n",
       "                                    page_description  alchemy_category_score  \\\n",
       "0  {\"title\":\"Elle s New England Kitchen Elle s Ne...                0.365831   \n",
       "1  {\"url\":\"alternet org story 149193 study confir...                0.876315   \n",
       "2      {\"title\":\" \",\"body\":\" \",\"url\":\"wiredberries\"}                0.683300   \n",
       "3  {\"title\":\"The Health Benefits of Cayenne Peppe...                0.683300   \n",
       "4  {\"title\":\"Recipe Hearty Mushroom Potato Soup \"...                0.747449   \n",
       "\n",
       "   avg_link_size  common_word_link_ratio_1  common_word_link_ratio_2  \\\n",
       "0       1.217617                  0.261307                  0.035176   \n",
       "1       3.814208                  0.589744                  0.261538   \n",
       "2       1.793103                  0.402299                  0.183908   \n",
       "3       2.083333                  0.636364                  0.279720   \n",
       "4       1.845815                  0.676856                  0.310044   \n",
       "\n",
       "   common_word_link_ratio_3  common_word_link_ratio_4  compression_ratio  ...  \\\n",
       "0                  0.015075                  0.005025           0.488917  ...   \n",
       "1                  0.179487                  0.107692           0.452856  ...   \n",
       "2                  0.000000                  0.000000          21.000000  ...   \n",
       "3                  0.041958                  0.000000           0.447265  ...   \n",
       "4                  0.183406                  0.148472           0.460235  ...   \n",
       "\n",
       "   alchemy_category_culture_politics  alchemy_category_gaming  \\\n",
       "0                                  0                        0   \n",
       "1                                  1                        0   \n",
       "2                                  0                        0   \n",
       "3                                  0                        0   \n",
       "4                                  0                        0   \n",
       "\n",
       "   alchemy_category_health  alchemy_category_law_crime  \\\n",
       "0                        0                           0   \n",
       "1                        0                           0   \n",
       "2                        0                           0   \n",
       "3                        0                           0   \n",
       "4                        0                           0   \n",
       "\n",
       "   alchemy_category_recreation  alchemy_category_religion  \\\n",
       "0                            0                          0   \n",
       "1                            0                          0   \n",
       "2                            0                          0   \n",
       "3                            0                          0   \n",
       "4                            1                          0   \n",
       "\n",
       "   alchemy_category_science_technology  alchemy_category_sports  \\\n",
       "0                                    0                        0   \n",
       "1                                    0                        0   \n",
       "2                                    0                        0   \n",
       "3                                    0                        0   \n",
       "4                                    0                        0   \n",
       "\n",
       "   alchemy_category_unknown  alchemy_category_weather  \n",
       "0                         0                         0  \n",
       "1                         0                         0  \n",
       "2                         0                         0  \n",
       "3                         0                         0  \n",
       "4                         0                         0  \n",
       "\n",
       "[5 rows x 39 columns]"
      ]
     },
     "execution_count": 52,
     "metadata": {},
     "output_type": "execute_result"
    }
   ],
   "source": [
    "X.head()"
   ]
  },
  {
   "cell_type": "code",
   "execution_count": 53,
   "id": "7d19dede",
   "metadata": {
    "execution": {
     "iopub.execute_input": "2022-12-11T13:41:35.982448Z",
     "iopub.status.busy": "2022-12-11T13:41:35.981417Z",
     "iopub.status.idle": "2022-12-11T13:41:36.253238Z",
     "shell.execute_reply": "2022-12-11T13:41:36.252019Z"
    },
    "id": "zkHiLre9R7rh",
    "outputId": "76dba972-9bdc-4920-a967-48410f21bf02",
    "papermill": {
     "duration": 0.310173,
     "end_time": "2022-12-11T13:41:36.256025",
     "exception": false,
     "start_time": "2022-12-11T13:41:35.945852",
     "status": "completed"
    },
    "tags": []
   },
   "outputs": [
    {
     "data": {
      "text/plain": [
       "0    \"Elle s New England Kitchen Elle s New England...\n",
       "1    \"alternet org story 149193 study confirms that...\n",
       "2                               \" \",\" \",\"wiredberries\"\n",
       "3    \"The Health Benefits of Cayenne Pepper \",\"Brie...\n",
       "4    \"Recipe Hearty Mushroom Potato Soup \",\"If you ...\n",
       "Name: page_description, dtype: object"
      ]
     },
     "execution_count": 53,
     "metadata": {},
     "output_type": "execute_result"
    }
   ],
   "source": [
    "X['page_description'].replace(to_replace=r'\"title\":', value=\"\",inplace=True,regex=True)\n",
    "X['page_description'].replace(to_replace=r'\"url\":',value=\"\",inplace=True,regex=True)\n",
    "X['page_description'].replace(to_replace=r'\"body\":',value=\"\",inplace=True,regex=True)\n",
    "X['page_description'].replace(to_replace=r'{|}',value=\"\",inplace=True,regex=True)\n",
    "X['page_description'].head()"
   ]
  },
  {
   "cell_type": "code",
   "execution_count": 54,
   "id": "bfbe430a",
   "metadata": {
    "execution": {
     "iopub.execute_input": "2022-12-11T13:41:36.329496Z",
     "iopub.status.busy": "2022-12-11T13:41:36.329022Z",
     "iopub.status.idle": "2022-12-11T13:41:36.354373Z",
     "shell.execute_reply": "2022-12-11T13:41:36.353085Z"
    },
    "id": "ZyYMAU93SBWt",
    "outputId": "7ebe1b73-8869-4cd4-a6e4-54328f2ca5f4",
    "papermill": {
     "duration": 0.065254,
     "end_time": "2022-12-11T13:41:36.357126",
     "exception": false,
     "start_time": "2022-12-11T13:41:36.291872",
     "status": "completed"
    },
    "tags": []
   },
   "outputs": [
    {
     "data": {
      "text/html": [
       "<div>\n",
       "<style scoped>\n",
       "    .dataframe tbody tr th:only-of-type {\n",
       "        vertical-align: middle;\n",
       "    }\n",
       "\n",
       "    .dataframe tbody tr th {\n",
       "        vertical-align: top;\n",
       "    }\n",
       "\n",
       "    .dataframe thead th {\n",
       "        text-align: right;\n",
       "    }\n",
       "</style>\n",
       "<table border=\"1\" class=\"dataframe\">\n",
       "  <thead>\n",
       "    <tr style=\"text-align: right;\">\n",
       "      <th></th>\n",
       "      <th>link</th>\n",
       "      <th>link_id</th>\n",
       "      <th>page_description</th>\n",
       "      <th>alchemy_category_score</th>\n",
       "      <th>avg_link_size</th>\n",
       "      <th>common_word_link_ratio_1</th>\n",
       "      <th>common_word_link_ratio_2</th>\n",
       "      <th>common_word_link_ratio_3</th>\n",
       "      <th>common_word_link_ratio_4</th>\n",
       "      <th>compression_ratio</th>\n",
       "      <th>...</th>\n",
       "      <th>alchemy_category_culture_politics</th>\n",
       "      <th>alchemy_category_gaming</th>\n",
       "      <th>alchemy_category_health</th>\n",
       "      <th>alchemy_category_law_crime</th>\n",
       "      <th>alchemy_category_recreation</th>\n",
       "      <th>alchemy_category_religion</th>\n",
       "      <th>alchemy_category_science_technology</th>\n",
       "      <th>alchemy_category_sports</th>\n",
       "      <th>alchemy_category_unknown</th>\n",
       "      <th>alchemy_category_weather</th>\n",
       "    </tr>\n",
       "  </thead>\n",
       "  <tbody>\n",
       "    <tr>\n",
       "      <th>0</th>\n",
       "      <td>www.ellesnewenglandkitchen.com</td>\n",
       "      <td>4049</td>\n",
       "      <td>\"Elle s New England Kitchen Elle s New England...</td>\n",
       "      <td>0.365831</td>\n",
       "      <td>1.217617</td>\n",
       "      <td>0.261307</td>\n",
       "      <td>0.035176</td>\n",
       "      <td>0.015075</td>\n",
       "      <td>0.005025</td>\n",
       "      <td>0.488917</td>\n",
       "      <td>...</td>\n",
       "      <td>0</td>\n",
       "      <td>0</td>\n",
       "      <td>0</td>\n",
       "      <td>0</td>\n",
       "      <td>0</td>\n",
       "      <td>0</td>\n",
       "      <td>0</td>\n",
       "      <td>0</td>\n",
       "      <td>0</td>\n",
       "      <td>0</td>\n",
       "    </tr>\n",
       "    <tr>\n",
       "      <th>1</th>\n",
       "      <td>www.alternet.org</td>\n",
       "      <td>3692</td>\n",
       "      <td>\"alternet org story 149193 study confirms that...</td>\n",
       "      <td>0.876315</td>\n",
       "      <td>3.814208</td>\n",
       "      <td>0.589744</td>\n",
       "      <td>0.261538</td>\n",
       "      <td>0.179487</td>\n",
       "      <td>0.107692</td>\n",
       "      <td>0.452856</td>\n",
       "      <td>...</td>\n",
       "      <td>1</td>\n",
       "      <td>0</td>\n",
       "      <td>0</td>\n",
       "      <td>0</td>\n",
       "      <td>0</td>\n",
       "      <td>0</td>\n",
       "      <td>0</td>\n",
       "      <td>0</td>\n",
       "      <td>0</td>\n",
       "      <td>0</td>\n",
       "    </tr>\n",
       "    <tr>\n",
       "      <th>2</th>\n",
       "      <td>www.wiredberries.com</td>\n",
       "      <td>9739</td>\n",
       "      <td>\" \",\" \",\"wiredberries\"</td>\n",
       "      <td>0.683300</td>\n",
       "      <td>1.793103</td>\n",
       "      <td>0.402299</td>\n",
       "      <td>0.183908</td>\n",
       "      <td>0.000000</td>\n",
       "      <td>0.000000</td>\n",
       "      <td>21.000000</td>\n",
       "      <td>...</td>\n",
       "      <td>0</td>\n",
       "      <td>0</td>\n",
       "      <td>0</td>\n",
       "      <td>0</td>\n",
       "      <td>0</td>\n",
       "      <td>0</td>\n",
       "      <td>0</td>\n",
       "      <td>0</td>\n",
       "      <td>0</td>\n",
       "      <td>0</td>\n",
       "    </tr>\n",
       "    <tr>\n",
       "      <th>3</th>\n",
       "      <td>www.elements4health.com</td>\n",
       "      <td>1548</td>\n",
       "      <td>\"The Health Benefits of Cayenne Pepper \",\"Brie...</td>\n",
       "      <td>0.683300</td>\n",
       "      <td>2.083333</td>\n",
       "      <td>0.636364</td>\n",
       "      <td>0.279720</td>\n",
       "      <td>0.041958</td>\n",
       "      <td>0.000000</td>\n",
       "      <td>0.447265</td>\n",
       "      <td>...</td>\n",
       "      <td>0</td>\n",
       "      <td>0</td>\n",
       "      <td>0</td>\n",
       "      <td>0</td>\n",
       "      <td>0</td>\n",
       "      <td>0</td>\n",
       "      <td>0</td>\n",
       "      <td>0</td>\n",
       "      <td>0</td>\n",
       "      <td>0</td>\n",
       "    </tr>\n",
       "    <tr>\n",
       "      <th>4</th>\n",
       "      <td>www.poorgirleatswell.com</td>\n",
       "      <td>5574</td>\n",
       "      <td>\"Recipe Hearty Mushroom Potato Soup \",\"If you ...</td>\n",
       "      <td>0.747449</td>\n",
       "      <td>1.845815</td>\n",
       "      <td>0.676856</td>\n",
       "      <td>0.310044</td>\n",
       "      <td>0.183406</td>\n",
       "      <td>0.148472</td>\n",
       "      <td>0.460235</td>\n",
       "      <td>...</td>\n",
       "      <td>0</td>\n",
       "      <td>0</td>\n",
       "      <td>0</td>\n",
       "      <td>0</td>\n",
       "      <td>1</td>\n",
       "      <td>0</td>\n",
       "      <td>0</td>\n",
       "      <td>0</td>\n",
       "      <td>0</td>\n",
       "      <td>0</td>\n",
       "    </tr>\n",
       "  </tbody>\n",
       "</table>\n",
       "<p>5 rows × 39 columns</p>\n",
       "</div>"
      ],
      "text/plain": [
       "                             link  link_id  \\\n",
       "0  www.ellesnewenglandkitchen.com     4049   \n",
       "1                www.alternet.org     3692   \n",
       "2            www.wiredberries.com     9739   \n",
       "3         www.elements4health.com     1548   \n",
       "4        www.poorgirleatswell.com     5574   \n",
       "\n",
       "                                    page_description  alchemy_category_score  \\\n",
       "0  \"Elle s New England Kitchen Elle s New England...                0.365831   \n",
       "1  \"alternet org story 149193 study confirms that...                0.876315   \n",
       "2                             \" \",\" \",\"wiredberries\"                0.683300   \n",
       "3  \"The Health Benefits of Cayenne Pepper \",\"Brie...                0.683300   \n",
       "4  \"Recipe Hearty Mushroom Potato Soup \",\"If you ...                0.747449   \n",
       "\n",
       "   avg_link_size  common_word_link_ratio_1  common_word_link_ratio_2  \\\n",
       "0       1.217617                  0.261307                  0.035176   \n",
       "1       3.814208                  0.589744                  0.261538   \n",
       "2       1.793103                  0.402299                  0.183908   \n",
       "3       2.083333                  0.636364                  0.279720   \n",
       "4       1.845815                  0.676856                  0.310044   \n",
       "\n",
       "   common_word_link_ratio_3  common_word_link_ratio_4  compression_ratio  ...  \\\n",
       "0                  0.015075                  0.005025           0.488917  ...   \n",
       "1                  0.179487                  0.107692           0.452856  ...   \n",
       "2                  0.000000                  0.000000          21.000000  ...   \n",
       "3                  0.041958                  0.000000           0.447265  ...   \n",
       "4                  0.183406                  0.148472           0.460235  ...   \n",
       "\n",
       "   alchemy_category_culture_politics  alchemy_category_gaming  \\\n",
       "0                                  0                        0   \n",
       "1                                  1                        0   \n",
       "2                                  0                        0   \n",
       "3                                  0                        0   \n",
       "4                                  0                        0   \n",
       "\n",
       "   alchemy_category_health  alchemy_category_law_crime  \\\n",
       "0                        0                           0   \n",
       "1                        0                           0   \n",
       "2                        0                           0   \n",
       "3                        0                           0   \n",
       "4                        0                           0   \n",
       "\n",
       "   alchemy_category_recreation  alchemy_category_religion  \\\n",
       "0                            0                          0   \n",
       "1                            0                          0   \n",
       "2                            0                          0   \n",
       "3                            0                          0   \n",
       "4                            1                          0   \n",
       "\n",
       "   alchemy_category_science_technology  alchemy_category_sports  \\\n",
       "0                                    0                        0   \n",
       "1                                    0                        0   \n",
       "2                                    0                        0   \n",
       "3                                    0                        0   \n",
       "4                                    0                        0   \n",
       "\n",
       "   alchemy_category_unknown  alchemy_category_weather  \n",
       "0                         0                         0  \n",
       "1                         0                         0  \n",
       "2                         0                         0  \n",
       "3                         0                         0  \n",
       "4                         0                         0  \n",
       "\n",
       "[5 rows x 39 columns]"
      ]
     },
     "execution_count": 54,
     "metadata": {},
     "output_type": "execute_result"
    }
   ],
   "source": [
    "X.head()"
   ]
  },
  {
   "cell_type": "markdown",
   "id": "20a1d26f",
   "metadata": {
    "id": "P8RkiRtMW9Aa",
    "papermill": {
     "duration": 0.034772,
     "end_time": "2022-12-11T13:41:36.427637",
     "exception": false,
     "start_time": "2022-12-11T13:41:36.392865",
     "status": "completed"
    },
    "tags": []
   },
   "source": [
    "1. The **isalpha()** method returns True if all the characters are alphabet letters (a-z).Example of characters that are not alphabet letters: (space)!#%&? etc.\n",
    "\n",
    "2. **Stop Words:** A stop word is a commonly used word (such as “the”, “a”, “an”, “in”) that a search engine has been programmed to ignore, both when indexing entries for searching and when retrieving them as the result of a search query. \n",
    "We would not want these words to take up space in our database, or taking up valuable processing time. For this, we can remove them easily, by storing a list of words that you consider to stop words.\n",
    "\n",
    "3. **word_tokenize:** In Natural Language Processing, tokenization divides a string into a list of tokens. Tokens come in handy when finding valuable patterns and helping to replace sensitive data components with non-sensitive ones. word_tokenize is a function in Python that splits a given sentence into words using the NLTK library."
   ]
  },
  {
   "cell_type": "code",
   "execution_count": 55,
   "id": "8821bc81",
   "metadata": {
    "execution": {
     "iopub.execute_input": "2022-12-11T13:41:36.501442Z",
     "iopub.status.busy": "2022-12-11T13:41:36.499605Z",
     "iopub.status.idle": "2022-12-11T13:41:37.672665Z",
     "shell.execute_reply": "2022-12-11T13:41:37.671339Z"
    },
    "id": "zubiaRlHTR5t",
    "outputId": "5229ac8e-3685-4553-8e1b-56ddaaf2cab3",
    "papermill": {
     "duration": 1.213508,
     "end_time": "2022-12-11T13:41:37.675926",
     "exception": false,
     "start_time": "2022-12-11T13:41:36.462418",
     "status": "completed"
    },
    "tags": []
   },
   "outputs": [
    {
     "name": "stderr",
     "output_type": "stream",
     "text": [
      "[nltk_data] Downloading package punkt to /usr/share/nltk_data...\n",
      "[nltk_data]   Package punkt is already up-to-date!\n",
      "[nltk_data] Downloading package stopwords to /usr/share/nltk_data...\n",
      "[nltk_data]   Package stopwords is already up-to-date!\n"
     ]
    }
   ],
   "source": [
    "import nltk\n",
    "nltk.download('punkt')\n",
    "from nltk.stem import WordNetLemmatizer\n",
    "from nltk.tokenize import word_tokenize\n",
    "wordnet = WordNetLemmatizer()\n",
    "from nltk.corpus import stopwords\n",
    "nltk.download('stopwords')\n",
    "\n",
    "def textCleaning(df,column_name):\n",
    "    cleanList = list()\n",
    "    lines = df[column_name].values.tolist()\n",
    "    for text in lines:\n",
    "        text = text.lower()\n",
    "        words = word_tokenize(text)\n",
    "        stop_words = set(stopwords.words(\"english\"))\n",
    "        words = [w for w in words if not w in stop_words]\n",
    "        words = [w for w in words if w.isalpha()]\n",
    "        words = ' '.join(words)\n",
    "        cleanList.append(words)\n",
    "    return cleanList"
   ]
  },
  {
   "cell_type": "code",
   "execution_count": 56,
   "id": "864c26df",
   "metadata": {
    "execution": {
     "iopub.execute_input": "2022-12-11T13:41:37.752317Z",
     "iopub.status.busy": "2022-12-11T13:41:37.750662Z",
     "iopub.status.idle": "2022-12-11T13:41:52.943433Z",
     "shell.execute_reply": "2022-12-11T13:41:52.941862Z"
    },
    "id": "9GRhltPJZuwJ",
    "outputId": "11c053c5-d91d-487c-d55b-ebfbfac651fe",
    "papermill": {
     "duration": 15.235583,
     "end_time": "2022-12-11T13:41:52.946595",
     "exception": false,
     "start_time": "2022-12-11T13:41:37.711012",
     "status": "completed"
    },
    "tags": []
   },
   "outputs": [
    {
     "data": {
      "text/plain": [
       "['elle new england kitchen elle new england kitchen weeks ago sarah homemade asked like start making recipes together would blog experiences course said yes sarah sweetheart like baking friend kitchen except west coast east coast one two month stay tuned first one decided try pita bread great recipe dough dream work needed add flour kneading quite sticky get texture right good time consuming part set dough aside rise got minute rise minute rest another minute rest baking take minutes bake makes right even better rip one open law legally required rip open piece bread hot oven even causes acute pain digits rip one open get aroma yeasty heavenly steamy bread even need butter enjoy although pretty sure law somewhere hot bread butter going together come think also law making blog posts ramble recipe found brown eyed baker used kitchenaid stand mixer let kneading ten minutes addition cup flour dough perfect doubled recipe get pita breads family every one kids pita bread butter wait two sons butter little hoodlums breaking warm bread butter law early age dinner see eight enough husband dinner burger recipe upcoming post try one recipe blog burgers would top favorites mmmmm coming end ramblings pita breads easy make would really fun kids kinda fun watch puff oven thanks sarah lot fun whole family enjoyed bread even picky ones kids picky bread bet picky bread like butter either ellesnewenglandkitchen blog pita make pita bread html',\n",
       " 'alternet org story study confirms fox news makes stupid study confirms fox news makes stupid study confirms fox news makes stupid new survey american voters shows fox news viewers significantly misinformed consumers news sources december yet another study released proving watching fox news detrimental intelligence world public opinion project managed program international policy attitudes university maryland conducted survey american voters shows fox news viewers significantly misinformed consumers news sources study shows greater exposure fox news increases misinformation watch less know precise think know actually false study corroborates previous pipa study focused iraq war similar results nbc wall street journal poll demonstrated break reality part fox viewers regard health care body evidence fox news nothing propaganda machine dedicated lies growing day eight nine questions fox news placed first percentage misinformed placed second question tarp pretty high batting average journalistic fraud list fox news viewers believe aint percent believe stimulus legislation lost jobs percent believe health reform law increase deficit percent believe economy getting worse percent believe climate change occurring percent believe income taxes gone percent believe stimulus legislation include tax cuts percent believe obama initiated gm chrysler bailout percent believe republicans opposed tarp percent believe obama born u unclear conclusion inescapable fox news deliberately misinforming viewers reason every issue one republican party vested interest gop benefited ignorance fox news helped proliferate results apparent election last month voters based decisions demonstrably false information fed fox news way rest media blameless cnn broadcast network news operations fared slightly better many cases even msnbc best record accurately informing viewers ways go brag conclusions study need disseminated broadly possible fox competitors need report results produce ad campaigns featuring newspapers magazines need publish study across country big news critical nation advised major news enterprise poisoning minds isolated review fox performance corroborated time time fact fox news blatantly dishonest effects dishonesty become ingrained electorate purposefully deceived needs made known every american democracy function voters making choices based lies evidence fox tilting scales must make certain corporate owners get away mark howard artist author publisher news corpse independent media alternative news media activism drug war new survey american voters shows fox news viewers significantly misinformed consumers news sources']"
      ]
     },
     "execution_count": 56,
     "metadata": {},
     "output_type": "execute_result"
    }
   ],
   "source": [
    "pageDescription = textCleaning(X,\"page_description\")\n",
    "pageDescription[0:2]"
   ]
  },
  {
   "cell_type": "markdown",
   "id": "439f6e15",
   "metadata": {
    "id": "-JBix0kraBPu",
    "papermill": {
     "duration": 0.037338,
     "end_time": "2022-12-11T13:41:53.020113",
     "exception": false,
     "start_time": "2022-12-11T13:41:52.982775",
     "status": "completed"
    },
    "tags": []
   },
   "source": [
    "# TF-IDF vectorization"
   ]
  },
  {
   "cell_type": "markdown",
   "id": "d8a21e36",
   "metadata": {
    "id": "rdwKTh35dEKV",
    "papermill": {
     "duration": 0.034655,
     "end_time": "2022-12-11T13:41:53.089940",
     "exception": false,
     "start_time": "2022-12-11T13:41:53.055285",
     "status": "completed"
    },
    "tags": []
   },
   "source": [
    "TF-IDF stands for Term Frequency — Inverse Document Frequency and is a statistic that aims to better define how important a word is for a document, while also taking into account the relation to other documents from the same corpus.\n",
    "\n",
    "The rationale behind this is the following:\n",
    "\n",
    "\n",
    "*   a word that frequently appears in a document has more relevancy for that document, meaning that there is higher probability that the document is about or in relation to that specific word\n",
    "*   a word that frequently appears in more documents may prevent us from finding the right document in a collection; the word is relevant either for all documents or for none. Either way, it will not help us filter out a single document or a small subset of documents from the whole set.\n",
    "\n",
    "**TF-IDF is a score which is applied to every word in every document in our dataset. And for every word, the TF-IDF value increases with every appearance of the word in a document, but is gradually decreased with every appearance in other documents.**\n",
    "\n",
    "\n",
    "\n",
    "\n",
    "\n"
   ]
  },
  {
   "cell_type": "markdown",
   "id": "f446622a",
   "metadata": {
    "id": "pdfrhOkoeQbq",
    "papermill": {
     "duration": 0.03497,
     "end_time": "2022-12-11T13:41:53.160123",
     "exception": false,
     "start_time": "2022-12-11T13:41:53.125153",
     "status": "completed"
    },
    "tags": []
   },
   "source": [
    "WHY TD-IDF over BoW?\n",
    "\n",
    "the initial step of bag-of-words acts as a downside because it emphasizes words only based on counts. To overcome this, a simple twist to bag-of-words introduces the tf-idf approach.\n",
    "\n",
    "Unlike, bag-of-words, tf-idf creates a normalized count where each word count is divided by the number of documents this word appears in.\n",
    "\n",
    "\n",
    "\n",
    "> **bow(w, d) = # times word w appears in document d.**\n",
    "\n",
    "> ***tf-idf(w, d) = bow(w, d) x N / (# documents in which word w appears)***\n",
    "\n",
    "\n"
   ]
  },
  {
   "cell_type": "markdown",
   "id": "8558af98",
   "metadata": {
    "id": "lCK6xtb6e3jZ",
    "papermill": {
     "duration": 0.034904,
     "end_time": "2022-12-11T13:41:53.230549",
     "exception": false,
     "start_time": "2022-12-11T13:41:53.195645",
     "status": "completed"
    },
    "tags": []
   },
   "source": [
    "min_df is used for removing terms that appear too infrequently. For example:\n",
    "\n",
    "min_df = 0.01 means \"ignore terms that appear in less than 1% of the documents\".\n",
    "\n",
    "min_df = 1 means \"ignore terms that appear in less than 1 documents\"."
   ]
  },
  {
   "cell_type": "code",
   "execution_count": 57,
   "id": "69522d02",
   "metadata": {
    "execution": {
     "iopub.execute_input": "2022-12-11T13:41:53.304846Z",
     "iopub.status.busy": "2022-12-11T13:41:53.303438Z",
     "iopub.status.idle": "2022-12-11T13:41:53.309055Z",
     "shell.execute_reply": "2022-12-11T13:41:53.308106Z"
    },
    "id": "4Nyevb_eaFEi",
    "papermill": {
     "duration": 0.045828,
     "end_time": "2022-12-11T13:41:53.311374",
     "exception": false,
     "start_time": "2022-12-11T13:41:53.265546",
     "status": "completed"
    },
    "tags": []
   },
   "outputs": [],
   "source": [
    "from sklearn.feature_extraction.text import TfidfVectorizer\n",
    "TV = TfidfVectorizer(min_df=1)  "
   ]
  },
  {
   "cell_type": "code",
   "execution_count": 58,
   "id": "ae5d0286",
   "metadata": {
    "execution": {
     "iopub.execute_input": "2022-12-11T13:41:53.386296Z",
     "iopub.status.busy": "2022-12-11T13:41:53.385342Z",
     "iopub.status.idle": "2022-12-11T13:41:53.391498Z",
     "shell.execute_reply": "2022-12-11T13:41:53.390684Z"
    },
    "id": "LehwlUljhSVS",
    "papermill": {
     "duration": 0.046037,
     "end_time": "2022-12-11T13:41:53.393927",
     "exception": false,
     "start_time": "2022-12-11T13:41:53.347890",
     "status": "completed"
    },
    "tags": []
   },
   "outputs": [],
   "source": [
    "def chkNonzero(df,col):\n",
    "    for i in df[col+'_0']: # checking non null values for words in document 1\n",
    "      if(i != 0.00):\n",
    "        print(i)"
   ]
  },
  {
   "cell_type": "code",
   "execution_count": 59,
   "id": "6f6fc5f8",
   "metadata": {
    "execution": {
     "iopub.execute_input": "2022-12-11T13:41:53.466787Z",
     "iopub.status.busy": "2022-12-11T13:41:53.465821Z",
     "iopub.status.idle": "2022-12-11T13:41:58.997657Z",
     "shell.execute_reply": "2022-12-11T13:41:58.995818Z"
    },
    "id": "z4VBPYp2hakh",
    "outputId": "674fb2ff-57af-4af5-dc5a-80702c63b0c3",
    "papermill": {
     "duration": 5.57198,
     "end_time": "2022-12-11T13:41:59.000714",
     "exception": false,
     "start_time": "2022-12-11T13:41:53.428734",
     "status": "completed"
    },
    "tags": []
   },
   "outputs": [
    {
     "name": "stdout",
     "output_type": "stream",
     "text": [
      "Shape :  (7395, 78185) \n",
      "\n",
      "0.0025915282530577324\n",
      "0.04105453632902744\n",
      "0.002596059771451365\n",
      "0.05913979252219915\n",
      "0.02675493944400716\n",
      "0.012818520847319492\n",
      "0.015283500466449879\n",
      "0.018359562050246428\n",
      "0.09084697249475217\n",
      "0.017480213818118352\n",
      "0.02585804919241791\n",
      "0.03645746146791632\n",
      "0.07530509381003035\n",
      "0.03264670223163986\n",
      "0.035524425891513264\n",
      "0.08208210230742576\n",
      "0.29206593872035475\n"
     ]
    }
   ],
   "source": [
    "Z = TV.fit_transform(pageDescription).toarray()\n",
    "arrayCols = len(Z[0])\n",
    "print('Shape : ',np.shape(Z),'\\n')\n",
    "columns = [f'pageDescription_{num}' for num in range(arrayCols)]\n",
    "df_pageDescription =  pd.DataFrame(Z, columns=columns)\n",
    "chkNonzero(df_pageDescription,'pageDescription')"
   ]
  },
  {
   "cell_type": "code",
   "execution_count": 60,
   "id": "a882b1b2",
   "metadata": {
    "execution": {
     "iopub.execute_input": "2022-12-11T13:41:59.077810Z",
     "iopub.status.busy": "2022-12-11T13:41:59.076442Z",
     "iopub.status.idle": "2022-12-11T13:41:59.084482Z",
     "shell.execute_reply": "2022-12-11T13:41:59.083502Z"
    },
    "id": "b5yiGwxZiAX9",
    "outputId": "359be0b6-f28b-400b-f874-957aedaa635e",
    "papermill": {
     "duration": 0.048381,
     "end_time": "2022-12-11T13:41:59.086719",
     "exception": false,
     "start_time": "2022-12-11T13:41:59.038338",
     "status": "completed"
    },
    "tags": []
   },
   "outputs": [
    {
     "data": {
      "text/plain": [
       "(7395, 78185)"
      ]
     },
     "execution_count": 60,
     "metadata": {},
     "output_type": "execute_result"
    }
   ],
   "source": [
    "df_pageDescription.shape"
   ]
  },
  {
   "cell_type": "markdown",
   "id": "75a00199",
   "metadata": {
    "id": "uEtEObnk8_YC",
    "papermill": {
     "duration": 0.03938,
     "end_time": "2022-12-11T13:41:59.164513",
     "exception": false,
     "start_time": "2022-12-11T13:41:59.125133",
     "status": "completed"
    },
    "tags": []
   },
   "source": [
    "# feature scaling and joining vectorize data with other feature columns"
   ]
  },
  {
   "cell_type": "code",
   "execution_count": 61,
   "id": "4932d52b",
   "metadata": {
    "execution": {
     "iopub.execute_input": "2022-12-11T13:41:59.243814Z",
     "iopub.status.busy": "2022-12-11T13:41:59.243262Z",
     "iopub.status.idle": "2022-12-11T13:41:59.274447Z",
     "shell.execute_reply": "2022-12-11T13:41:59.273039Z"
    },
    "id": "61NZ4LiJ9BL1",
    "outputId": "ed717c36-4e0b-4e3a-cc13-8086bb783300",
    "papermill": {
     "duration": 0.074666,
     "end_time": "2022-12-11T13:41:59.277931",
     "exception": false,
     "start_time": "2022-12-11T13:41:59.203265",
     "status": "completed"
    },
    "tags": []
   },
   "outputs": [
    {
     "data": {
      "text/html": [
       "<div>\n",
       "<style scoped>\n",
       "    .dataframe tbody tr th:only-of-type {\n",
       "        vertical-align: middle;\n",
       "    }\n",
       "\n",
       "    .dataframe tbody tr th {\n",
       "        vertical-align: top;\n",
       "    }\n",
       "\n",
       "    .dataframe thead th {\n",
       "        text-align: right;\n",
       "    }\n",
       "</style>\n",
       "<table border=\"1\" class=\"dataframe\">\n",
       "  <thead>\n",
       "    <tr style=\"text-align: right;\">\n",
       "      <th></th>\n",
       "      <th>link</th>\n",
       "      <th>link_id</th>\n",
       "      <th>page_description</th>\n",
       "      <th>alchemy_category_score</th>\n",
       "      <th>avg_link_size</th>\n",
       "      <th>common_word_link_ratio_1</th>\n",
       "      <th>common_word_link_ratio_2</th>\n",
       "      <th>common_word_link_ratio_3</th>\n",
       "      <th>common_word_link_ratio_4</th>\n",
       "      <th>compression_ratio</th>\n",
       "      <th>...</th>\n",
       "      <th>alchemy_category_culture_politics</th>\n",
       "      <th>alchemy_category_gaming</th>\n",
       "      <th>alchemy_category_health</th>\n",
       "      <th>alchemy_category_law_crime</th>\n",
       "      <th>alchemy_category_recreation</th>\n",
       "      <th>alchemy_category_religion</th>\n",
       "      <th>alchemy_category_science_technology</th>\n",
       "      <th>alchemy_category_sports</th>\n",
       "      <th>alchemy_category_unknown</th>\n",
       "      <th>alchemy_category_weather</th>\n",
       "    </tr>\n",
       "  </thead>\n",
       "  <tbody>\n",
       "    <tr>\n",
       "      <th>0</th>\n",
       "      <td>www.ellesnewenglandkitchen.com</td>\n",
       "      <td>4049</td>\n",
       "      <td>\"Elle s New England Kitchen Elle s New England...</td>\n",
       "      <td>0.365831</td>\n",
       "      <td>1.217617</td>\n",
       "      <td>0.261307</td>\n",
       "      <td>0.035176</td>\n",
       "      <td>0.015075</td>\n",
       "      <td>0.005025</td>\n",
       "      <td>0.488917</td>\n",
       "      <td>...</td>\n",
       "      <td>0</td>\n",
       "      <td>0</td>\n",
       "      <td>0</td>\n",
       "      <td>0</td>\n",
       "      <td>0</td>\n",
       "      <td>0</td>\n",
       "      <td>0</td>\n",
       "      <td>0</td>\n",
       "      <td>0</td>\n",
       "      <td>0</td>\n",
       "    </tr>\n",
       "    <tr>\n",
       "      <th>1</th>\n",
       "      <td>www.alternet.org</td>\n",
       "      <td>3692</td>\n",
       "      <td>\"alternet org story 149193 study confirms that...</td>\n",
       "      <td>0.876315</td>\n",
       "      <td>3.814208</td>\n",
       "      <td>0.589744</td>\n",
       "      <td>0.261538</td>\n",
       "      <td>0.179487</td>\n",
       "      <td>0.107692</td>\n",
       "      <td>0.452856</td>\n",
       "      <td>...</td>\n",
       "      <td>1</td>\n",
       "      <td>0</td>\n",
       "      <td>0</td>\n",
       "      <td>0</td>\n",
       "      <td>0</td>\n",
       "      <td>0</td>\n",
       "      <td>0</td>\n",
       "      <td>0</td>\n",
       "      <td>0</td>\n",
       "      <td>0</td>\n",
       "    </tr>\n",
       "    <tr>\n",
       "      <th>2</th>\n",
       "      <td>www.wiredberries.com</td>\n",
       "      <td>9739</td>\n",
       "      <td>\" \",\" \",\"wiredberries\"</td>\n",
       "      <td>0.683300</td>\n",
       "      <td>1.793103</td>\n",
       "      <td>0.402299</td>\n",
       "      <td>0.183908</td>\n",
       "      <td>0.000000</td>\n",
       "      <td>0.000000</td>\n",
       "      <td>21.000000</td>\n",
       "      <td>...</td>\n",
       "      <td>0</td>\n",
       "      <td>0</td>\n",
       "      <td>0</td>\n",
       "      <td>0</td>\n",
       "      <td>0</td>\n",
       "      <td>0</td>\n",
       "      <td>0</td>\n",
       "      <td>0</td>\n",
       "      <td>0</td>\n",
       "      <td>0</td>\n",
       "    </tr>\n",
       "    <tr>\n",
       "      <th>3</th>\n",
       "      <td>www.elements4health.com</td>\n",
       "      <td>1548</td>\n",
       "      <td>\"The Health Benefits of Cayenne Pepper \",\"Brie...</td>\n",
       "      <td>0.683300</td>\n",
       "      <td>2.083333</td>\n",
       "      <td>0.636364</td>\n",
       "      <td>0.279720</td>\n",
       "      <td>0.041958</td>\n",
       "      <td>0.000000</td>\n",
       "      <td>0.447265</td>\n",
       "      <td>...</td>\n",
       "      <td>0</td>\n",
       "      <td>0</td>\n",
       "      <td>0</td>\n",
       "      <td>0</td>\n",
       "      <td>0</td>\n",
       "      <td>0</td>\n",
       "      <td>0</td>\n",
       "      <td>0</td>\n",
       "      <td>0</td>\n",
       "      <td>0</td>\n",
       "    </tr>\n",
       "    <tr>\n",
       "      <th>4</th>\n",
       "      <td>www.poorgirleatswell.com</td>\n",
       "      <td>5574</td>\n",
       "      <td>\"Recipe Hearty Mushroom Potato Soup \",\"If you ...</td>\n",
       "      <td>0.747449</td>\n",
       "      <td>1.845815</td>\n",
       "      <td>0.676856</td>\n",
       "      <td>0.310044</td>\n",
       "      <td>0.183406</td>\n",
       "      <td>0.148472</td>\n",
       "      <td>0.460235</td>\n",
       "      <td>...</td>\n",
       "      <td>0</td>\n",
       "      <td>0</td>\n",
       "      <td>0</td>\n",
       "      <td>0</td>\n",
       "      <td>1</td>\n",
       "      <td>0</td>\n",
       "      <td>0</td>\n",
       "      <td>0</td>\n",
       "      <td>0</td>\n",
       "      <td>0</td>\n",
       "    </tr>\n",
       "  </tbody>\n",
       "</table>\n",
       "<p>5 rows × 39 columns</p>\n",
       "</div>"
      ],
      "text/plain": [
       "                             link  link_id  \\\n",
       "0  www.ellesnewenglandkitchen.com     4049   \n",
       "1                www.alternet.org     3692   \n",
       "2            www.wiredberries.com     9739   \n",
       "3         www.elements4health.com     1548   \n",
       "4        www.poorgirleatswell.com     5574   \n",
       "\n",
       "                                    page_description  alchemy_category_score  \\\n",
       "0  \"Elle s New England Kitchen Elle s New England...                0.365831   \n",
       "1  \"alternet org story 149193 study confirms that...                0.876315   \n",
       "2                             \" \",\" \",\"wiredberries\"                0.683300   \n",
       "3  \"The Health Benefits of Cayenne Pepper \",\"Brie...                0.683300   \n",
       "4  \"Recipe Hearty Mushroom Potato Soup \",\"If you ...                0.747449   \n",
       "\n",
       "   avg_link_size  common_word_link_ratio_1  common_word_link_ratio_2  \\\n",
       "0       1.217617                  0.261307                  0.035176   \n",
       "1       3.814208                  0.589744                  0.261538   \n",
       "2       1.793103                  0.402299                  0.183908   \n",
       "3       2.083333                  0.636364                  0.279720   \n",
       "4       1.845815                  0.676856                  0.310044   \n",
       "\n",
       "   common_word_link_ratio_3  common_word_link_ratio_4  compression_ratio  ...  \\\n",
       "0                  0.015075                  0.005025           0.488917  ...   \n",
       "1                  0.179487                  0.107692           0.452856  ...   \n",
       "2                  0.000000                  0.000000          21.000000  ...   \n",
       "3                  0.041958                  0.000000           0.447265  ...   \n",
       "4                  0.183406                  0.148472           0.460235  ...   \n",
       "\n",
       "   alchemy_category_culture_politics  alchemy_category_gaming  \\\n",
       "0                                  0                        0   \n",
       "1                                  1                        0   \n",
       "2                                  0                        0   \n",
       "3                                  0                        0   \n",
       "4                                  0                        0   \n",
       "\n",
       "   alchemy_category_health  alchemy_category_law_crime  \\\n",
       "0                        0                           0   \n",
       "1                        0                           0   \n",
       "2                        0                           0   \n",
       "3                        0                           0   \n",
       "4                        0                           0   \n",
       "\n",
       "   alchemy_category_recreation  alchemy_category_religion  \\\n",
       "0                            0                          0   \n",
       "1                            0                          0   \n",
       "2                            0                          0   \n",
       "3                            0                          0   \n",
       "4                            1                          0   \n",
       "\n",
       "   alchemy_category_science_technology  alchemy_category_sports  \\\n",
       "0                                    0                        0   \n",
       "1                                    0                        0   \n",
       "2                                    0                        0   \n",
       "3                                    0                        0   \n",
       "4                                    0                        0   \n",
       "\n",
       "   alchemy_category_unknown  alchemy_category_weather  \n",
       "0                         0                         0  \n",
       "1                         0                         0  \n",
       "2                         0                         0  \n",
       "3                         0                         0  \n",
       "4                         0                         0  \n",
       "\n",
       "[5 rows x 39 columns]"
      ]
     },
     "execution_count": 61,
     "metadata": {},
     "output_type": "execute_result"
    }
   ],
   "source": [
    "X.head()"
   ]
  },
  {
   "cell_type": "code",
   "execution_count": 62,
   "id": "8cd562cd",
   "metadata": {
    "execution": {
     "iopub.execute_input": "2022-12-11T13:41:59.355152Z",
     "iopub.status.busy": "2022-12-11T13:41:59.354647Z",
     "iopub.status.idle": "2022-12-11T13:41:59.362274Z",
     "shell.execute_reply": "2022-12-11T13:41:59.361038Z"
    },
    "id": "5iLnVKv1ASkR",
    "outputId": "579e08b7-e08a-49a3-a6a9-55b9d5aeda5e",
    "papermill": {
     "duration": 0.048349,
     "end_time": "2022-12-11T13:41:59.365254",
     "exception": false,
     "start_time": "2022-12-11T13:41:59.316905",
     "status": "completed"
    },
    "tags": []
   },
   "outputs": [
    {
     "data": {
      "text/plain": [
       "39"
      ]
     },
     "execution_count": 62,
     "metadata": {},
     "output_type": "execute_result"
    }
   ],
   "source": [
    "len(X.columns)"
   ]
  },
  {
   "cell_type": "code",
   "execution_count": 63,
   "id": "fae1ad07",
   "metadata": {
    "execution": {
     "iopub.execute_input": "2022-12-11T13:41:59.446164Z",
     "iopub.status.busy": "2022-12-11T13:41:59.445707Z",
     "iopub.status.idle": "2022-12-11T13:41:59.454949Z",
     "shell.execute_reply": "2022-12-11T13:41:59.453252Z"
    },
    "id": "DHmQbA1shoXl",
    "outputId": "5b3165c3-9ebe-49f5-a43e-b9c426d9ee99",
    "papermill": {
     "duration": 0.053029,
     "end_time": "2022-12-11T13:41:59.457612",
     "exception": false,
     "start_time": "2022-12-11T13:41:59.404583",
     "status": "completed"
    },
    "tags": []
   },
   "outputs": [
    {
     "data": {
      "text/plain": [
       "Index(['link', 'link_id', 'page_description', 'alchemy_category_score',\n",
       "       'avg_link_size', 'common_word_link_ratio_1', 'common_word_link_ratio_2',\n",
       "       'common_word_link_ratio_3', 'common_word_link_ratio_4',\n",
       "       'compression_ratio', 'embed_ratio', 'frame_tag_ratio',\n",
       "       'has_domain_link', 'html_ratio', 'image_ratio', 'lengthy_link_domain',\n",
       "       'link_word_score', 'news_front_page',\n",
       "       'non_markup_alphanumeric_characters', 'count_of_links',\n",
       "       'number_of_words_in_url', 'parametrized_link_ratio',\n",
       "       'spelling_mistakes_ratio', 'label', 'indicator', 'alchemy_category_?',\n",
       "       'alchemy_category_arts_entertainment', 'alchemy_category_business',\n",
       "       'alchemy_category_computer_internet',\n",
       "       'alchemy_category_culture_politics', 'alchemy_category_gaming',\n",
       "       'alchemy_category_health', 'alchemy_category_law_crime',\n",
       "       'alchemy_category_recreation', 'alchemy_category_religion',\n",
       "       'alchemy_category_science_technology', 'alchemy_category_sports',\n",
       "       'alchemy_category_unknown', 'alchemy_category_weather'],\n",
       "      dtype='object')"
      ]
     },
     "execution_count": 63,
     "metadata": {},
     "output_type": "execute_result"
    }
   ],
   "source": [
    "X.columns"
   ]
  },
  {
   "cell_type": "code",
   "execution_count": 64,
   "id": "bc52c93d",
   "metadata": {
    "execution": {
     "iopub.execute_input": "2022-12-11T13:41:59.538675Z",
     "iopub.status.busy": "2022-12-11T13:41:59.538208Z",
     "iopub.status.idle": "2022-12-11T13:41:59.553207Z",
     "shell.execute_reply": "2022-12-11T13:41:59.552200Z"
    },
    "id": "TZlIIbLN9EKp",
    "papermill": {
     "duration": 0.059092,
     "end_time": "2022-12-11T13:41:59.556211",
     "exception": false,
     "start_time": "2022-12-11T13:41:59.497119",
     "status": "completed"
    },
    "tags": []
   },
   "outputs": [],
   "source": [
    "# dropping few unrelated columns\n",
    "X.drop(axis=\"columns\", labels=\"link_id\", inplace=True)\n",
    "X.drop(axis=\"columns\", labels=\"page_description\", inplace=True)\n",
    "X.drop(axis=\"columns\", labels=\"link\", inplace=True)\n",
    "X.drop(axis=\"columns\", labels=\"label\", inplace=True)\n",
    "X.drop(axis=\"columns\", labels=\"indicator\", inplace=True)"
   ]
  },
  {
   "cell_type": "code",
   "execution_count": 65,
   "id": "e1986bce",
   "metadata": {
    "execution": {
     "iopub.execute_input": "2022-12-11T13:41:59.640392Z",
     "iopub.status.busy": "2022-12-11T13:41:59.638353Z",
     "iopub.status.idle": "2022-12-11T13:41:59.663853Z",
     "shell.execute_reply": "2022-12-11T13:41:59.662498Z"
    },
    "id": "F9PR_R_gB_l0",
    "outputId": "d69a6c16-5bc3-4b45-8bd4-1d2e4fdcd8e0",
    "papermill": {
     "duration": 0.069122,
     "end_time": "2022-12-11T13:41:59.666573",
     "exception": false,
     "start_time": "2022-12-11T13:41:59.597451",
     "status": "completed"
    },
    "tags": []
   },
   "outputs": [
    {
     "data": {
      "text/html": [
       "<div>\n",
       "<style scoped>\n",
       "    .dataframe tbody tr th:only-of-type {\n",
       "        vertical-align: middle;\n",
       "    }\n",
       "\n",
       "    .dataframe tbody tr th {\n",
       "        vertical-align: top;\n",
       "    }\n",
       "\n",
       "    .dataframe thead th {\n",
       "        text-align: right;\n",
       "    }\n",
       "</style>\n",
       "<table border=\"1\" class=\"dataframe\">\n",
       "  <thead>\n",
       "    <tr style=\"text-align: right;\">\n",
       "      <th></th>\n",
       "      <th>alchemy_category_score</th>\n",
       "      <th>avg_link_size</th>\n",
       "      <th>common_word_link_ratio_1</th>\n",
       "      <th>common_word_link_ratio_2</th>\n",
       "      <th>common_word_link_ratio_3</th>\n",
       "      <th>common_word_link_ratio_4</th>\n",
       "      <th>compression_ratio</th>\n",
       "      <th>embed_ratio</th>\n",
       "      <th>frame_tag_ratio</th>\n",
       "      <th>has_domain_link</th>\n",
       "      <th>...</th>\n",
       "      <th>alchemy_category_culture_politics</th>\n",
       "      <th>alchemy_category_gaming</th>\n",
       "      <th>alchemy_category_health</th>\n",
       "      <th>alchemy_category_law_crime</th>\n",
       "      <th>alchemy_category_recreation</th>\n",
       "      <th>alchemy_category_religion</th>\n",
       "      <th>alchemy_category_science_technology</th>\n",
       "      <th>alchemy_category_sports</th>\n",
       "      <th>alchemy_category_unknown</th>\n",
       "      <th>alchemy_category_weather</th>\n",
       "    </tr>\n",
       "  </thead>\n",
       "  <tbody>\n",
       "    <tr>\n",
       "      <th>0</th>\n",
       "      <td>0.365831</td>\n",
       "      <td>1.217617</td>\n",
       "      <td>0.261307</td>\n",
       "      <td>0.035176</td>\n",
       "      <td>0.015075</td>\n",
       "      <td>0.005025</td>\n",
       "      <td>0.488917</td>\n",
       "      <td>0.0</td>\n",
       "      <td>0.031139</td>\n",
       "      <td>0</td>\n",
       "      <td>...</td>\n",
       "      <td>0</td>\n",
       "      <td>0</td>\n",
       "      <td>0</td>\n",
       "      <td>0</td>\n",
       "      <td>0</td>\n",
       "      <td>0</td>\n",
       "      <td>0</td>\n",
       "      <td>0</td>\n",
       "      <td>0</td>\n",
       "      <td>0</td>\n",
       "    </tr>\n",
       "    <tr>\n",
       "      <th>1</th>\n",
       "      <td>0.876315</td>\n",
       "      <td>3.814208</td>\n",
       "      <td>0.589744</td>\n",
       "      <td>0.261538</td>\n",
       "      <td>0.179487</td>\n",
       "      <td>0.107692</td>\n",
       "      <td>0.452856</td>\n",
       "      <td>0.0</td>\n",
       "      <td>0.029478</td>\n",
       "      <td>0</td>\n",
       "      <td>...</td>\n",
       "      <td>1</td>\n",
       "      <td>0</td>\n",
       "      <td>0</td>\n",
       "      <td>0</td>\n",
       "      <td>0</td>\n",
       "      <td>0</td>\n",
       "      <td>0</td>\n",
       "      <td>0</td>\n",
       "      <td>0</td>\n",
       "      <td>0</td>\n",
       "    </tr>\n",
       "    <tr>\n",
       "      <th>2</th>\n",
       "      <td>0.683300</td>\n",
       "      <td>1.793103</td>\n",
       "      <td>0.402299</td>\n",
       "      <td>0.183908</td>\n",
       "      <td>0.000000</td>\n",
       "      <td>0.000000</td>\n",
       "      <td>21.000000</td>\n",
       "      <td>-1.0</td>\n",
       "      <td>0.007916</td>\n",
       "      <td>0</td>\n",
       "      <td>...</td>\n",
       "      <td>0</td>\n",
       "      <td>0</td>\n",
       "      <td>0</td>\n",
       "      <td>0</td>\n",
       "      <td>0</td>\n",
       "      <td>0</td>\n",
       "      <td>0</td>\n",
       "      <td>0</td>\n",
       "      <td>0</td>\n",
       "      <td>0</td>\n",
       "    </tr>\n",
       "    <tr>\n",
       "      <th>3</th>\n",
       "      <td>0.683300</td>\n",
       "      <td>2.083333</td>\n",
       "      <td>0.636364</td>\n",
       "      <td>0.279720</td>\n",
       "      <td>0.041958</td>\n",
       "      <td>0.000000</td>\n",
       "      <td>0.447265</td>\n",
       "      <td>0.0</td>\n",
       "      <td>0.029221</td>\n",
       "      <td>0</td>\n",
       "      <td>...</td>\n",
       "      <td>0</td>\n",
       "      <td>0</td>\n",
       "      <td>0</td>\n",
       "      <td>0</td>\n",
       "      <td>0</td>\n",
       "      <td>0</td>\n",
       "      <td>0</td>\n",
       "      <td>0</td>\n",
       "      <td>0</td>\n",
       "      <td>0</td>\n",
       "    </tr>\n",
       "    <tr>\n",
       "      <th>4</th>\n",
       "      <td>0.747449</td>\n",
       "      <td>1.845815</td>\n",
       "      <td>0.676856</td>\n",
       "      <td>0.310044</td>\n",
       "      <td>0.183406</td>\n",
       "      <td>0.148472</td>\n",
       "      <td>0.460235</td>\n",
       "      <td>0.0</td>\n",
       "      <td>0.022243</td>\n",
       "      <td>0</td>\n",
       "      <td>...</td>\n",
       "      <td>0</td>\n",
       "      <td>0</td>\n",
       "      <td>0</td>\n",
       "      <td>0</td>\n",
       "      <td>1</td>\n",
       "      <td>0</td>\n",
       "      <td>0</td>\n",
       "      <td>0</td>\n",
       "      <td>0</td>\n",
       "      <td>0</td>\n",
       "    </tr>\n",
       "  </tbody>\n",
       "</table>\n",
       "<p>5 rows × 34 columns</p>\n",
       "</div>"
      ],
      "text/plain": [
       "   alchemy_category_score  avg_link_size  common_word_link_ratio_1  \\\n",
       "0                0.365831       1.217617                  0.261307   \n",
       "1                0.876315       3.814208                  0.589744   \n",
       "2                0.683300       1.793103                  0.402299   \n",
       "3                0.683300       2.083333                  0.636364   \n",
       "4                0.747449       1.845815                  0.676856   \n",
       "\n",
       "   common_word_link_ratio_2  common_word_link_ratio_3  \\\n",
       "0                  0.035176                  0.015075   \n",
       "1                  0.261538                  0.179487   \n",
       "2                  0.183908                  0.000000   \n",
       "3                  0.279720                  0.041958   \n",
       "4                  0.310044                  0.183406   \n",
       "\n",
       "   common_word_link_ratio_4  compression_ratio  embed_ratio  frame_tag_ratio  \\\n",
       "0                  0.005025           0.488917          0.0         0.031139   \n",
       "1                  0.107692           0.452856          0.0         0.029478   \n",
       "2                  0.000000          21.000000         -1.0         0.007916   \n",
       "3                  0.000000           0.447265          0.0         0.029221   \n",
       "4                  0.148472           0.460235          0.0         0.022243   \n",
       "\n",
       "   has_domain_link  ...  alchemy_category_culture_politics  \\\n",
       "0                0  ...                                  0   \n",
       "1                0  ...                                  1   \n",
       "2                0  ...                                  0   \n",
       "3                0  ...                                  0   \n",
       "4                0  ...                                  0   \n",
       "\n",
       "   alchemy_category_gaming  alchemy_category_health  \\\n",
       "0                        0                        0   \n",
       "1                        0                        0   \n",
       "2                        0                        0   \n",
       "3                        0                        0   \n",
       "4                        0                        0   \n",
       "\n",
       "   alchemy_category_law_crime  alchemy_category_recreation  \\\n",
       "0                           0                            0   \n",
       "1                           0                            0   \n",
       "2                           0                            0   \n",
       "3                           0                            0   \n",
       "4                           0                            1   \n",
       "\n",
       "   alchemy_category_religion  alchemy_category_science_technology  \\\n",
       "0                          0                                    0   \n",
       "1                          0                                    0   \n",
       "2                          0                                    0   \n",
       "3                          0                                    0   \n",
       "4                          0                                    0   \n",
       "\n",
       "   alchemy_category_sports  alchemy_category_unknown  alchemy_category_weather  \n",
       "0                        0                         0                         0  \n",
       "1                        0                         0                         0  \n",
       "2                        0                         0                         0  \n",
       "3                        0                         0                         0  \n",
       "4                        0                         0                         0  \n",
       "\n",
       "[5 rows x 34 columns]"
      ]
     },
     "execution_count": 65,
     "metadata": {},
     "output_type": "execute_result"
    }
   ],
   "source": [
    "X.head()"
   ]
  },
  {
   "cell_type": "markdown",
   "id": "156a26c3",
   "metadata": {
    "id": "W2Ah8D6L-Xrv",
    "papermill": {
     "duration": 0.038811,
     "end_time": "2022-12-11T13:41:59.744540",
     "exception": false,
     "start_time": "2022-12-11T13:41:59.705729",
     "status": "completed"
    },
    "tags": []
   },
   "source": [
    "When data contains outliers, StandardScaler can often be mislead. In such cases, it is better to use a scaler that is robust against outliers."
   ]
  },
  {
   "cell_type": "code",
   "execution_count": 66,
   "id": "d5ad0f1c",
   "metadata": {
    "execution": {
     "iopub.execute_input": "2022-12-11T13:41:59.827077Z",
     "iopub.status.busy": "2022-12-11T13:41:59.825511Z",
     "iopub.status.idle": "2022-12-11T13:41:59.853973Z",
     "shell.execute_reply": "2022-12-11T13:41:59.852764Z"
    },
    "id": "21widwmgBUcc",
    "outputId": "6e7212f2-98e7-41d8-e2ff-7860eb40056b",
    "papermill": {
     "duration": 0.07193,
     "end_time": "2022-12-11T13:41:59.856435",
     "exception": false,
     "start_time": "2022-12-11T13:41:59.784505",
     "status": "completed"
    },
    "tags": []
   },
   "outputs": [
    {
     "data": {
      "text/html": [
       "<div>\n",
       "<style scoped>\n",
       "    .dataframe tbody tr th:only-of-type {\n",
       "        vertical-align: middle;\n",
       "    }\n",
       "\n",
       "    .dataframe tbody tr th {\n",
       "        vertical-align: top;\n",
       "    }\n",
       "\n",
       "    .dataframe thead th {\n",
       "        text-align: right;\n",
       "    }\n",
       "</style>\n",
       "<table border=\"1\" class=\"dataframe\">\n",
       "  <thead>\n",
       "    <tr style=\"text-align: right;\">\n",
       "      <th></th>\n",
       "      <th>alchemy_category_score</th>\n",
       "      <th>avg_link_size</th>\n",
       "      <th>common_word_link_ratio_1</th>\n",
       "      <th>common_word_link_ratio_2</th>\n",
       "      <th>common_word_link_ratio_3</th>\n",
       "      <th>common_word_link_ratio_4</th>\n",
       "      <th>compression_ratio</th>\n",
       "      <th>embed_ratio</th>\n",
       "      <th>frame_tag_ratio</th>\n",
       "      <th>has_domain_link</th>\n",
       "      <th>...</th>\n",
       "      <th>alchemy_category_culture_politics</th>\n",
       "      <th>alchemy_category_gaming</th>\n",
       "      <th>alchemy_category_health</th>\n",
       "      <th>alchemy_category_law_crime</th>\n",
       "      <th>alchemy_category_recreation</th>\n",
       "      <th>alchemy_category_religion</th>\n",
       "      <th>alchemy_category_science_technology</th>\n",
       "      <th>alchemy_category_sports</th>\n",
       "      <th>alchemy_category_unknown</th>\n",
       "      <th>alchemy_category_weather</th>\n",
       "    </tr>\n",
       "  </thead>\n",
       "  <tbody>\n",
       "    <tr>\n",
       "      <th>0</th>\n",
       "      <td>0.365831</td>\n",
       "      <td>1.217617</td>\n",
       "      <td>0.261307</td>\n",
       "      <td>0.035176</td>\n",
       "      <td>0.015075</td>\n",
       "      <td>0.005025</td>\n",
       "      <td>0.488917</td>\n",
       "      <td>0.0</td>\n",
       "      <td>0.031139</td>\n",
       "      <td>0</td>\n",
       "      <td>...</td>\n",
       "      <td>0</td>\n",
       "      <td>0</td>\n",
       "      <td>0</td>\n",
       "      <td>0</td>\n",
       "      <td>0</td>\n",
       "      <td>0</td>\n",
       "      <td>0</td>\n",
       "      <td>0</td>\n",
       "      <td>0</td>\n",
       "      <td>0</td>\n",
       "    </tr>\n",
       "    <tr>\n",
       "      <th>1</th>\n",
       "      <td>0.876315</td>\n",
       "      <td>3.814208</td>\n",
       "      <td>0.589744</td>\n",
       "      <td>0.261538</td>\n",
       "      <td>0.179487</td>\n",
       "      <td>0.107692</td>\n",
       "      <td>0.452856</td>\n",
       "      <td>0.0</td>\n",
       "      <td>0.029478</td>\n",
       "      <td>0</td>\n",
       "      <td>...</td>\n",
       "      <td>1</td>\n",
       "      <td>0</td>\n",
       "      <td>0</td>\n",
       "      <td>0</td>\n",
       "      <td>0</td>\n",
       "      <td>0</td>\n",
       "      <td>0</td>\n",
       "      <td>0</td>\n",
       "      <td>0</td>\n",
       "      <td>0</td>\n",
       "    </tr>\n",
       "    <tr>\n",
       "      <th>2</th>\n",
       "      <td>0.683300</td>\n",
       "      <td>1.793103</td>\n",
       "      <td>0.402299</td>\n",
       "      <td>0.183908</td>\n",
       "      <td>0.000000</td>\n",
       "      <td>0.000000</td>\n",
       "      <td>21.000000</td>\n",
       "      <td>-1.0</td>\n",
       "      <td>0.007916</td>\n",
       "      <td>0</td>\n",
       "      <td>...</td>\n",
       "      <td>0</td>\n",
       "      <td>0</td>\n",
       "      <td>0</td>\n",
       "      <td>0</td>\n",
       "      <td>0</td>\n",
       "      <td>0</td>\n",
       "      <td>0</td>\n",
       "      <td>0</td>\n",
       "      <td>0</td>\n",
       "      <td>0</td>\n",
       "    </tr>\n",
       "    <tr>\n",
       "      <th>3</th>\n",
       "      <td>0.683300</td>\n",
       "      <td>2.083333</td>\n",
       "      <td>0.636364</td>\n",
       "      <td>0.279720</td>\n",
       "      <td>0.041958</td>\n",
       "      <td>0.000000</td>\n",
       "      <td>0.447265</td>\n",
       "      <td>0.0</td>\n",
       "      <td>0.029221</td>\n",
       "      <td>0</td>\n",
       "      <td>...</td>\n",
       "      <td>0</td>\n",
       "      <td>0</td>\n",
       "      <td>0</td>\n",
       "      <td>0</td>\n",
       "      <td>0</td>\n",
       "      <td>0</td>\n",
       "      <td>0</td>\n",
       "      <td>0</td>\n",
       "      <td>0</td>\n",
       "      <td>0</td>\n",
       "    </tr>\n",
       "    <tr>\n",
       "      <th>4</th>\n",
       "      <td>0.747449</td>\n",
       "      <td>1.845815</td>\n",
       "      <td>0.676856</td>\n",
       "      <td>0.310044</td>\n",
       "      <td>0.183406</td>\n",
       "      <td>0.148472</td>\n",
       "      <td>0.460235</td>\n",
       "      <td>0.0</td>\n",
       "      <td>0.022243</td>\n",
       "      <td>0</td>\n",
       "      <td>...</td>\n",
       "      <td>0</td>\n",
       "      <td>0</td>\n",
       "      <td>0</td>\n",
       "      <td>0</td>\n",
       "      <td>1</td>\n",
       "      <td>0</td>\n",
       "      <td>0</td>\n",
       "      <td>0</td>\n",
       "      <td>0</td>\n",
       "      <td>0</td>\n",
       "    </tr>\n",
       "  </tbody>\n",
       "</table>\n",
       "<p>5 rows × 34 columns</p>\n",
       "</div>"
      ],
      "text/plain": [
       "   alchemy_category_score  avg_link_size  common_word_link_ratio_1  \\\n",
       "0                0.365831       1.217617                  0.261307   \n",
       "1                0.876315       3.814208                  0.589744   \n",
       "2                0.683300       1.793103                  0.402299   \n",
       "3                0.683300       2.083333                  0.636364   \n",
       "4                0.747449       1.845815                  0.676856   \n",
       "\n",
       "   common_word_link_ratio_2  common_word_link_ratio_3  \\\n",
       "0                  0.035176                  0.015075   \n",
       "1                  0.261538                  0.179487   \n",
       "2                  0.183908                  0.000000   \n",
       "3                  0.279720                  0.041958   \n",
       "4                  0.310044                  0.183406   \n",
       "\n",
       "   common_word_link_ratio_4  compression_ratio  embed_ratio  frame_tag_ratio  \\\n",
       "0                  0.005025           0.488917          0.0         0.031139   \n",
       "1                  0.107692           0.452856          0.0         0.029478   \n",
       "2                  0.000000          21.000000         -1.0         0.007916   \n",
       "3                  0.000000           0.447265          0.0         0.029221   \n",
       "4                  0.148472           0.460235          0.0         0.022243   \n",
       "\n",
       "   has_domain_link  ...  alchemy_category_culture_politics  \\\n",
       "0                0  ...                                  0   \n",
       "1                0  ...                                  1   \n",
       "2                0  ...                                  0   \n",
       "3                0  ...                                  0   \n",
       "4                0  ...                                  0   \n",
       "\n",
       "   alchemy_category_gaming  alchemy_category_health  \\\n",
       "0                        0                        0   \n",
       "1                        0                        0   \n",
       "2                        0                        0   \n",
       "3                        0                        0   \n",
       "4                        0                        0   \n",
       "\n",
       "   alchemy_category_law_crime  alchemy_category_recreation  \\\n",
       "0                           0                            0   \n",
       "1                           0                            0   \n",
       "2                           0                            0   \n",
       "3                           0                            0   \n",
       "4                           0                            1   \n",
       "\n",
       "   alchemy_category_religion  alchemy_category_science_technology  \\\n",
       "0                          0                                    0   \n",
       "1                          0                                    0   \n",
       "2                          0                                    0   \n",
       "3                          0                                    0   \n",
       "4                          0                                    0   \n",
       "\n",
       "   alchemy_category_sports  alchemy_category_unknown  alchemy_category_weather  \n",
       "0                        0                         0                         0  \n",
       "1                        0                         0                         0  \n",
       "2                        0                         0                         0  \n",
       "3                        0                         0                         0  \n",
       "4                        0                         0                         0  \n",
       "\n",
       "[5 rows x 34 columns]"
      ]
     },
     "execution_count": 66,
     "metadata": {},
     "output_type": "execute_result"
    }
   ],
   "source": [
    "X.head()"
   ]
  },
  {
   "cell_type": "code",
   "execution_count": 67,
   "id": "cd91e975",
   "metadata": {
    "execution": {
     "iopub.execute_input": "2022-12-11T13:41:59.937857Z",
     "iopub.status.busy": "2022-12-11T13:41:59.936925Z",
     "iopub.status.idle": "2022-12-11T13:41:59.967704Z",
     "shell.execute_reply": "2022-12-11T13:41:59.966116Z"
    },
    "id": "53fHF6QE9g0D",
    "papermill": {
     "duration": 0.074637,
     "end_time": "2022-12-11T13:41:59.970520",
     "exception": false,
     "start_time": "2022-12-11T13:41:59.895883",
     "status": "completed"
    },
    "tags": []
   },
   "outputs": [],
   "source": [
    "#robust scaling is used to handle outliers\n",
    "import pandas as pd\n",
    "from sklearn.preprocessing import RobustScaler\n",
    "scaler = RobustScaler()\n",
    "X = pd.DataFrame(scaler.fit_transform(X), columns=X.columns)"
   ]
  },
  {
   "cell_type": "code",
   "execution_count": 68,
   "id": "52ab27aa",
   "metadata": {
    "execution": {
     "iopub.execute_input": "2022-12-11T13:42:00.052976Z",
     "iopub.status.busy": "2022-12-11T13:42:00.052022Z",
     "iopub.status.idle": "2022-12-11T13:42:00.086022Z",
     "shell.execute_reply": "2022-12-11T13:42:00.084865Z"
    },
    "id": "e9UAifNZ_dif",
    "outputId": "9b03939a-0c12-413d-aa8a-de0af8324e68",
    "papermill": {
     "duration": 0.077798,
     "end_time": "2022-12-11T13:42:00.088762",
     "exception": false,
     "start_time": "2022-12-11T13:42:00.010964",
     "status": "completed"
    },
    "tags": []
   },
   "outputs": [
    {
     "data": {
      "text/html": [
       "<div>\n",
       "<style scoped>\n",
       "    .dataframe tbody tr th:only-of-type {\n",
       "        vertical-align: middle;\n",
       "    }\n",
       "\n",
       "    .dataframe tbody tr th {\n",
       "        vertical-align: top;\n",
       "    }\n",
       "\n",
       "    .dataframe thead th {\n",
       "        text-align: right;\n",
       "    }\n",
       "</style>\n",
       "<table border=\"1\" class=\"dataframe\">\n",
       "  <thead>\n",
       "    <tr style=\"text-align: right;\">\n",
       "      <th></th>\n",
       "      <th>alchemy_category_score</th>\n",
       "      <th>avg_link_size</th>\n",
       "      <th>common_word_link_ratio_1</th>\n",
       "      <th>common_word_link_ratio_2</th>\n",
       "      <th>common_word_link_ratio_3</th>\n",
       "      <th>common_word_link_ratio_4</th>\n",
       "      <th>compression_ratio</th>\n",
       "      <th>embed_ratio</th>\n",
       "      <th>frame_tag_ratio</th>\n",
       "      <th>has_domain_link</th>\n",
       "      <th>...</th>\n",
       "      <th>alchemy_category_culture_politics</th>\n",
       "      <th>alchemy_category_gaming</th>\n",
       "      <th>alchemy_category_health</th>\n",
       "      <th>alchemy_category_law_crime</th>\n",
       "      <th>alchemy_category_recreation</th>\n",
       "      <th>alchemy_category_religion</th>\n",
       "      <th>alchemy_category_science_technology</th>\n",
       "      <th>alchemy_category_sports</th>\n",
       "      <th>alchemy_category_unknown</th>\n",
       "      <th>alchemy_category_weather</th>\n",
       "    </tr>\n",
       "  </thead>\n",
       "  <tbody>\n",
       "    <tr>\n",
       "      <th>0</th>\n",
       "      <td>-1.872733</td>\n",
       "      <td>-0.849062</td>\n",
       "      <td>-0.797059</td>\n",
       "      <td>-0.858996</td>\n",
       "      <td>-0.481969</td>\n",
       "      <td>-0.264308</td>\n",
       "      <td>0.038624</td>\n",
       "      <td>0.0</td>\n",
       "      <td>-0.325556</td>\n",
       "      <td>0.0</td>\n",
       "      <td>...</td>\n",
       "      <td>0.0</td>\n",
       "      <td>0.0</td>\n",
       "      <td>0.0</td>\n",
       "      <td>0.0</td>\n",
       "      <td>0.0</td>\n",
       "      <td>0.0</td>\n",
       "      <td>0.0</td>\n",
       "      <td>0.0</td>\n",
       "      <td>0.0</td>\n",
       "      <td>0.0</td>\n",
       "    </tr>\n",
       "    <tr>\n",
       "      <th>1</th>\n",
       "      <td>1.138590</td>\n",
       "      <td>1.683237</td>\n",
       "      <td>0.391921</td>\n",
       "      <td>0.303407</td>\n",
       "      <td>0.997738</td>\n",
       "      <td>1.313617</td>\n",
       "      <td>-0.227294</td>\n",
       "      <td>0.0</td>\n",
       "      <td>-0.362489</td>\n",
       "      <td>0.0</td>\n",
       "      <td>...</td>\n",
       "      <td>1.0</td>\n",
       "      <td>0.0</td>\n",
       "      <td>0.0</td>\n",
       "      <td>0.0</td>\n",
       "      <td>0.0</td>\n",
       "      <td>0.0</td>\n",
       "      <td>0.0</td>\n",
       "      <td>0.0</td>\n",
       "      <td>0.0</td>\n",
       "      <td>0.0</td>\n",
       "    </tr>\n",
       "    <tr>\n",
       "      <th>2</th>\n",
       "      <td>0.000000</td>\n",
       "      <td>-0.287824</td>\n",
       "      <td>-0.286650</td>\n",
       "      <td>-0.095236</td>\n",
       "      <td>-0.617647</td>\n",
       "      <td>-0.341540</td>\n",
       "      <td>151.288241</td>\n",
       "      <td>-1.0</td>\n",
       "      <td>-0.842128</td>\n",
       "      <td>0.0</td>\n",
       "      <td>...</td>\n",
       "      <td>0.0</td>\n",
       "      <td>0.0</td>\n",
       "      <td>0.0</td>\n",
       "      <td>0.0</td>\n",
       "      <td>0.0</td>\n",
       "      <td>0.0</td>\n",
       "      <td>0.0</td>\n",
       "      <td>0.0</td>\n",
       "      <td>0.0</td>\n",
       "      <td>0.0</td>\n",
       "    </tr>\n",
       "    <tr>\n",
       "      <th>3</th>\n",
       "      <td>0.000000</td>\n",
       "      <td>-0.004781</td>\n",
       "      <td>0.560692</td>\n",
       "      <td>0.396773</td>\n",
       "      <td>-0.240025</td>\n",
       "      <td>-0.341540</td>\n",
       "      <td>-0.268525</td>\n",
       "      <td>0.0</td>\n",
       "      <td>-0.368220</td>\n",
       "      <td>0.0</td>\n",
       "      <td>...</td>\n",
       "      <td>0.0</td>\n",
       "      <td>0.0</td>\n",
       "      <td>0.0</td>\n",
       "      <td>0.0</td>\n",
       "      <td>0.0</td>\n",
       "      <td>0.0</td>\n",
       "      <td>0.0</td>\n",
       "      <td>0.0</td>\n",
       "      <td>0.0</td>\n",
       "      <td>0.0</td>\n",
       "    </tr>\n",
       "    <tr>\n",
       "      <th>4</th>\n",
       "      <td>0.378415</td>\n",
       "      <td>-0.236418</td>\n",
       "      <td>0.707278</td>\n",
       "      <td>0.552488</td>\n",
       "      <td>1.033008</td>\n",
       "      <td>1.940367</td>\n",
       "      <td>-0.172879</td>\n",
       "      <td>0.0</td>\n",
       "      <td>-0.523436</td>\n",
       "      <td>0.0</td>\n",
       "      <td>...</td>\n",
       "      <td>0.0</td>\n",
       "      <td>0.0</td>\n",
       "      <td>0.0</td>\n",
       "      <td>0.0</td>\n",
       "      <td>1.0</td>\n",
       "      <td>0.0</td>\n",
       "      <td>0.0</td>\n",
       "      <td>0.0</td>\n",
       "      <td>0.0</td>\n",
       "      <td>0.0</td>\n",
       "    </tr>\n",
       "  </tbody>\n",
       "</table>\n",
       "<p>5 rows × 34 columns</p>\n",
       "</div>"
      ],
      "text/plain": [
       "   alchemy_category_score  avg_link_size  common_word_link_ratio_1  \\\n",
       "0               -1.872733      -0.849062                 -0.797059   \n",
       "1                1.138590       1.683237                  0.391921   \n",
       "2                0.000000      -0.287824                 -0.286650   \n",
       "3                0.000000      -0.004781                  0.560692   \n",
       "4                0.378415      -0.236418                  0.707278   \n",
       "\n",
       "   common_word_link_ratio_2  common_word_link_ratio_3  \\\n",
       "0                 -0.858996                 -0.481969   \n",
       "1                  0.303407                  0.997738   \n",
       "2                 -0.095236                 -0.617647   \n",
       "3                  0.396773                 -0.240025   \n",
       "4                  0.552488                  1.033008   \n",
       "\n",
       "   common_word_link_ratio_4  compression_ratio  embed_ratio  frame_tag_ratio  \\\n",
       "0                 -0.264308           0.038624          0.0        -0.325556   \n",
       "1                  1.313617          -0.227294          0.0        -0.362489   \n",
       "2                 -0.341540         151.288241         -1.0        -0.842128   \n",
       "3                 -0.341540          -0.268525          0.0        -0.368220   \n",
       "4                  1.940367          -0.172879          0.0        -0.523436   \n",
       "\n",
       "   has_domain_link  ...  alchemy_category_culture_politics  \\\n",
       "0              0.0  ...                                0.0   \n",
       "1              0.0  ...                                1.0   \n",
       "2              0.0  ...                                0.0   \n",
       "3              0.0  ...                                0.0   \n",
       "4              0.0  ...                                0.0   \n",
       "\n",
       "   alchemy_category_gaming  alchemy_category_health  \\\n",
       "0                      0.0                      0.0   \n",
       "1                      0.0                      0.0   \n",
       "2                      0.0                      0.0   \n",
       "3                      0.0                      0.0   \n",
       "4                      0.0                      0.0   \n",
       "\n",
       "   alchemy_category_law_crime  alchemy_category_recreation  \\\n",
       "0                         0.0                          0.0   \n",
       "1                         0.0                          0.0   \n",
       "2                         0.0                          0.0   \n",
       "3                         0.0                          0.0   \n",
       "4                         0.0                          1.0   \n",
       "\n",
       "   alchemy_category_religion  alchemy_category_science_technology  \\\n",
       "0                        0.0                                  0.0   \n",
       "1                        0.0                                  0.0   \n",
       "2                        0.0                                  0.0   \n",
       "3                        0.0                                  0.0   \n",
       "4                        0.0                                  0.0   \n",
       "\n",
       "   alchemy_category_sports  alchemy_category_unknown  alchemy_category_weather  \n",
       "0                      0.0                       0.0                       0.0  \n",
       "1                      0.0                       0.0                       0.0  \n",
       "2                      0.0                       0.0                       0.0  \n",
       "3                      0.0                       0.0                       0.0  \n",
       "4                      0.0                       0.0                       0.0  \n",
       "\n",
       "[5 rows x 34 columns]"
      ]
     },
     "execution_count": 68,
     "metadata": {},
     "output_type": "execute_result"
    }
   ],
   "source": [
    "X.head()"
   ]
  },
  {
   "cell_type": "markdown",
   "id": "7a550974",
   "metadata": {
    "id": "ymcZpsCM_zyf",
    "papermill": {
     "duration": 0.040661,
     "end_time": "2022-12-11T13:42:00.170245",
     "exception": false,
     "start_time": "2022-12-11T13:42:00.129584",
     "status": "completed"
    },
    "tags": []
   },
   "source": [
    "we are concatenating all the columns obtained after the TD-IDF"
   ]
  },
  {
   "cell_type": "code",
   "execution_count": 69,
   "id": "2b64ee37",
   "metadata": {
    "execution": {
     "iopub.execute_input": "2022-12-11T13:42:00.255779Z",
     "iopub.status.busy": "2022-12-11T13:42:00.255156Z",
     "iopub.status.idle": "2022-12-11T13:42:00.261099Z",
     "shell.execute_reply": "2022-12-11T13:42:00.259895Z"
    },
    "id": "O-07pu4M-qZG",
    "papermill": {
     "duration": 0.050619,
     "end_time": "2022-12-11T13:42:00.263502",
     "exception": false,
     "start_time": "2022-12-11T13:42:00.212883",
     "status": "completed"
    },
    "tags": []
   },
   "outputs": [],
   "source": [
    "X.reset_index(inplace=True, drop=True)"
   ]
  },
  {
   "cell_type": "code",
   "execution_count": 70,
   "id": "c5ac6456",
   "metadata": {
    "execution": {
     "iopub.execute_input": "2022-12-11T13:42:00.347033Z",
     "iopub.status.busy": "2022-12-11T13:42:00.346133Z",
     "iopub.status.idle": "2022-12-11T13:42:14.589680Z",
     "shell.execute_reply": "2022-12-11T13:42:14.588100Z"
    },
    "id": "a45e87DZ_hXS",
    "papermill": {
     "duration": 14.288962,
     "end_time": "2022-12-11T13:42:14.592960",
     "exception": false,
     "start_time": "2022-12-11T13:42:00.303998",
     "status": "completed"
    },
    "tags": []
   },
   "outputs": [],
   "source": [
    "horizontal_concat = pd.concat([df_pageDescription,X], axis=1)"
   ]
  },
  {
   "cell_type": "code",
   "execution_count": 71,
   "id": "1b371880",
   "metadata": {
    "execution": {
     "iopub.execute_input": "2022-12-11T13:42:14.672875Z",
     "iopub.status.busy": "2022-12-11T13:42:14.672356Z",
     "iopub.status.idle": "2022-12-11T13:42:14.680475Z",
     "shell.execute_reply": "2022-12-11T13:42:14.679207Z"
    },
    "id": "oU1GJb6D_uVj",
    "outputId": "c3048f7d-b5de-4419-9daf-624c4ffc7491",
    "papermill": {
     "duration": 0.052229,
     "end_time": "2022-12-11T13:42:14.683893",
     "exception": false,
     "start_time": "2022-12-11T13:42:14.631664",
     "status": "completed"
    },
    "tags": []
   },
   "outputs": [
    {
     "data": {
      "text/plain": [
       "(7395, 78219)"
      ]
     },
     "execution_count": 71,
     "metadata": {},
     "output_type": "execute_result"
    }
   ],
   "source": [
    "horizontal_concat.shape"
   ]
  },
  {
   "cell_type": "code",
   "execution_count": 72,
   "id": "22d1fea5",
   "metadata": {
    "execution": {
     "iopub.execute_input": "2022-12-11T13:42:14.766027Z",
     "iopub.status.busy": "2022-12-11T13:42:14.764544Z",
     "iopub.status.idle": "2022-12-11T13:42:14.819787Z",
     "shell.execute_reply": "2022-12-11T13:42:14.818045Z"
    },
    "id": "OiXL5pui_xL4",
    "outputId": "6be10b8b-601c-4514-ba4f-41ac4ba70c18",
    "papermill": {
     "duration": 0.098871,
     "end_time": "2022-12-11T13:42:14.822604",
     "exception": false,
     "start_time": "2022-12-11T13:42:14.723733",
     "status": "completed"
    },
    "tags": []
   },
   "outputs": [
    {
     "data": {
      "text/html": [
       "<div>\n",
       "<style scoped>\n",
       "    .dataframe tbody tr th:only-of-type {\n",
       "        vertical-align: middle;\n",
       "    }\n",
       "\n",
       "    .dataframe tbody tr th {\n",
       "        vertical-align: top;\n",
       "    }\n",
       "\n",
       "    .dataframe thead th {\n",
       "        text-align: right;\n",
       "    }\n",
       "</style>\n",
       "<table border=\"1\" class=\"dataframe\">\n",
       "  <thead>\n",
       "    <tr style=\"text-align: right;\">\n",
       "      <th></th>\n",
       "      <th>pageDescription_0</th>\n",
       "      <th>pageDescription_1</th>\n",
       "      <th>pageDescription_2</th>\n",
       "      <th>pageDescription_3</th>\n",
       "      <th>pageDescription_4</th>\n",
       "      <th>pageDescription_5</th>\n",
       "      <th>pageDescription_6</th>\n",
       "      <th>pageDescription_7</th>\n",
       "      <th>pageDescription_8</th>\n",
       "      <th>pageDescription_9</th>\n",
       "      <th>...</th>\n",
       "      <th>alchemy_category_culture_politics</th>\n",
       "      <th>alchemy_category_gaming</th>\n",
       "      <th>alchemy_category_health</th>\n",
       "      <th>alchemy_category_law_crime</th>\n",
       "      <th>alchemy_category_recreation</th>\n",
       "      <th>alchemy_category_religion</th>\n",
       "      <th>alchemy_category_science_technology</th>\n",
       "      <th>alchemy_category_sports</th>\n",
       "      <th>alchemy_category_unknown</th>\n",
       "      <th>alchemy_category_weather</th>\n",
       "    </tr>\n",
       "  </thead>\n",
       "  <tbody>\n",
       "    <tr>\n",
       "      <th>7390</th>\n",
       "      <td>0.0</td>\n",
       "      <td>0.0</td>\n",
       "      <td>0.0</td>\n",
       "      <td>0.0</td>\n",
       "      <td>0.0</td>\n",
       "      <td>0.0</td>\n",
       "      <td>0.0</td>\n",
       "      <td>0.0</td>\n",
       "      <td>0.0</td>\n",
       "      <td>0.0</td>\n",
       "      <td>...</td>\n",
       "      <td>0.0</td>\n",
       "      <td>0.0</td>\n",
       "      <td>0.0</td>\n",
       "      <td>0.0</td>\n",
       "      <td>0.0</td>\n",
       "      <td>0.0</td>\n",
       "      <td>0.0</td>\n",
       "      <td>1.0</td>\n",
       "      <td>0.0</td>\n",
       "      <td>0.0</td>\n",
       "    </tr>\n",
       "    <tr>\n",
       "      <th>7391</th>\n",
       "      <td>0.0</td>\n",
       "      <td>0.0</td>\n",
       "      <td>0.0</td>\n",
       "      <td>0.0</td>\n",
       "      <td>0.0</td>\n",
       "      <td>0.0</td>\n",
       "      <td>0.0</td>\n",
       "      <td>0.0</td>\n",
       "      <td>0.0</td>\n",
       "      <td>0.0</td>\n",
       "      <td>...</td>\n",
       "      <td>0.0</td>\n",
       "      <td>0.0</td>\n",
       "      <td>0.0</td>\n",
       "      <td>0.0</td>\n",
       "      <td>0.0</td>\n",
       "      <td>0.0</td>\n",
       "      <td>0.0</td>\n",
       "      <td>0.0</td>\n",
       "      <td>0.0</td>\n",
       "      <td>0.0</td>\n",
       "    </tr>\n",
       "    <tr>\n",
       "      <th>7392</th>\n",
       "      <td>0.0</td>\n",
       "      <td>0.0</td>\n",
       "      <td>0.0</td>\n",
       "      <td>0.0</td>\n",
       "      <td>0.0</td>\n",
       "      <td>0.0</td>\n",
       "      <td>0.0</td>\n",
       "      <td>0.0</td>\n",
       "      <td>0.0</td>\n",
       "      <td>0.0</td>\n",
       "      <td>...</td>\n",
       "      <td>1.0</td>\n",
       "      <td>0.0</td>\n",
       "      <td>0.0</td>\n",
       "      <td>0.0</td>\n",
       "      <td>0.0</td>\n",
       "      <td>0.0</td>\n",
       "      <td>0.0</td>\n",
       "      <td>0.0</td>\n",
       "      <td>0.0</td>\n",
       "      <td>0.0</td>\n",
       "    </tr>\n",
       "    <tr>\n",
       "      <th>7393</th>\n",
       "      <td>0.0</td>\n",
       "      <td>0.0</td>\n",
       "      <td>0.0</td>\n",
       "      <td>0.0</td>\n",
       "      <td>0.0</td>\n",
       "      <td>0.0</td>\n",
       "      <td>0.0</td>\n",
       "      <td>0.0</td>\n",
       "      <td>0.0</td>\n",
       "      <td>0.0</td>\n",
       "      <td>...</td>\n",
       "      <td>1.0</td>\n",
       "      <td>0.0</td>\n",
       "      <td>0.0</td>\n",
       "      <td>0.0</td>\n",
       "      <td>0.0</td>\n",
       "      <td>0.0</td>\n",
       "      <td>0.0</td>\n",
       "      <td>0.0</td>\n",
       "      <td>0.0</td>\n",
       "      <td>0.0</td>\n",
       "    </tr>\n",
       "    <tr>\n",
       "      <th>7394</th>\n",
       "      <td>0.0</td>\n",
       "      <td>0.0</td>\n",
       "      <td>0.0</td>\n",
       "      <td>0.0</td>\n",
       "      <td>0.0</td>\n",
       "      <td>0.0</td>\n",
       "      <td>0.0</td>\n",
       "      <td>0.0</td>\n",
       "      <td>0.0</td>\n",
       "      <td>0.0</td>\n",
       "      <td>...</td>\n",
       "      <td>0.0</td>\n",
       "      <td>0.0</td>\n",
       "      <td>0.0</td>\n",
       "      <td>0.0</td>\n",
       "      <td>0.0</td>\n",
       "      <td>0.0</td>\n",
       "      <td>0.0</td>\n",
       "      <td>1.0</td>\n",
       "      <td>0.0</td>\n",
       "      <td>0.0</td>\n",
       "    </tr>\n",
       "  </tbody>\n",
       "</table>\n",
       "<p>5 rows × 78219 columns</p>\n",
       "</div>"
      ],
      "text/plain": [
       "      pageDescription_0  pageDescription_1  pageDescription_2  \\\n",
       "7390                0.0                0.0                0.0   \n",
       "7391                0.0                0.0                0.0   \n",
       "7392                0.0                0.0                0.0   \n",
       "7393                0.0                0.0                0.0   \n",
       "7394                0.0                0.0                0.0   \n",
       "\n",
       "      pageDescription_3  pageDescription_4  pageDescription_5  \\\n",
       "7390                0.0                0.0                0.0   \n",
       "7391                0.0                0.0                0.0   \n",
       "7392                0.0                0.0                0.0   \n",
       "7393                0.0                0.0                0.0   \n",
       "7394                0.0                0.0                0.0   \n",
       "\n",
       "      pageDescription_6  pageDescription_7  pageDescription_8  \\\n",
       "7390                0.0                0.0                0.0   \n",
       "7391                0.0                0.0                0.0   \n",
       "7392                0.0                0.0                0.0   \n",
       "7393                0.0                0.0                0.0   \n",
       "7394                0.0                0.0                0.0   \n",
       "\n",
       "      pageDescription_9  ...  alchemy_category_culture_politics  \\\n",
       "7390                0.0  ...                                0.0   \n",
       "7391                0.0  ...                                0.0   \n",
       "7392                0.0  ...                                1.0   \n",
       "7393                0.0  ...                                1.0   \n",
       "7394                0.0  ...                                0.0   \n",
       "\n",
       "      alchemy_category_gaming  alchemy_category_health  \\\n",
       "7390                      0.0                      0.0   \n",
       "7391                      0.0                      0.0   \n",
       "7392                      0.0                      0.0   \n",
       "7393                      0.0                      0.0   \n",
       "7394                      0.0                      0.0   \n",
       "\n",
       "      alchemy_category_law_crime  alchemy_category_recreation  \\\n",
       "7390                         0.0                          0.0   \n",
       "7391                         0.0                          0.0   \n",
       "7392                         0.0                          0.0   \n",
       "7393                         0.0                          0.0   \n",
       "7394                         0.0                          0.0   \n",
       "\n",
       "      alchemy_category_religion  alchemy_category_science_technology  \\\n",
       "7390                        0.0                                  0.0   \n",
       "7391                        0.0                                  0.0   \n",
       "7392                        0.0                                  0.0   \n",
       "7393                        0.0                                  0.0   \n",
       "7394                        0.0                                  0.0   \n",
       "\n",
       "      alchemy_category_sports  alchemy_category_unknown  \\\n",
       "7390                      1.0                       0.0   \n",
       "7391                      0.0                       0.0   \n",
       "7392                      0.0                       0.0   \n",
       "7393                      0.0                       0.0   \n",
       "7394                      1.0                       0.0   \n",
       "\n",
       "      alchemy_category_weather  \n",
       "7390                       0.0  \n",
       "7391                       0.0  \n",
       "7392                       0.0  \n",
       "7393                       0.0  \n",
       "7394                       0.0  \n",
       "\n",
       "[5 rows x 78219 columns]"
      ]
     },
     "execution_count": 72,
     "metadata": {},
     "output_type": "execute_result"
    }
   ],
   "source": [
    "horizontal_concat.tail()"
   ]
  },
  {
   "cell_type": "markdown",
   "id": "6b5c9c3e",
   "metadata": {
    "id": "_g2UNhYBAIX3",
    "papermill": {
     "duration": 0.039691,
     "end_time": "2022-12-11T13:42:14.900651",
     "exception": false,
     "start_time": "2022-12-11T13:42:14.860960",
     "status": "completed"
    },
    "tags": []
   },
   "source": [
    "# Train-Test Split"
   ]
  },
  {
   "cell_type": "code",
   "execution_count": 73,
   "id": "1f7169de",
   "metadata": {
    "execution": {
     "iopub.execute_input": "2022-12-11T13:42:15.083836Z",
     "iopub.status.busy": "2022-12-11T13:42:15.083358Z",
     "iopub.status.idle": "2022-12-11T13:42:15.088682Z",
     "shell.execute_reply": "2022-12-11T13:42:15.087483Z"
    },
    "id": "rv8poE_HAR4q",
    "papermill": {
     "duration": 0.152428,
     "end_time": "2022-12-11T13:42:15.091779",
     "exception": false,
     "start_time": "2022-12-11T13:42:14.939351",
     "status": "completed"
    },
    "tags": []
   },
   "outputs": [],
   "source": [
    "# import numpy as np\n",
    "# from sklearn.model_selection import train_test_split"
   ]
  },
  {
   "cell_type": "code",
   "execution_count": 74,
   "id": "89c61709",
   "metadata": {
    "execution": {
     "iopub.execute_input": "2022-12-11T13:42:15.174269Z",
     "iopub.status.busy": "2022-12-11T13:42:15.173420Z",
     "iopub.status.idle": "2022-12-11T13:42:15.178970Z",
     "shell.execute_reply": "2022-12-11T13:42:15.177922Z"
    },
    "id": "dfV7rEFWAY-7",
    "papermill": {
     "duration": 0.050438,
     "end_time": "2022-12-11T13:42:15.181513",
     "exception": false,
     "start_time": "2022-12-11T13:42:15.131075",
     "status": "completed"
    },
    "tags": []
   },
   "outputs": [],
   "source": [
    "# X_train, X_test, y_train, y_test = train_test_split(horizontal_concat, Y, test_size=0.33, random_state=42)"
   ]
  },
  {
   "cell_type": "code",
   "execution_count": 75,
   "id": "f74da78c",
   "metadata": {
    "execution": {
     "iopub.execute_input": "2022-12-11T13:42:15.267004Z",
     "iopub.status.busy": "2022-12-11T13:42:15.266237Z",
     "iopub.status.idle": "2022-12-11T13:42:15.271347Z",
     "shell.execute_reply": "2022-12-11T13:42:15.270382Z"
    },
    "id": "6NqERytVAgG9",
    "papermill": {
     "duration": 0.05305,
     "end_time": "2022-12-11T13:42:15.273916",
     "exception": false,
     "start_time": "2022-12-11T13:42:15.220866",
     "status": "completed"
    },
    "tags": []
   },
   "outputs": [],
   "source": [
    "# print(\"Shape of new dataframes - {} , {}\".format(X_train.shape, X_test.shape, y_train.shape, y_test.shape))"
   ]
  },
  {
   "cell_type": "code",
   "execution_count": 76,
   "id": "e2a9468d",
   "metadata": {
    "execution": {
     "iopub.execute_input": "2022-12-11T13:42:15.357826Z",
     "iopub.status.busy": "2022-12-11T13:42:15.357090Z",
     "iopub.status.idle": "2022-12-11T13:42:15.361947Z",
     "shell.execute_reply": "2022-12-11T13:42:15.361012Z"
    },
    "id": "P2VDMtp5SYW2",
    "papermill": {
     "duration": 0.0487,
     "end_time": "2022-12-11T13:42:15.364263",
     "exception": false,
     "start_time": "2022-12-11T13:42:15.315563",
     "status": "completed"
    },
    "tags": []
   },
   "outputs": [],
   "source": [
    "# y_train"
   ]
  },
  {
   "cell_type": "code",
   "execution_count": 77,
   "id": "4aed8367",
   "metadata": {
    "execution": {
     "iopub.execute_input": "2022-12-11T13:42:15.446509Z",
     "iopub.status.busy": "2022-12-11T13:42:15.445872Z",
     "iopub.status.idle": "2022-12-11T13:42:15.458118Z",
     "shell.execute_reply": "2022-12-11T13:42:15.456137Z"
    },
    "id": "Lm385F-XetYp",
    "outputId": "c56f472e-16ee-42ac-abe9-0d7862b5e6fe",
    "papermill": {
     "duration": 0.056483,
     "end_time": "2022-12-11T13:42:15.461082",
     "exception": false,
     "start_time": "2022-12-11T13:42:15.404599",
     "status": "completed"
    },
    "tags": []
   },
   "outputs": [
    {
     "name": "stdout",
     "output_type": "stream",
     "text": [
      "Shape of new dataframes - (2958, 78219) , (4437, 78219)\n",
      "Y_train_df shape :  (4437,)\n"
     ]
    }
   ],
   "source": [
    "X_test_df = horizontal_concat.iloc[:2958,:]\n",
    "X_train_df  = horizontal_concat.iloc[2958:,:]\n",
    "print(\"Shape of new dataframes - {} , {}\".format(X_test_df.shape, X_train_df.shape))\n",
    "\n",
    "Y_train = train_df['label']\n",
    "print(\"Y_train_df shape : \",Y_train.shape)"
   ]
  },
  {
   "cell_type": "markdown",
   "id": "d5351651",
   "metadata": {
    "papermill": {
     "duration": 0.038157,
     "end_time": "2022-12-11T13:42:15.538250",
     "exception": false,
     "start_time": "2022-12-11T13:42:15.500093",
     "status": "completed"
    },
    "tags": []
   },
   "source": [
    "# **LOGISTIC REGRESSION**"
   ]
  },
  {
   "cell_type": "code",
   "execution_count": 78,
   "id": "9689a959",
   "metadata": {
    "execution": {
     "iopub.execute_input": "2022-12-11T13:42:15.622331Z",
     "iopub.status.busy": "2022-12-11T13:42:15.621441Z",
     "iopub.status.idle": "2022-12-11T13:42:15.630475Z",
     "shell.execute_reply": "2022-12-11T13:42:15.628815Z"
    },
    "papermill": {
     "duration": 0.055993,
     "end_time": "2022-12-11T13:42:15.633442",
     "exception": false,
     "start_time": "2022-12-11T13:42:15.577449",
     "status": "completed"
    },
    "tags": []
   },
   "outputs": [
    {
     "data": {
      "text/plain": [
       "'using logistic regression'"
      ]
     },
     "execution_count": 78,
     "metadata": {},
     "output_type": "execute_result"
    }
   ],
   "source": [
    "\"\"\"using logistic regression\"\"\"\n",
    "# from sklearn.linear_model import LogisticRegression\n",
    "\n",
    "# instantiate the model (using the default parameters)\n",
    "# logreg = LogisticRegression(max_iter = 1500)\n",
    "\n",
    "# fit the model with data\n",
    "# logreg.fit(X_train_df, Y_train)\n",
    "\n",
    "#[:,1] this is applied to take positive probablities\n",
    "# y_pred_logreg=logreg.predict_proba(X_test_df)[:,1]"
   ]
  },
  {
   "cell_type": "markdown",
   "id": "43a532ae",
   "metadata": {
    "id": "pXeZDnClT3p-",
    "papermill": {
     "duration": 0.039761,
     "end_time": "2022-12-11T13:42:15.715840",
     "exception": false,
     "start_time": "2022-12-11T13:42:15.676079",
     "status": "completed"
    },
    "tags": []
   },
   "source": [
    "# RANDOM FOREST"
   ]
  },
  {
   "cell_type": "code",
   "execution_count": 79,
   "id": "328f26f2",
   "metadata": {
    "execution": {
     "iopub.execute_input": "2022-12-11T13:42:15.802790Z",
     "iopub.status.busy": "2022-12-11T13:42:15.801874Z",
     "iopub.status.idle": "2022-12-11T13:42:15.806513Z",
     "shell.execute_reply": "2022-12-11T13:42:15.805537Z"
    },
    "id": "zbcTKgI_TwL1",
    "papermill": {
     "duration": 0.051767,
     "end_time": "2022-12-11T13:42:15.809009",
     "exception": false,
     "start_time": "2022-12-11T13:42:15.757242",
     "status": "completed"
    },
    "tags": []
   },
   "outputs": [],
   "source": [
    "# importing random forest classifier from assemble module\n",
    "# from sklearn.ensemble import RandomForestClassifier"
   ]
  },
  {
   "cell_type": "code",
   "execution_count": 80,
   "id": "14fc0393",
   "metadata": {
    "execution": {
     "iopub.execute_input": "2022-12-11T13:42:15.895032Z",
     "iopub.status.busy": "2022-12-11T13:42:15.894052Z",
     "iopub.status.idle": "2022-12-11T13:42:15.898796Z",
     "shell.execute_reply": "2022-12-11T13:42:15.897938Z"
    },
    "id": "R1k6XA0zUT2J",
    "papermill": {
     "duration": 0.050891,
     "end_time": "2022-12-11T13:42:15.901142",
     "exception": false,
     "start_time": "2022-12-11T13:42:15.850251",
     "status": "completed"
    },
    "tags": []
   },
   "outputs": [],
   "source": [
    "# creating a RF classifier\n",
    "# clf = RandomForestClassifier(n_estimators = 10000) \n",
    " \n",
    "# Training the model on the training dataset\n",
    "# fit function is used to train the model using the training sets as parameters\n",
    "# clf.fit(X_train_df, Y_train)\n",
    "\n",
    "# performing predictions on the test dataset\n",
    "# y_pred = clf.predict_proba(X_test_df)[:, 1]"
   ]
  },
  {
   "cell_type": "markdown",
   "id": "b241b479",
   "metadata": {
    "papermill": {
     "duration": 0.042578,
     "end_time": "2022-12-11T13:42:15.985939",
     "exception": false,
     "start_time": "2022-12-11T13:42:15.943361",
     "status": "completed"
    },
    "tags": []
   },
   "source": [
    "# **XG BOOST**"
   ]
  },
  {
   "cell_type": "code",
   "execution_count": 81,
   "id": "cb663207",
   "metadata": {
    "execution": {
     "iopub.execute_input": "2022-12-11T13:42:16.071462Z",
     "iopub.status.busy": "2022-12-11T13:42:16.070413Z",
     "iopub.status.idle": "2022-12-11T13:42:16.075713Z",
     "shell.execute_reply": "2022-12-11T13:42:16.074202Z"
    },
    "papermill": {
     "duration": 0.04958,
     "end_time": "2022-12-11T13:42:16.077995",
     "exception": false,
     "start_time": "2022-12-11T13:42:16.028415",
     "status": "completed"
    },
    "tags": []
   },
   "outputs": [],
   "source": [
    "# import xgboost as xgb\n",
    "\n",
    "# clf = xgb.XGBClassifier(max_depth=7, n_estimators=200, colsample_bytree=0.8, \n",
    "#                         subsample=0.8, nthread=10, learning_rate=0.1)\n",
    "# clf.fit(X_train_df, Y_train)\n",
    "\n",
    "# y_pred_xgboost= clf.predict_proba(X_test_df)[:,1]"
   ]
  },
  {
   "cell_type": "markdown",
   "id": "26d56304",
   "metadata": {
    "papermill": {
     "duration": 0.041477,
     "end_time": "2022-12-11T13:42:16.159734",
     "exception": false,
     "start_time": "2022-12-11T13:42:16.118257",
     "status": "completed"
    },
    "tags": []
   },
   "source": [
    "# **LINEAR SVM**"
   ]
  },
  {
   "cell_type": "code",
   "execution_count": 82,
   "id": "ff8c6377",
   "metadata": {
    "execution": {
     "iopub.execute_input": "2022-12-11T13:42:16.242462Z",
     "iopub.status.busy": "2022-12-11T13:42:16.241725Z",
     "iopub.status.idle": "2022-12-11T14:49:08.458398Z",
     "shell.execute_reply": "2022-12-11T14:49:08.455327Z"
    },
    "papermill": {
     "duration": 4012.264246,
     "end_time": "2022-12-11T14:49:08.464195",
     "exception": false,
     "start_time": "2022-12-11T13:42:16.199949",
     "status": "completed"
    },
    "tags": []
   },
   "outputs": [],
   "source": [
    "from sklearn import svm\n",
    "\n",
    "#Create a svm Classifier\n",
    "clf = svm.SVC(kernel='linear',probability=True) # Linear Kernel\n",
    "\n",
    "#Train the model using the training sets\n",
    "clf.fit(X_train_df, Y_train)\n",
    "\n",
    "y_pred_svm = clf.predict_proba(X_test_df)[:,1]"
   ]
  },
  {
   "cell_type": "code",
   "execution_count": 83,
   "id": "1e8002ba",
   "metadata": {
    "execution": {
     "iopub.execute_input": "2022-12-11T14:49:08.612777Z",
     "iopub.status.busy": "2022-12-11T14:49:08.612313Z",
     "iopub.status.idle": "2022-12-11T14:49:08.622265Z",
     "shell.execute_reply": "2022-12-11T14:49:08.620980Z"
    },
    "papermill": {
     "duration": 0.055897,
     "end_time": "2022-12-11T14:49:08.624715",
     "exception": false,
     "start_time": "2022-12-11T14:49:08.568818",
     "status": "completed"
    },
    "tags": []
   },
   "outputs": [
    {
     "data": {
      "text/plain": [
       "array([0.96302463, 0.15398492, 0.306727  , ..., 0.25478045, 0.37425205,\n",
       "       0.23479418])"
      ]
     },
     "execution_count": 83,
     "metadata": {},
     "output_type": "execute_result"
    }
   ],
   "source": [
    "# y_pred\n",
    "# y_pred_logreg\n",
    "# y_pred_xgboost\n",
    "y_pred_svm"
   ]
  },
  {
   "cell_type": "code",
   "execution_count": 84,
   "id": "b7354d02",
   "metadata": {
    "execution": {
     "iopub.execute_input": "2022-12-11T14:49:08.707679Z",
     "iopub.status.busy": "2022-12-11T14:49:08.706852Z",
     "iopub.status.idle": "2022-12-11T14:49:08.748379Z",
     "shell.execute_reply": "2022-12-11T14:49:08.747176Z"
    },
    "id": "9Fi9B-DtUZYC",
    "papermill": {
     "duration": 0.086174,
     "end_time": "2022-12-11T14:49:08.751190",
     "exception": false,
     "start_time": "2022-12-11T14:49:08.665016",
     "status": "completed"
    },
    "tags": []
   },
   "outputs": [],
   "source": [
    "sample_sum=pd.read_csv(\"../input/aid-escalating-internet-coverage/sample_submission.csv\")\n",
    "sample_sum[\"label\"]=y_pred_svm\n",
    "sample_sum.to_csv(\"./sum.csv\",index=False)\n"
   ]
  },
  {
   "cell_type": "code",
   "execution_count": null,
   "id": "bea9a0dd",
   "metadata": {
    "papermill": {
     "duration": 0.041557,
     "end_time": "2022-12-11T14:49:08.912572",
     "exception": false,
     "start_time": "2022-12-11T14:49:08.871015",
     "status": "completed"
    },
    "tags": []
   },
   "outputs": [],
   "source": []
  }
 ],
 "metadata": {
  "kernelspec": {
   "display_name": "Python 3",
   "language": "python",
   "name": "python3"
  },
  "language_info": {
   "codemirror_mode": {
    "name": "ipython",
    "version": 3
   },
   "file_extension": ".py",
   "mimetype": "text/x-python",
   "name": "python",
   "nbconvert_exporter": "python",
   "pygments_lexer": "ipython3",
   "version": "3.7.12"
  },
  "papermill": {
   "default_parameters": {},
   "duration": 4078.488568,
   "end_time": "2022-12-11T14:49:10.693165",
   "environment_variables": {},
   "exception": null,
   "input_path": "__notebook__.ipynb",
   "output_path": "__notebook__.ipynb",
   "parameters": {},
   "start_time": "2022-12-11T13:41:12.204597",
   "version": "2.3.4"
  }
 },
 "nbformat": 4,
 "nbformat_minor": 5
}
